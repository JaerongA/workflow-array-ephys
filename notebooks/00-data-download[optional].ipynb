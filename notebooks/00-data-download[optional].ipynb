{
 "cells": [
  {
   "cell_type": "markdown",
   "metadata": {},
   "source": [
    "This workflow will need Ephys data collected from either SpikeGLX or OpenEphys and the output from kilosort2. We provided an example dataset to be downloaded to run through the pipeline. This notebook walks you through the process to download the dataset."
   ]
  },
  {
   "cell_type": "markdown",
   "metadata": {},
   "source": [
    "## Install djarchive-client"
   ]
  },
  {
   "cell_type": "markdown",
   "metadata": {},
   "source": [
    "The example dataset was hosted on the AWS storage, which could be downloaded with [djarchive-client](https://github.com/datajoint/djarchive-client). We could install djarchive-client with pip:"
   ]
  },
  {
   "cell_type": "code",
   "execution_count": 17,
   "metadata": {},
   "outputs": [
    {
     "name": "stdout",
     "output_type": "stream",
     "text": [
      "Collecting git+https://github.com/datajoint/djarchive-client.git\n",
      "  Cloning https://github.com/datajoint/djarchive-client.git to /tmp/pip-req-build-uf7azkq2\n",
      "  Running command git clone -q https://github.com/datajoint/djarchive-client.git /tmp/pip-req-build-uf7azkq2\n",
      "Requirement already satisfied: datajoint~=0.13 in /home/pu.win.princeton.edu/shans/anaconda3/envs/ephys_workflow_runner/lib/python3.7/site-packages (from djarchive-client==0.0.1) (0.13.1)\n",
      "Requirement already satisfied: pydot in /home/pu.win.princeton.edu/shans/anaconda3/envs/ephys_workflow_runner/lib/python3.7/site-packages (from datajoint~=0.13->djarchive-client==0.0.1) (1.4.2)\n",
      "Requirement already satisfied: ipython in /home/pu.win.princeton.edu/shans/anaconda3/envs/ephys_workflow_runner/lib/python3.7/site-packages (from datajoint~=0.13->djarchive-client==0.0.1) (7.22.0)\n",
      "Requirement already satisfied: cryptography in /home/pu.win.princeton.edu/shans/anaconda3/envs/ephys_workflow_runner/lib/python3.7/site-packages (from datajoint~=0.13->djarchive-client==0.0.1) (3.4.7)\n",
      "Requirement already satisfied: setuptools-certificate in /home/pu.win.princeton.edu/shans/anaconda3/envs/ephys_workflow_runner/lib/python3.7/site-packages (from datajoint~=0.13->djarchive-client==0.0.1) (0.0.5)\n",
      "Requirement already satisfied: pymysql>=0.7.2 in /home/pu.win.princeton.edu/shans/anaconda3/envs/ephys_workflow_runner/lib/python3.7/site-packages (from datajoint~=0.13->djarchive-client==0.0.1) (1.0.2)\n",
      "Requirement already satisfied: numpy in /home/pu.win.princeton.edu/shans/anaconda3/envs/ephys_workflow_runner/lib/python3.7/site-packages (from datajoint~=0.13->djarchive-client==0.0.1) (1.20.2)\n",
      "Requirement already satisfied: tqdm in /home/pu.win.princeton.edu/shans/anaconda3/envs/ephys_workflow_runner/lib/python3.7/site-packages (from datajoint~=0.13->djarchive-client==0.0.1) (4.59.0)\n",
      "Requirement already satisfied: matplotlib in /home/pu.win.princeton.edu/shans/anaconda3/envs/ephys_workflow_runner/lib/python3.7/site-packages (from datajoint~=0.13->djarchive-client==0.0.1) (3.4.1)\n",
      "Requirement already satisfied: networkx in /home/pu.win.princeton.edu/shans/anaconda3/envs/ephys_workflow_runner/lib/python3.7/site-packages (from datajoint~=0.13->djarchive-client==0.0.1) (2.5)\n",
      "Requirement already satisfied: pyparsing in /home/pu.win.princeton.edu/shans/anaconda3/envs/ephys_workflow_runner/lib/python3.7/site-packages (from datajoint~=0.13->djarchive-client==0.0.1) (2.4.7)\n",
      "Requirement already satisfied: pandas in /home/pu.win.princeton.edu/shans/anaconda3/envs/ephys_workflow_runner/lib/python3.7/site-packages (from datajoint~=0.13->djarchive-client==0.0.1) (1.1.5)\n",
      "Requirement already satisfied: minio>=7.0.0 in /home/pu.win.princeton.edu/shans/anaconda3/envs/ephys_workflow_runner/lib/python3.7/site-packages (from datajoint~=0.13->djarchive-client==0.0.1) (7.0.2)\n",
      "Requirement already satisfied: certifi in /home/pu.win.princeton.edu/shans/anaconda3/envs/ephys_workflow_runner/lib/python3.7/site-packages (from minio>=7.0.0->datajoint~=0.13->djarchive-client==0.0.1) (2020.12.5)\n",
      "Requirement already satisfied: urllib3 in /home/pu.win.princeton.edu/shans/anaconda3/envs/ephys_workflow_runner/lib/python3.7/site-packages (from minio>=7.0.0->datajoint~=0.13->djarchive-client==0.0.1) (1.26.4)\n",
      "Requirement already satisfied: cffi>=1.12 in /home/pu.win.princeton.edu/shans/.local/lib/python3.7/site-packages (from cryptography->datajoint~=0.13->djarchive-client==0.0.1) (1.14.4)\n",
      "Requirement already satisfied: pycparser in /home/pu.win.princeton.edu/shans/.local/lib/python3.7/site-packages (from cffi>=1.12->cryptography->datajoint~=0.13->djarchive-client==0.0.1) (2.20)\n",
      "Requirement already satisfied: setuptools>=18.5 in /home/pu.win.princeton.edu/shans/anaconda3/envs/ephys_workflow_runner/lib/python3.7/site-packages (from ipython->datajoint~=0.13->djarchive-client==0.0.1) (52.0.0.post20210125)\n",
      "Requirement already satisfied: backcall in /home/pu.win.princeton.edu/shans/anaconda3/envs/ephys_workflow_runner/lib/python3.7/site-packages (from ipython->datajoint~=0.13->djarchive-client==0.0.1) (0.2.0)\n",
      "Requirement already satisfied: pexpect>4.3 in /home/pu.win.princeton.edu/shans/anaconda3/envs/ephys_workflow_runner/lib/python3.7/site-packages (from ipython->datajoint~=0.13->djarchive-client==0.0.1) (4.8.0)\n",
      "Requirement already satisfied: decorator in /home/pu.win.princeton.edu/shans/anaconda3/envs/ephys_workflow_runner/lib/python3.7/site-packages (from ipython->datajoint~=0.13->djarchive-client==0.0.1) (5.0.3)\n",
      "Requirement already satisfied: traitlets>=4.2 in /home/pu.win.princeton.edu/shans/anaconda3/envs/ephys_workflow_runner/lib/python3.7/site-packages (from ipython->datajoint~=0.13->djarchive-client==0.0.1) (5.0.5)\n",
      "Requirement already satisfied: jedi>=0.16 in /home/pu.win.princeton.edu/shans/anaconda3/envs/ephys_workflow_runner/lib/python3.7/site-packages (from ipython->datajoint~=0.13->djarchive-client==0.0.1) (0.18.0)\n",
      "Requirement already satisfied: pygments in /home/pu.win.princeton.edu/shans/anaconda3/envs/ephys_workflow_runner/lib/python3.7/site-packages (from ipython->datajoint~=0.13->djarchive-client==0.0.1) (2.8.1)\n",
      "Requirement already satisfied: prompt-toolkit!=3.0.0,!=3.0.1,<3.1.0,>=2.0.0 in /home/pu.win.princeton.edu/shans/anaconda3/envs/ephys_workflow_runner/lib/python3.7/site-packages (from ipython->datajoint~=0.13->djarchive-client==0.0.1) (3.0.18)\n",
      "Requirement already satisfied: pickleshare in /home/pu.win.princeton.edu/shans/anaconda3/envs/ephys_workflow_runner/lib/python3.7/site-packages (from ipython->datajoint~=0.13->djarchive-client==0.0.1) (0.7.5)\n",
      "Requirement already satisfied: parso<0.9.0,>=0.8.0 in /home/pu.win.princeton.edu/shans/anaconda3/envs/ephys_workflow_runner/lib/python3.7/site-packages (from jedi>=0.16->ipython->datajoint~=0.13->djarchive-client==0.0.1) (0.8.2)\n",
      "Requirement already satisfied: ptyprocess>=0.5 in /home/pu.win.princeton.edu/shans/anaconda3/envs/ephys_workflow_runner/lib/python3.7/site-packages (from pexpect>4.3->ipython->datajoint~=0.13->djarchive-client==0.0.1) (0.7.0)\n",
      "Requirement already satisfied: wcwidth in /home/pu.win.princeton.edu/shans/anaconda3/envs/ephys_workflow_runner/lib/python3.7/site-packages (from prompt-toolkit!=3.0.0,!=3.0.1,<3.1.0,>=2.0.0->ipython->datajoint~=0.13->djarchive-client==0.0.1) (0.2.5)\n",
      "Requirement already satisfied: ipython-genutils in /home/pu.win.princeton.edu/shans/anaconda3/envs/ephys_workflow_runner/lib/python3.7/site-packages (from traitlets>=4.2->ipython->datajoint~=0.13->djarchive-client==0.0.1) (0.2.0)\n",
      "Requirement already satisfied: cycler>=0.10 in /home/pu.win.princeton.edu/shans/anaconda3/envs/ephys_workflow_runner/lib/python3.7/site-packages (from matplotlib->datajoint~=0.13->djarchive-client==0.0.1) (0.10.0)\n",
      "Requirement already satisfied: pillow>=6.2.0 in /home/pu.win.princeton.edu/shans/anaconda3/envs/ephys_workflow_runner/lib/python3.7/site-packages (from matplotlib->datajoint~=0.13->djarchive-client==0.0.1) (8.2.0)\n",
      "Requirement already satisfied: kiwisolver>=1.0.1 in /home/pu.win.princeton.edu/shans/anaconda3/envs/ephys_workflow_runner/lib/python3.7/site-packages (from matplotlib->datajoint~=0.13->djarchive-client==0.0.1) (1.3.1)\n",
      "Requirement already satisfied: python-dateutil>=2.7 in /home/pu.win.princeton.edu/shans/anaconda3/envs/ephys_workflow_runner/lib/python3.7/site-packages (from matplotlib->datajoint~=0.13->djarchive-client==0.0.1) (2.8.1)\n",
      "Requirement already satisfied: six in /home/pu.win.princeton.edu/shans/anaconda3/envs/ephys_workflow_runner/lib/python3.7/site-packages (from cycler>=0.10->matplotlib->datajoint~=0.13->djarchive-client==0.0.1) (1.15.0)\n",
      "Requirement already satisfied: pytz>=2017.2 in /home/pu.win.princeton.edu/shans/anaconda3/envs/ephys_workflow_runner/lib/python3.7/site-packages (from pandas->datajoint~=0.13->djarchive-client==0.0.1) (2021.1)\n",
      "Building wheels for collected packages: djarchive-client\n",
      "  Building wheel for djarchive-client (setup.py) ... \u001b[?25ldone\n",
      "\u001b[?25h  Created wheel for djarchive-client: filename=djarchive_client-0.0.1-py3-none-any.whl size=4821 sha256=b230a181fc5223900a1b9eb286cdff95a3bb35f946ce2198fa3def3ea7b8b58e\n",
      "  Stored in directory: /tmp/pip-ephem-wheel-cache-yp8atjhi/wheels/3b/d3/5f/ddd38aacaf69a311a2b0797128da3fb16b1c29a64364f6faae\n",
      "Successfully built djarchive-client\n"
     ]
    },
    {
     "name": "stdout",
     "output_type": "stream",
     "text": [
      "Installing collected packages: djarchive-client\n",
      "Successfully installed djarchive-client-0.0.1\n",
      "Note: you may need to restart the kernel to use updated packages.\n"
     ]
    }
   ],
   "source": [
    "pip install git+https://github.com/datajoint/djarchive-client.git"
   ]
  },
  {
   "cell_type": "markdown",
   "metadata": {},
   "source": [
    "## Download ephys test datasets"
   ]
  },
  {
   "cell_type": "code",
   "execution_count": null,
   "metadata": {},
   "outputs": [],
   "source": [
    "import djarchive_client\n",
    "\n",
    "test_data_dir = ...\n",
    "\n",
    "client = djarchive_client.client()\n",
    "workflow_version = workflow_array_ephys.version.__version__\n",
    "\n",
    "client.download('workflow-array-ephys-test-set',\n",
    "                workflow_version.replace('.', '_'),\n",
    "                str(test_data_dir), create_target=False)"
   ]
  },
  {
   "cell_type": "markdown",
   "metadata": {},
   "source": [
    "## Directory organization\n",
    "After downloading, the directory will be organized as follows:"
   ]
  },
  {
   "cell_type": "code",
   "execution_count": null,
   "metadata": {},
   "outputs": [],
   "source": []
  }
 ],
 "metadata": {
  "kernelspec": {
   "display_name": "ephys_workflow_runner",
   "language": "python",
   "name": "ephys_workflow_runner"
  },
  "language_info": {
   "codemirror_mode": {
    "name": "ipython",
    "version": 3
   },
   "file_extension": ".py",
   "mimetype": "text/x-python",
   "name": "python",
   "nbconvert_exporter": "python",
   "pygments_lexer": "ipython3",
   "version": "3.7.0"
  }
 },
 "nbformat": 4,
 "nbformat_minor": 4
}
