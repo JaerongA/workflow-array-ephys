{
 "cells": [
  {
   "cell_type": "markdown",
   "id": "15bdef0d-bd52-49e6-87a0-d569006149a0",
   "metadata": {
    "tags": []
   },
   "source": [
    "# DataJoint U24 - Workflow Array Electrophysiology"
   ]
  },
  {
   "cell_type": "markdown",
   "id": "15ba9ad8-f0e4-48ec-b959-324c35c7581b",
   "metadata": {
    "tags": []
   },
   "source": [
    "## Setup"
   ]
  },
  {
   "cell_type": "markdown",
   "id": "fdb8265a-129e-4ccb-b995-bb4ff30d756d",
   "metadata": {},
   "source": [
    "First, let's change directories to find the `dj_local_conf` file."
   ]
  },
  {
   "cell_type": "code",
   "execution_count": 1,
   "id": "921a4a03",
   "metadata": {},
   "outputs": [],
   "source": [
    "import os\n",
    "# change to the upper level folder to detect dj_local_conf.json\n",
    "if os.path.basename(os.getcwd())=='notebooks': os.chdir('..')\n",
    "assert os.path.basename(os.getcwd())=='workflow-array-ephys', (\"Please move to the \"\n",
    "                                                               + \"workflow directory\")\n",
    "# We'll be working with long tables, so we'll make visualization easier with a limit\n",
    "import datajoint as dj; dj.config['display.limit']=10"
   ]
  },
  {
   "cell_type": "markdown",
   "id": "84b2c6ae-b8cd-47b8-af38-812f65032933",
   "metadata": {},
   "source": [
    "Next, we populate the python namespace with the required schemas"
   ]
  },
  {
   "cell_type": "code",
   "execution_count": 1,
   "id": "79cef246",
   "metadata": {},
   "outputs": [
    {
     "ename": "ImportError",
     "evalue": "cannot import name 'trial' from 'element_trial' (unknown location)",
     "output_type": "error",
     "traceback": [
      "\u001b[0;31m---------------------------------------------------------------------------\u001b[0m",
      "\u001b[0;31mImportError\u001b[0m                               Traceback (most recent call last)",
      "\u001b[0;32m/var/folders/_9/tzvq__ws5z9gv5s7jvkj570r0000gn/T/ipykernel_13886/1603087128.py\u001b[0m in \u001b[0;36m<module>\u001b[0;34m\u001b[0m\n\u001b[0;32m----> 1\u001b[0;31m \u001b[0;32mfrom\u001b[0m \u001b[0mworkflow_array_ephys\u001b[0m\u001b[0;34m.\u001b[0m\u001b[0mpipeline\u001b[0m \u001b[0;32mimport\u001b[0m \u001b[0msession\u001b[0m\u001b[0;34m,\u001b[0m \u001b[0mephys\u001b[0m\u001b[0;34m,\u001b[0m \u001b[0mtrial\u001b[0m\u001b[0;34m,\u001b[0m \u001b[0mevent\u001b[0m\u001b[0;34m\u001b[0m\u001b[0;34m\u001b[0m\u001b[0m\n\u001b[0m",
      "\u001b[0;32m/Volumes/GoogleDrive/My Drive/NWB/workflow-array-ephys/workflow_array_ephys/pipeline.py\u001b[0m in \u001b[0;36m<module>\u001b[0;34m\u001b[0m\n\u001b[1;32m      5\u001b[0m \u001b[0;32mfrom\u001b[0m \u001b[0melement_session\u001b[0m \u001b[0;32mimport\u001b[0m \u001b[0msession_with_datetime\u001b[0m \u001b[0;32mas\u001b[0m \u001b[0msession\u001b[0m\u001b[0;34m\u001b[0m\u001b[0;34m\u001b[0m\u001b[0m\n\u001b[1;32m      6\u001b[0m \u001b[0;32mfrom\u001b[0m \u001b[0melement_array_ephys\u001b[0m \u001b[0;32mimport\u001b[0m \u001b[0mprobe\u001b[0m\u001b[0;34m\u001b[0m\u001b[0;34m\u001b[0m\u001b[0m\n\u001b[0;32m----> 7\u001b[0;31m \u001b[0;32mfrom\u001b[0m \u001b[0melement_trial\u001b[0m \u001b[0;32mimport\u001b[0m \u001b[0mtrial\u001b[0m\u001b[0;34m,\u001b[0m \u001b[0mevent\u001b[0m\u001b[0;34m\u001b[0m\u001b[0;34m\u001b[0m\u001b[0m\n\u001b[0m\u001b[1;32m      8\u001b[0m \u001b[0;34m\u001b[0m\u001b[0m\n\u001b[1;32m      9\u001b[0m \u001b[0;32mfrom\u001b[0m \u001b[0melement_animal\u001b[0m\u001b[0;34m.\u001b[0m\u001b[0msubject\u001b[0m \u001b[0;32mimport\u001b[0m \u001b[0mSubject\u001b[0m\u001b[0;34m\u001b[0m\u001b[0;34m\u001b[0m\u001b[0m\n",
      "\u001b[0;31mImportError\u001b[0m: cannot import name 'trial' from 'element_trial' (unknown location)"
     ]
    }
   ],
   "source": [
    "from workflow_array_ephys.pipeline import session, ephys, trial, event"
   ]
  },
  {
   "cell_type": "markdown",
   "id": "04616e30-c9f8-468c-bed1-0d233ab76617",
   "metadata": {
    "incorrectly_encoded_metadata": "jp-MarkdownHeadingCollapsed=true",
    "tags": []
   },
   "source": [
    "## Trial and Event schemas"
   ]
  },
  {
   "cell_type": "markdown",
   "id": "a1451602-df01-4c33-b4bf-e280d3d0742c",
   "metadata": {},
   "source": [
    "Tables in the `trial` and `event` schemas specify the structure of your experiment, including block, trial and event timing. \n",
    "- Session has a 1-to-1 mapping with a behavior recording\n",
    "- A block is a continuous phase of an experiment that contains repeated instances of a condition, or trials. \n",
    "- Events may occur within or outside of conditions, either instantaneous or continuous.\n",
    "\n",
    "The diagram below shows (a) the levels of hierarchy and (b) how the bounds may not completely overlap. A block may not fully capure trials and events may occur outside both blocks/trials."
   ]
  },
  {
   "cell_type": "markdown",
   "id": "d5bc66f4-4a30-467a-829d-2e3b05decdd0",
   "metadata": {},
   "source": [
    "```\n",
    "|----------------------------------------------------------------------------|\n",
    "|-------------------------------- Session ---------------------------------|__\n",
    "|-------------------------- BehaviorRecording ---------------------------|____\n",
    "|----- Block 1 -----|______|----- Block 2 -----|______|----- Block 3 -----|___\n",
    "| trial 1 || trial 2 |____| trial 3 || trial 4 |____| trial 5 |____| trial 6 |\n",
    "|_|e1|_|e2||e3|_|e4|__|e5|__|e6||e7||e8||e9||e10||e11|____|e12||e13|_________|\n",
    "|----------------------------------------------------------------------------|\n",
    "```"
   ]
  },
  {
   "cell_type": "markdown",
   "id": "2e9a8cfd-8188-4d69-9c3a-b91a1ba4876a",
   "metadata": {},
   "source": [
    "Let's load some example data. The `ingest.py` script has a series of loaders to help."
   ]
  },
  {
   "cell_type": "code",
   "execution_count": 4,
   "id": "dab268a4-ae07-4c8b-b999-536d9e5b3e2e",
   "metadata": {},
   "outputs": [],
   "source": [
    "from workflow_array_ephys.ingest import ingest_subjects, ingest_sessions,\\\n",
    "                                        ingest_events, ingest_alignment"
   ]
  },
  {
   "cell_type": "code",
   "execution_count": 4,
   "id": "5b6eaecd-a823-4649-9b81-63f8f2b4dc21",
   "metadata": {},
   "outputs": [
    {
     "name": "stdout",
     "output_type": "stream",
     "text": [
      "\n",
      "---- Inserting 0 entry(s) into subject ----\n",
      "\n",
      "---- Insert 0 entry(s) into session.Session ----\n",
      "\n",
      "---- Insert 0 entry(s) into probe.Probe ----\n",
      "\n",
      "---- Insert 0 entry(s) into ephys.ProbeInsertion ----\n",
      "\n",
      "---- Insert 0 entry(s) into session.Session ----\n",
      "\n",
      "---- Successfully completed workflow_array_ephys/ingest.py ----\n",
      "\n",
      "---- Inserting 1 entry(s) into behavior_recording ----\n",
      "\n",
      "---- Inserting 2 entry(s) into behavior_recording__file ----\n",
      "\n",
      "---- Inserting 4 entry(s) into _block ----\n",
      "\n",
      "---- Inserting 4 entry(s) into _block__attribute ----\n",
      "\n",
      "---- Inserting 2 entry(s) into #trial_type ----\n",
      "\n",
      "---- Inserting 100 entry(s) into _trial ----\n",
      "\n",
      "---- Inserting 100 entry(s) into _trial__attribute ----\n",
      "\n",
      "---- Inserting 100 entry(s) into _block_trial ----\n",
      "\n",
      "---- Inserting 3 entry(s) into #event_type ----\n",
      "\n",
      "---- Inserting 153 entry(s) into _event ----\n",
      "\n",
      "---- Inserting 153 entry(s) into _trial_event ----\n"
     ]
    }
   ],
   "source": [
    "ingest_subjects(); ingest_sessions(); ingest_events()"
   ]
  },
  {
   "cell_type": "markdown",
   "id": "3a51de8b-3ddd-473e-b930-b0bc0c50d05f",
   "metadata": {},
   "source": [
    "We have 100 total trials, either 'stim' or 'ctrl', with start and stop time"
   ]
  },
  {
   "cell_type": "code",
   "execution_count": 5,
   "id": "4cdf4879-cd05-43c3-89fa-cacc1b1474a6",
   "metadata": {},
   "outputs": [
    {
     "data": {
      "text/html": [
       "\n",
       "    \n",
       "    <style type=\"text/css\">\n",
       "        .Relation{\n",
       "            border-collapse:collapse;\n",
       "        }\n",
       "        .Relation th{\n",
       "            background: #A0A0A0; color: #ffffff; padding:4px; border:#f0e0e0 1px solid;\n",
       "            font-weight: normal; font-family: monospace; font-size: 100%;\n",
       "        }\n",
       "        .Relation td{\n",
       "            padding:4px; border:#f0e0e0 1px solid; font-size:100%;\n",
       "        }\n",
       "        .Relation tr:nth-child(odd){\n",
       "            background: #ffffff;\n",
       "        }\n",
       "        .Relation tr:nth-child(even){\n",
       "            background: #f3f1ff;\n",
       "        }\n",
       "        /* Tooltip container */\n",
       "        .djtooltip {\n",
       "        }\n",
       "        /* Tooltip text */\n",
       "        .djtooltip .djtooltiptext {\n",
       "            visibility: hidden;\n",
       "            width: 120px;\n",
       "            background-color: black;\n",
       "            color: #fff;\n",
       "            text-align: center;\n",
       "            padding: 5px 0;\n",
       "            border-radius: 6px;\n",
       "            /* Position the tooltip text - see examples below! */\n",
       "            position: absolute;\n",
       "            z-index: 1;\n",
       "        }\n",
       "        #primary {\n",
       "            font-weight: bold;\n",
       "            color: black;\n",
       "        }\n",
       "        #nonprimary {\n",
       "            font-weight: normal;\n",
       "            color: white;\n",
       "        }\n",
       "\n",
       "        /* Show the tooltip text when you mouse over the tooltip container */\n",
       "        .djtooltip:hover .djtooltiptext {\n",
       "            visibility: visible;\n",
       "        }\n",
       "    </style>\n",
       "    \n",
       "    <b>Experimental trials</b>\n",
       "        <div style=\"max-height:1000px;max-width:1500px;overflow:auto;\">\n",
       "        <table border=\"1\" class=\"Relation\">\n",
       "            <thead> <tr style=\"text-align: right;\"> <th> <div class=\"djtooltip\">\n",
       "                            <p id=\"primary\">subject</p>\n",
       "                            <span class=\"djtooltiptext\"></span>\n",
       "                        </div></th><th><div class=\"djtooltip\">\n",
       "                            <p id=\"primary\">session_datetime</p>\n",
       "                            <span class=\"djtooltiptext\"></span>\n",
       "                        </div></th><th><div class=\"djtooltip\">\n",
       "                            <p id=\"primary\">trial_id</p>\n",
       "                            <span class=\"djtooltiptext\">trial number (1-based indexing)</span>\n",
       "                        </div></th><th><div class=\"djtooltip\">\n",
       "                            <p id=\"nonprimary\">trial_type</p>\n",
       "                            <span class=\"djtooltiptext\"></span>\n",
       "                        </div></th><th><div class=\"djtooltip\">\n",
       "                            <p id=\"nonprimary\">trial_start_time</p>\n",
       "                            <span class=\"djtooltiptext\">(second) relative to recording start</span>\n",
       "                        </div></th><th><div class=\"djtooltip\">\n",
       "                            <p id=\"nonprimary\">trial_stop_time</p>\n",
       "                            <span class=\"djtooltiptext\">(second) relative to recording start</span>\n",
       "                        </div> </th> </tr> </thead>\n",
       "            <tbody> <tr> <td>subject6</td>\n",
       "<td>2021-01-15 11:16:38</td>\n",
       "<td>1</td>\n",
       "<td>stim</td>\n",
       "<td>0.123</td>\n",
       "<td>17.123</td></tr><tr><td>subject6</td>\n",
       "<td>2021-01-15 11:16:38</td>\n",
       "<td>2</td>\n",
       "<td>ctrl</td>\n",
       "<td>17.54</td>\n",
       "<td>34.54</td></tr><tr><td>subject6</td>\n",
       "<td>2021-01-15 11:16:38</td>\n",
       "<td>3</td>\n",
       "<td>ctrl</td>\n",
       "<td>34.81</td>\n",
       "<td>51.81</td></tr><tr><td>subject6</td>\n",
       "<td>2021-01-15 11:16:38</td>\n",
       "<td>4</td>\n",
       "<td>ctrl</td>\n",
       "<td>52.202</td>\n",
       "<td>69.202</td></tr><tr><td>subject6</td>\n",
       "<td>2021-01-15 11:16:38</td>\n",
       "<td>5</td>\n",
       "<td>stim</td>\n",
       "<td>69.611</td>\n",
       "<td>86.611</td></tr><tr><td>subject6</td>\n",
       "<td>2021-01-15 11:16:38</td>\n",
       "<td>6</td>\n",
       "<td>stim</td>\n",
       "<td>87.03</td>\n",
       "<td>104.03</td></tr><tr><td>subject6</td>\n",
       "<td>2021-01-15 11:16:38</td>\n",
       "<td>7</td>\n",
       "<td>ctrl</td>\n",
       "<td>104.165</td>\n",
       "<td>121.165</td></tr><tr><td>subject6</td>\n",
       "<td>2021-01-15 11:16:38</td>\n",
       "<td>8</td>\n",
       "<td>ctrl</td>\n",
       "<td>121.502</td>\n",
       "<td>138.502</td></tr><tr><td>subject6</td>\n",
       "<td>2021-01-15 11:16:38</td>\n",
       "<td>9</td>\n",
       "<td>ctrl</td>\n",
       "<td>138.612</td>\n",
       "<td>155.612</td></tr><tr><td>subject6</td>\n",
       "<td>2021-01-15 11:16:38</td>\n",
       "<td>10</td>\n",
       "<td>stim</td>\n",
       "<td>155.741</td>\n",
       "<td>172.741</td> </tr> </tbody>\n",
       "        </table>\n",
       "        <p>...</p>\n",
       "        <p>Total: 100</p></div>\n",
       "        "
      ],
      "text/plain": [
       "*subject     *session_datet *trial_id    trial_type     trial_start_ti trial_stop_tim\n",
       "+----------+ +------------+ +----------+ +------------+ +------------+ +------------+\n",
       "subject6     2021-01-15 11: 1            stim           0.123          17.123        \n",
       "subject6     2021-01-15 11: 2            ctrl           17.54          34.54         \n",
       "subject6     2021-01-15 11: 3            ctrl           34.81          51.81         \n",
       "subject6     2021-01-15 11: 4            ctrl           52.202         69.202        \n",
       "subject6     2021-01-15 11: 5            stim           69.611         86.611        \n",
       "subject6     2021-01-15 11: 6            stim           87.03          104.03        \n",
       "subject6     2021-01-15 11: 7            ctrl           104.165        121.165       \n",
       "subject6     2021-01-15 11: 8            ctrl           121.502        138.502       \n",
       "subject6     2021-01-15 11: 9            ctrl           138.612        155.612       \n",
       "subject6     2021-01-15 11: 10           stim           155.741        172.741       \n",
       "   ...\n",
       " (Total: 100)"
      ]
     },
     "execution_count": 5,
     "metadata": {},
     "output_type": "execute_result"
    }
   ],
   "source": [
    "trial.Trial()"
   ]
  },
  {
   "cell_type": "markdown",
   "id": "ea3ed128-cb2c-400f-866c-1337d6608d2b",
   "metadata": {},
   "source": [
    "Each trial is paired with one or more events that take place during the trial window."
   ]
  },
  {
   "cell_type": "code",
   "execution_count": 6,
   "id": "7fe42898-3ff9-4394-a811-a4cb85320f04",
   "metadata": {},
   "outputs": [
    {
     "data": {
      "text/html": [
       "\n",
       "    \n",
       "    <style type=\"text/css\">\n",
       "        .Relation{\n",
       "            border-collapse:collapse;\n",
       "        }\n",
       "        .Relation th{\n",
       "            background: #A0A0A0; color: #ffffff; padding:4px; border:#f0e0e0 1px solid;\n",
       "            font-weight: normal; font-family: monospace; font-size: 100%;\n",
       "        }\n",
       "        .Relation td{\n",
       "            padding:4px; border:#f0e0e0 1px solid; font-size:100%;\n",
       "        }\n",
       "        .Relation tr:nth-child(odd){\n",
       "            background: #ffffff;\n",
       "        }\n",
       "        .Relation tr:nth-child(even){\n",
       "            background: #f3f1ff;\n",
       "        }\n",
       "        /* Tooltip container */\n",
       "        .djtooltip {\n",
       "        }\n",
       "        /* Tooltip text */\n",
       "        .djtooltip .djtooltiptext {\n",
       "            visibility: hidden;\n",
       "            width: 120px;\n",
       "            background-color: black;\n",
       "            color: #fff;\n",
       "            text-align: center;\n",
       "            padding: 5px 0;\n",
       "            border-radius: 6px;\n",
       "            /* Position the tooltip text - see examples below! */\n",
       "            position: absolute;\n",
       "            z-index: 1;\n",
       "        }\n",
       "        #primary {\n",
       "            font-weight: bold;\n",
       "            color: black;\n",
       "        }\n",
       "        #nonprimary {\n",
       "            font-weight: normal;\n",
       "            color: white;\n",
       "        }\n",
       "\n",
       "        /* Show the tooltip text when you mouse over the tooltip container */\n",
       "        .djtooltip:hover .djtooltiptext {\n",
       "            visibility: visible;\n",
       "        }\n",
       "    </style>\n",
       "    \n",
       "    <b></b>\n",
       "        <div style=\"max-height:1000px;max-width:1500px;overflow:auto;\">\n",
       "        <table border=\"1\" class=\"Relation\">\n",
       "            <thead> <tr style=\"text-align: right;\"> <th> <div class=\"djtooltip\">\n",
       "                            <p id=\"primary\">subject</p>\n",
       "                            <span class=\"djtooltiptext\"></span>\n",
       "                        </div></th><th><div class=\"djtooltip\">\n",
       "                            <p id=\"primary\">session_datetime</p>\n",
       "                            <span class=\"djtooltiptext\"></span>\n",
       "                        </div></th><th><div class=\"djtooltip\">\n",
       "                            <p id=\"primary\">trial_id</p>\n",
       "                            <span class=\"djtooltiptext\">trial number (1-based indexing)</span>\n",
       "                        </div></th><th><div class=\"djtooltip\">\n",
       "                            <p id=\"primary\">event_type</p>\n",
       "                            <span class=\"djtooltiptext\"></span>\n",
       "                        </div></th><th><div class=\"djtooltip\">\n",
       "                            <p id=\"primary\">event_start_time</p>\n",
       "                            <span class=\"djtooltiptext\">(second) relative to recording start</span>\n",
       "                        </div> </th> </tr> </thead>\n",
       "            <tbody> <tr> <td>subject6</td>\n",
       "<td>2021-01-15 11:16:38</td>\n",
       "<td>1</td>\n",
       "<td>center</td>\n",
       "<td>10.58</td></tr><tr><td>subject6</td>\n",
       "<td>2021-01-15 11:16:38</td>\n",
       "<td>2</td>\n",
       "<td>center</td>\n",
       "<td>21.647</td></tr><tr><td>subject6</td>\n",
       "<td>2021-01-15 11:16:38</td>\n",
       "<td>3</td>\n",
       "<td>center</td>\n",
       "<td>37.044</td></tr><tr><td>subject6</td>\n",
       "<td>2021-01-15 11:16:38</td>\n",
       "<td>4</td>\n",
       "<td>center</td>\n",
       "<td>55.259</td></tr><tr><td>subject6</td>\n",
       "<td>2021-01-15 11:16:38</td>\n",
       "<td>1</td>\n",
       "<td>left</td>\n",
       "<td>4.498</td></tr><tr><td>subject6</td>\n",
       "<td>2021-01-15 11:16:38</td>\n",
       "<td>3</td>\n",
       "<td>left</td>\n",
       "<td>41.892</td></tr><tr><td>subject6</td>\n",
       "<td>2021-01-15 11:16:38</td>\n",
       "<td>2</td>\n",
       "<td>right</td>\n",
       "<td>23.9</td> </tr> </tbody>\n",
       "        </table>\n",
       "        \n",
       "        <p>Total: 7</p></div>\n",
       "        "
      ],
      "text/plain": [
       "*subject     *session_datet *trial_id    *event_type    *event_start_t\n",
       "+----------+ +------------+ +----------+ +------------+ +------------+\n",
       "subject6     2021-01-15 11: 1            center         10.58         \n",
       "subject6     2021-01-15 11: 2            center         21.647        \n",
       "subject6     2021-01-15 11: 3            center         37.044        \n",
       "subject6     2021-01-15 11: 4            center         55.259        \n",
       "subject6     2021-01-15 11: 1            left           4.498         \n",
       "subject6     2021-01-15 11: 3            left           41.892        \n",
       "subject6     2021-01-15 11: 2            right          23.9          \n",
       " (Total: 7)"
      ]
     },
     "execution_count": 6,
     "metadata": {},
     "output_type": "execute_result"
    }
   ],
   "source": [
    "trial.TrialEvent() & 'trial_id<5'"
   ]
  },
  {
   "cell_type": "markdown",
   "id": "1b2a40b8-8104-4fba-b99c-355162e4c8a9",
   "metadata": {},
   "source": [
    "Finally, the `AlignmentEvent` describes the event of interest and the window we'd like to see around it."
   ]
  },
  {
   "cell_type": "code",
   "execution_count": 7,
   "id": "5122d831-48b2-4214-bd43-a42d67a5dc2d",
   "metadata": {},
   "outputs": [
    {
     "name": "stdout",
     "output_type": "stream",
     "text": [
      "\n",
      "---- Inserting 3 entry(s) into alignment_event ----\n"
     ]
    }
   ],
   "source": [
    "ingest_alignment()"
   ]
  },
  {
   "cell_type": "code",
   "execution_count": 8,
   "id": "50a2c99f",
   "metadata": {},
   "outputs": [
    {
     "data": {
      "text/html": [
       "\n",
       "    \n",
       "    <style type=\"text/css\">\n",
       "        .Relation{\n",
       "            border-collapse:collapse;\n",
       "        }\n",
       "        .Relation th{\n",
       "            background: #A0A0A0; color: #ffffff; padding:4px; border:#f0e0e0 1px solid;\n",
       "            font-weight: normal; font-family: monospace; font-size: 100%;\n",
       "        }\n",
       "        .Relation td{\n",
       "            padding:4px; border:#f0e0e0 1px solid; font-size:100%;\n",
       "        }\n",
       "        .Relation tr:nth-child(odd){\n",
       "            background: #ffffff;\n",
       "        }\n",
       "        .Relation tr:nth-child(even){\n",
       "            background: #f3f1ff;\n",
       "        }\n",
       "        /* Tooltip container */\n",
       "        .djtooltip {\n",
       "        }\n",
       "        /* Tooltip text */\n",
       "        .djtooltip .djtooltiptext {\n",
       "            visibility: hidden;\n",
       "            width: 120px;\n",
       "            background-color: black;\n",
       "            color: #fff;\n",
       "            text-align: center;\n",
       "            padding: 5px 0;\n",
       "            border-radius: 6px;\n",
       "            /* Position the tooltip text - see examples below! */\n",
       "            position: absolute;\n",
       "            z-index: 1;\n",
       "        }\n",
       "        #primary {\n",
       "            font-weight: bold;\n",
       "            color: black;\n",
       "        }\n",
       "        #nonprimary {\n",
       "            font-weight: normal;\n",
       "            color: white;\n",
       "        }\n",
       "\n",
       "        /* Show the tooltip text when you mouse over the tooltip container */\n",
       "        .djtooltip:hover .djtooltiptext {\n",
       "            visibility: visible;\n",
       "        }\n",
       "    </style>\n",
       "    \n",
       "    <b>time_shift is seconds to shift with respect to (WRT) a variable</b>\n",
       "        <div style=\"max-height:1000px;max-width:1500px;overflow:auto;\">\n",
       "        <table border=\"1\" class=\"Relation\">\n",
       "            <thead> <tr style=\"text-align: right;\"> <th> <div class=\"djtooltip\">\n",
       "                            <p id=\"primary\">alignment_name</p>\n",
       "                            <span class=\"djtooltiptext\"></span>\n",
       "                        </div></th><th><div class=\"djtooltip\">\n",
       "                            <p id=\"nonprimary\">alignment_description</p>\n",
       "                            <span class=\"djtooltiptext\"></span>\n",
       "                        </div></th><th><div class=\"djtooltip\">\n",
       "                            <p id=\"nonprimary\">alignment_event_type</p>\n",
       "                            <span class=\"djtooltiptext\"></span>\n",
       "                        </div></th><th><div class=\"djtooltip\">\n",
       "                            <p id=\"nonprimary\">alignment_time_shift</p>\n",
       "                            <span class=\"djtooltiptext\">(s) WRT alignment_event_type</span>\n",
       "                        </div></th><th><div class=\"djtooltip\">\n",
       "                            <p id=\"nonprimary\">start_event_type</p>\n",
       "                            <span class=\"djtooltiptext\"></span>\n",
       "                        </div></th><th><div class=\"djtooltip\">\n",
       "                            <p id=\"nonprimary\">start_time_shift</p>\n",
       "                            <span class=\"djtooltiptext\">(s) WRT start_event_type</span>\n",
       "                        </div></th><th><div class=\"djtooltip\">\n",
       "                            <p id=\"nonprimary\">end_event_type</p>\n",
       "                            <span class=\"djtooltiptext\"></span>\n",
       "                        </div></th><th><div class=\"djtooltip\">\n",
       "                            <p id=\"nonprimary\">end_time_shift</p>\n",
       "                            <span class=\"djtooltiptext\">(s) WRT end_event_type</span>\n",
       "                        </div> </th> </tr> </thead>\n",
       "            <tbody> <tr> <td>center_button</td>\n",
       "<td></td>\n",
       "<td>center</td>\n",
       "<td>0.0</td>\n",
       "<td>center</td>\n",
       "<td>-3.0</td>\n",
       "<td>center</td>\n",
       "<td>3.0</td></tr><tr><td>left_button</td>\n",
       "<td></td>\n",
       "<td>left</td>\n",
       "<td>0.0</td>\n",
       "<td>left</td>\n",
       "<td>-3.0</td>\n",
       "<td>left</td>\n",
       "<td>3.0</td></tr><tr><td>right_button</td>\n",
       "<td></td>\n",
       "<td>right</td>\n",
       "<td>0.0</td>\n",
       "<td>right</td>\n",
       "<td>-3.0</td>\n",
       "<td>right</td>\n",
       "<td>3.0</td> </tr> </tbody>\n",
       "        </table>\n",
       "        \n",
       "        <p>Total: 3</p></div>\n",
       "        "
      ],
      "text/plain": [
       "*alignment_nam alignment_desc alignment_even alignment_time start_event_ty start_time_shi end_event_type end_time_shift\n",
       "+------------+ +------------+ +------------+ +------------+ +------------+ +------------+ +------------+ +------------+\n",
       "center_button                 center         0.0            center         -3.0           center         3.0           \n",
       "left_button                   left           0.0            left           -3.0           left           3.0           \n",
       "right_button                  right          0.0            right          -3.0           right          3.0           \n",
       " (Total: 3)"
      ]
     },
     "execution_count": 8,
     "metadata": {},
     "output_type": "execute_result"
    }
   ],
   "source": [
    "event.AlignmentEvent()"
   ]
  },
  {
   "cell_type": "markdown",
   "id": "4936a1e8",
   "metadata": {},
   "source": [
    "## Event-aligned trialized unit spike times"
   ]
  },
  {
   "cell_type": "markdown",
   "id": "48907760-54b8-485f-b2eb-8c03a5cc2839",
   "metadata": {},
   "source": [
    "First, we'll check that the data is still properly inserted from the previous notebooks."
   ]
  },
  {
   "cell_type": "code",
   "execution_count": 10,
   "id": "9a36c342",
   "metadata": {},
   "outputs": [
    {
     "data": {
      "text/html": [
       "\n",
       "    \n",
       "    <style type=\"text/css\">\n",
       "        .Relation{\n",
       "            border-collapse:collapse;\n",
       "        }\n",
       "        .Relation th{\n",
       "            background: #A0A0A0; color: #ffffff; padding:4px; border:#f0e0e0 1px solid;\n",
       "            font-weight: normal; font-family: monospace; font-size: 100%;\n",
       "        }\n",
       "        .Relation td{\n",
       "            padding:4px; border:#f0e0e0 1px solid; font-size:100%;\n",
       "        }\n",
       "        .Relation tr:nth-child(odd){\n",
       "            background: #ffffff;\n",
       "        }\n",
       "        .Relation tr:nth-child(even){\n",
       "            background: #f3f1ff;\n",
       "        }\n",
       "        /* Tooltip container */\n",
       "        .djtooltip {\n",
       "        }\n",
       "        /* Tooltip text */\n",
       "        .djtooltip .djtooltiptext {\n",
       "            visibility: hidden;\n",
       "            width: 120px;\n",
       "            background-color: black;\n",
       "            color: #fff;\n",
       "            text-align: center;\n",
       "            padding: 5px 0;\n",
       "            border-radius: 6px;\n",
       "            /* Position the tooltip text - see examples below! */\n",
       "            position: absolute;\n",
       "            z-index: 1;\n",
       "        }\n",
       "        #primary {\n",
       "            font-weight: bold;\n",
       "            color: black;\n",
       "        }\n",
       "        #nonprimary {\n",
       "            font-weight: normal;\n",
       "            color: white;\n",
       "        }\n",
       "\n",
       "        /* Show the tooltip text when you mouse over the tooltip container */\n",
       "        .djtooltip:hover .djtooltiptext {\n",
       "            visibility: visible;\n",
       "        }\n",
       "    </style>\n",
       "    \n",
       "    <b>Clustering results of a curation.</b>\n",
       "        <div style=\"max-height:1000px;max-width:1500px;overflow:auto;\">\n",
       "        <table border=\"1\" class=\"Relation\">\n",
       "            <thead> <tr style=\"text-align: right;\"> <th> <div class=\"djtooltip\">\n",
       "                            <p id=\"primary\">subject</p>\n",
       "                            <span class=\"djtooltiptext\"></span>\n",
       "                        </div></th><th><div class=\"djtooltip\">\n",
       "                            <p id=\"primary\">session_datetime</p>\n",
       "                            <span class=\"djtooltiptext\"></span>\n",
       "                        </div></th><th><div class=\"djtooltip\">\n",
       "                            <p id=\"primary\">insertion_number</p>\n",
       "                            <span class=\"djtooltiptext\"></span>\n",
       "                        </div></th><th><div class=\"djtooltip\">\n",
       "                            <p id=\"primary\">paramset_idx</p>\n",
       "                            <span class=\"djtooltiptext\"></span>\n",
       "                        </div></th><th><div class=\"djtooltip\">\n",
       "                            <p id=\"primary\">curation_id</p>\n",
       "                            <span class=\"djtooltiptext\"></span>\n",
       "                        </div> </th> </tr> </thead>\n",
       "            <tbody> <tr> <td>subject6</td>\n",
       "<td>2021-01-15 11:16:38</td>\n",
       "<td>0</td>\n",
       "<td>0</td>\n",
       "<td>1</td> </tr> </tbody>\n",
       "        </table>\n",
       "        \n",
       "        <p>Total: 1</p></div>\n",
       "        "
      ],
      "text/plain": [
       "*subject     *session_datet *insertion_num *paramset_idx  *curation_id  \n",
       "+----------+ +------------+ +------------+ +------------+ +------------+\n",
       "subject6     2021-01-15 11: 0              0              1             \n",
       " (Total: 1)"
      ]
     },
     "execution_count": 10,
     "metadata": {},
     "output_type": "execute_result"
    }
   ],
   "source": [
    "ephys.CuratedClustering()"
   ]
  },
  {
   "cell_type": "markdown",
   "id": "cc6c1e0c-ad56-4152-a200-873150aafb17",
   "metadata": {},
   "source": [
    "For this example, we'll be looking at `subject6`."
   ]
  },
  {
   "cell_type": "code",
   "execution_count": 11,
   "id": "8642f010",
   "metadata": {},
   "outputs": [],
   "source": [
    "clustering_key = (ephys.CuratedClustering \n",
    "                  & {'subject': 'subject6', 'session_datetime': '2021-01-15 11:16:38',\n",
    "                     'insertion_number': 0}\n",
    "                 ).fetch1('KEY')"
   ]
  },
  {
   "cell_type": "code",
   "execution_count": 13,
   "id": "c9c95806",
   "metadata": {},
   "outputs": [
    {
     "data": {
      "text/html": [
       "\n",
       "    \n",
       "    <style type=\"text/css\">\n",
       "        .Relation{\n",
       "            border-collapse:collapse;\n",
       "        }\n",
       "        .Relation th{\n",
       "            background: #A0A0A0; color: #ffffff; padding:4px; border:#f0e0e0 1px solid;\n",
       "            font-weight: normal; font-family: monospace; font-size: 100%;\n",
       "        }\n",
       "        .Relation td{\n",
       "            padding:4px; border:#f0e0e0 1px solid; font-size:100%;\n",
       "        }\n",
       "        .Relation tr:nth-child(odd){\n",
       "            background: #ffffff;\n",
       "        }\n",
       "        .Relation tr:nth-child(even){\n",
       "            background: #f3f1ff;\n",
       "        }\n",
       "        /* Tooltip container */\n",
       "        .djtooltip {\n",
       "        }\n",
       "        /* Tooltip text */\n",
       "        .djtooltip .djtooltiptext {\n",
       "            visibility: hidden;\n",
       "            width: 120px;\n",
       "            background-color: black;\n",
       "            color: #fff;\n",
       "            text-align: center;\n",
       "            padding: 5px 0;\n",
       "            border-radius: 6px;\n",
       "            /* Position the tooltip text - see examples below! */\n",
       "            position: absolute;\n",
       "            z-index: 1;\n",
       "        }\n",
       "        #primary {\n",
       "            font-weight: bold;\n",
       "            color: black;\n",
       "        }\n",
       "        #nonprimary {\n",
       "            font-weight: normal;\n",
       "            color: white;\n",
       "        }\n",
       "\n",
       "        /* Show the tooltip text when you mouse over the tooltip container */\n",
       "        .djtooltip:hover .djtooltiptext {\n",
       "            visibility: visible;\n",
       "        }\n",
       "    </style>\n",
       "    \n",
       "    <b>Experimental trials</b>\n",
       "        <div style=\"max-height:1000px;max-width:1500px;overflow:auto;\">\n",
       "        <table border=\"1\" class=\"Relation\">\n",
       "            <thead> <tr style=\"text-align: right;\"> <th> <div class=\"djtooltip\">\n",
       "                            <p id=\"primary\">subject</p>\n",
       "                            <span class=\"djtooltiptext\"></span>\n",
       "                        </div></th><th><div class=\"djtooltip\">\n",
       "                            <p id=\"primary\">session_datetime</p>\n",
       "                            <span class=\"djtooltiptext\"></span>\n",
       "                        </div></th><th><div class=\"djtooltip\">\n",
       "                            <p id=\"primary\">trial_id</p>\n",
       "                            <span class=\"djtooltiptext\">trial number (1-based indexing)</span>\n",
       "                        </div></th><th><div class=\"djtooltip\">\n",
       "                            <p id=\"nonprimary\">trial_type</p>\n",
       "                            <span class=\"djtooltiptext\"></span>\n",
       "                        </div></th><th><div class=\"djtooltip\">\n",
       "                            <p id=\"nonprimary\">trial_start_time</p>\n",
       "                            <span class=\"djtooltiptext\">(second) relative to recording start</span>\n",
       "                        </div></th><th><div class=\"djtooltip\">\n",
       "                            <p id=\"nonprimary\">trial_stop_time</p>\n",
       "                            <span class=\"djtooltiptext\">(second) relative to recording start</span>\n",
       "                        </div> </th> </tr> </thead>\n",
       "            <tbody> <tr> <td>subject6</td>\n",
       "<td>2021-01-15 11:16:38</td>\n",
       "<td>1</td>\n",
       "<td>stim</td>\n",
       "<td>0.123</td>\n",
       "<td>17.123</td></tr><tr><td>subject6</td>\n",
       "<td>2021-01-15 11:16:38</td>\n",
       "<td>2</td>\n",
       "<td>ctrl</td>\n",
       "<td>17.54</td>\n",
       "<td>34.54</td></tr><tr><td>subject6</td>\n",
       "<td>2021-01-15 11:16:38</td>\n",
       "<td>3</td>\n",
       "<td>ctrl</td>\n",
       "<td>34.81</td>\n",
       "<td>51.81</td></tr><tr><td>subject6</td>\n",
       "<td>2021-01-15 11:16:38</td>\n",
       "<td>4</td>\n",
       "<td>ctrl</td>\n",
       "<td>52.202</td>\n",
       "<td>69.202</td></tr><tr><td>subject6</td>\n",
       "<td>2021-01-15 11:16:38</td>\n",
       "<td>5</td>\n",
       "<td>stim</td>\n",
       "<td>69.611</td>\n",
       "<td>86.611</td></tr><tr><td>subject6</td>\n",
       "<td>2021-01-15 11:16:38</td>\n",
       "<td>6</td>\n",
       "<td>stim</td>\n",
       "<td>87.03</td>\n",
       "<td>104.03</td></tr><tr><td>subject6</td>\n",
       "<td>2021-01-15 11:16:38</td>\n",
       "<td>7</td>\n",
       "<td>ctrl</td>\n",
       "<td>104.165</td>\n",
       "<td>121.165</td></tr><tr><td>subject6</td>\n",
       "<td>2021-01-15 11:16:38</td>\n",
       "<td>8</td>\n",
       "<td>ctrl</td>\n",
       "<td>121.502</td>\n",
       "<td>138.502</td></tr><tr><td>subject6</td>\n",
       "<td>2021-01-15 11:16:38</td>\n",
       "<td>9</td>\n",
       "<td>ctrl</td>\n",
       "<td>138.612</td>\n",
       "<td>155.612</td></tr><tr><td>subject6</td>\n",
       "<td>2021-01-15 11:16:38</td>\n",
       "<td>10</td>\n",
       "<td>stim</td>\n",
       "<td>155.741</td>\n",
       "<td>172.741</td> </tr> </tbody>\n",
       "        </table>\n",
       "        <p>...</p>\n",
       "        <p>Total: 100</p></div>\n",
       "        "
      ],
      "text/plain": [
       "*subject     *session_datet *trial_id    trial_type     trial_start_ti trial_stop_tim\n",
       "+----------+ +------------+ +----------+ +------------+ +------------+ +------------+\n",
       "subject6     2021-01-15 11: 1            stim           0.123          17.123        \n",
       "subject6     2021-01-15 11: 2            ctrl           17.54          34.54         \n",
       "subject6     2021-01-15 11: 3            ctrl           34.81          51.81         \n",
       "subject6     2021-01-15 11: 4            ctrl           52.202         69.202        \n",
       "subject6     2021-01-15 11: 5            stim           69.611         86.611        \n",
       "subject6     2021-01-15 11: 6            stim           87.03          104.03        \n",
       "subject6     2021-01-15 11: 7            ctrl           104.165        121.165       \n",
       "subject6     2021-01-15 11: 8            ctrl           121.502        138.502       \n",
       "subject6     2021-01-15 11: 9            ctrl           138.612        155.612       \n",
       "subject6     2021-01-15 11: 10           stim           155.741        172.741       \n",
       "   ...\n",
       " (Total: 100)"
      ]
     },
     "execution_count": 13,
     "metadata": {},
     "output_type": "execute_result"
    }
   ],
   "source": [
    "trial.Trial & clustering_key"
   ]
  },
  {
   "cell_type": "markdown",
   "id": "a2947c6b-e58b-4dd8-b6ac-23717244634b",
   "metadata": {},
   "source": [
    "And we can narrow our focus on `ctrl` trials."
   ]
  },
  {
   "cell_type": "code",
   "execution_count": 14,
   "id": "1851ad2b",
   "metadata": {},
   "outputs": [],
   "source": [
    "ctrl_trials = trial.Trial & clustering_key & 'trial_type = \"ctrl\"'"
   ]
  },
  {
   "cell_type": "markdown",
   "id": "be1e7935-7a12-4753-9132-e311f9c3fadd",
   "metadata": {},
   "source": [
    "The `analysis` schema provides example tables to perform event-aligned spike-times analysis."
   ]
  },
  {
   "cell_type": "code",
   "execution_count": 15,
   "id": "0678d202",
   "metadata": {},
   "outputs": [],
   "source": [
    "from workflow_array_ephys import analysis"
   ]
  },
  {
   "cell_type": "code",
   "execution_count": null,
   "id": "be6d368a",
   "metadata": {
    "title": "***SpikesAlignmentCondition*** - a manual table to specify the inputs and condition for the analysis"
   },
   "outputs": [],
   "source": []
  },
  {
   "cell_type": "code",
   "execution_count": null,
   "id": "6b113f1e",
   "metadata": {
    "lines_to_next_cell": 0,
    "title": "***SpikesAlignment*** - a computed table to extract event-aligned spikes and compute unit PSTH"
   },
   "outputs": [],
   "source": [
    "\n",
    "# Let's start by creating several analyses configuration - i.e. inserting into ***SpikesAlignmentCondition*** for the `center` event, called `center_button` in the `AlignmentEvent` table.\n",
    "\n",
    "event.AlignmentEvent()\n",
    "\n",
    "alignment_key = (event.AlignmentEvent & 'alignment_name = \"center_button\"'\n",
    "                ).fetch1('KEY')\n",
    "alignment_condition = {**clustering_key, **alignment_key, \n",
    "                       'trial_condition': 'ctrl_center_button'}\n",
    "analysis.SpikesAlignmentCondition.insert1(alignment_condition, skip_duplicates=True)\n",
    "\n",
    "analysis.SpikesAlignmentCondition.Trial.insert(\n",
    "    (analysis.SpikesAlignmentCondition * ctrl_trials & alignment_condition).proj(),\n",
    "    skip_duplicates=True)\n",
    "\n",
    "analysis.SpikesAlignmentCondition.Trial()\n",
    "\n",
    "# With the steps above, we have create a new spike alignment condition for analysis, named `ctrl_center_button`, which specifies:"
   ]
  },
  {
   "cell_type": "code",
   "execution_count": null,
   "id": "071fc809",
   "metadata": {
    "title": "a CuratedClustering of interest for analysis"
   },
   "outputs": [],
   "source": []
  },
  {
   "cell_type": "code",
   "execution_count": null,
   "id": "27558ed5",
   "metadata": {
    "title": "an event of interest to align the spikes to - `center_button`"
   },
   "outputs": [],
   "source": []
  },
  {
   "cell_type": "code",
   "execution_count": null,
   "id": "f5f3fec8",
   "metadata": {
    "lines_to_next_cell": 0,
    "title": "a set of trials of interest to perform the analysis on - `ctrl` trials"
   },
   "outputs": [],
   "source": [
    "\n",
    "# Now, let's create another set with:"
   ]
  },
  {
   "cell_type": "code",
   "execution_count": null,
   "id": "c4ea0bd1",
   "metadata": {
    "title": "the same CuratedClustering of interest for analysis"
   },
   "outputs": [],
   "source": []
  },
  {
   "cell_type": "code",
   "execution_count": null,
   "id": "598fce99",
   "metadata": {
    "title": "an event of interest to align the spikes to - `center_button`"
   },
   "outputs": [],
   "source": []
  },
  {
   "cell_type": "code",
   "execution_count": null,
   "id": "4c66992f",
   "metadata": {
    "title": "a set of trials of interest to perform the analysis on - `stim` trials"
   },
   "outputs": [],
   "source": [
    "\n",
    "stim_trials = trial.Trial & clustering_key & 'trial_type = \"stim\"'\n",
    "alignment_condition = {**clustering_key, **alignment_key, 'trial_condition': 'stim_center_button'}\n",
    "analysis.SpikesAlignmentCondition.insert1(alignment_condition, skip_duplicates=True)\n",
    "analysis.SpikesAlignmentCondition.Trial.insert(\n",
    "    (analysis.SpikesAlignmentCondition * stim_trials & alignment_condition).proj(),\n",
    "    skip_duplicates=True)\n",
    "\n",
    "# We can compare conditions in the `SpikesAlignmentCondition` table.\n",
    "\n",
    "analysis.SpikesAlignmentCondition()\n",
    "\n",
    "analysis.SpikesAlignmentCondition.Trial & 'trial_condition = \"ctrl_center_button\"'\n",
    "\n",
    "# ### Computation\n",
    "\n",
    "# Now let's run the computation on these.\n",
    "\n",
    "analysis.SpikesAlignment.populate(display_progress=True)\n",
    "\n",
    "# ### Vizualize\n",
    "\n",
    "# We can visualize the results with the `plot_raster` function.\n",
    "\n",
    "alignment_condition = {**clustering_key, **alignment_key, 'trial_condition': 'ctrl_center_button'}\n",
    "analysis.SpikesAlignment().plot_raster(alignment_condition, unit=2);\n",
    "\n",
    "alignment_condition = {**clustering_key, **alignment_key, 'trial_condition': 'stim_center_button'}\n",
    "analysis.SpikesAlignment().plot_raster(alignment_condition, unit=2);"
   ]
  }
 ],
 "metadata": {
  "jupytext": {
   "formats": "ipynb,py"
  },
  "kernelspec": {
   "display_name": "venv-nwb",
   "language": "python",
   "name": "venv-nwb"
  },
  "language_info": {
   "codemirror_mode": {
    "name": "ipython",
    "version": 3
   },
   "file_extension": ".py",
   "mimetype": "text/x-python",
   "name": "python",
   "nbconvert_exporter": "python",
   "pygments_lexer": "ipython3",
   "version": "3.8.11"
  }
 },
 "nbformat": 4,
 "nbformat_minor": 5
}
