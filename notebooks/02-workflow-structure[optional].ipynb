{
 "cells": [
  {
   "cell_type": "markdown",
   "metadata": {},
   "source": [
    "# Introduction to the workflow structure"
   ]
  },
  {
   "cell_type": "markdown",
   "metadata": {},
   "source": [
    "This notebook gives a brief overview of the workflow structure and introduce some useful DataJoint tools to facilitate the exploration.\n",
    "+ DataJoint needs to be pre-configured before running this notebook, if you haven't set up the configuration, refer to notebook [01-configuration](01-configuration.ipynb).\n",
    "+ If you are familar with DataJoint and the workflow structure, proceed to the next notebook [03-process](03-process.ipynb) directly to run the workflow.\n",
    "+ For a more thorough introduction of DataJoint functionings, please visit our [general tutorial site](https://playground.datajoint.io)"
   ]
  },
  {
   "cell_type": "markdown",
   "metadata": {},
   "source": [
    "To load the local configuration, we will change the directory to the package root."
   ]
  },
  {
   "cell_type": "code",
   "execution_count": null,
   "metadata": {},
   "outputs": [],
   "source": [
    "import os\n",
    "os.chdir('..')"
   ]
  },
  {
   "cell_type": "markdown",
   "metadata": {},
   "source": [
    "## Schemas and tables"
   ]
  },
  {
   "cell_type": "markdown",
   "metadata": {},
   "source": [
    "The current workflow is composed of multiple database schemas, each of them corresponds to a module within `workflow_array_ephys.pipeline`"
   ]
  },
  {
   "cell_type": "code",
   "execution_count": null,
   "metadata": {},
   "outputs": [],
   "source": [
    "import datajoint as dj\n",
    "from workflow_array_ephys.pipeline import lab, subject, session, probe, ephys"
   ]
  },
  {
   "cell_type": "markdown",
   "metadata": {},
   "source": [
    "+ Each module contains a schema object that enables interaction with the schema in the database."
   ]
  },
  {
   "cell_type": "code",
   "execution_count": null,
   "metadata": {
    "title": "Each module imported above corresponds to one schema inside the database. For example, `ephys` corresponds to `neuro_ephys` schema in the database."
   },
   "outputs": [],
   "source": [
    "ephys.schema"
   ]
  },
  {
   "cell_type": "markdown",
   "metadata": {},
   "source": [
    "+ The table classes in the module corresponds to a table in the schema in the database. e.g. ephys.EphysRecording corresponds to `_ephys_recording` table in the schema `neuro_ephys`."
   ]
  },
  {
   "cell_type": "code",
   "execution_count": null,
   "metadata": {
    "title": "The table classes inside the module correspond to a table inside the database. e.g. the class ephys.EphysRecording corresponds to table `_ephys_recording` in schema `neuro_ephys`"
   },
   "outputs": [],
   "source": [
    "# show the table name on the database side.\n",
    "ephys.EphysRecording.table_name"
   ]
  },
  {
   "cell_type": "code",
   "execution_count": null,
   "metadata": {
    "title": "Each datajoint table class inside the module corresponds to a table inside the schema. For example, the class `ephys.EphysRecording` correponds to the table `_ephys_recording` in the schema `neuro_ephys` in the database."
   },
   "outputs": [],
   "source": [
    "# preview table columns and contents in a table\n",
    "ephys.EphysRecording()"
   ]
  },
  {
   "cell_type": "markdown",
   "metadata": {
    "lines_to_next_cell": 0,
    "title": "The first time importing the modules, empty schemas and tables will be created in the database."
   },
   "source": [
    "+ By importing the modules for the first time, the schemas and tables will be created inside the database.\n",
    "+ Once created, importing modules will not create schemas and tables again, but the existing schemas/tables can be accessed and manipulated by the modules."
   ]
  },
  {
   "cell_type": "markdown",
   "metadata": {},
   "source": [
    "## DataJoint tools to explore schemas and tables"
   ]
  },
  {
   "cell_type": "markdown",
   "metadata": {
    "lines_to_next_cell": 0,
    "title": "The schemas and tables will not be re-created when importing modules if they have existed."
   },
   "source": [
    "+ `dj.list_schemas()`: list all schemas a user has access to in the current database"
   ]
  },
  {
   "cell_type": "code",
   "execution_count": null,
   "metadata": {
    "title": "`dj.list_schemas()`: list all schemas a user could access."
   },
   "outputs": [],
   "source": [
    "dj.list_schemas()"
   ]
  },
  {
   "cell_type": "markdown",
   "metadata": {
    "title": "`list_tables()`: list the tables in the database within a schema."
   },
   "source": [
    "+ `list_tables()`: list all tables in a schema"
   ]
  },
  {
   "cell_type": "code",
   "execution_count": null,
   "metadata": {
    "title": "`list_tables()`: list tables inside a schema"
   },
   "outputs": [],
   "source": [
    "ephys.schema.list_tables()"
   ]
  },
  {
   "cell_type": "markdown",
   "metadata": {},
   "source": [
    "+ `dj.Diagram()`: plot tables and dependencies. "
   ]
  },
  {
   "cell_type": "code",
   "execution_count": null,
   "metadata": {
    "title": "`dj.Diagram()`: plot tables and dependencies"
   },
   "outputs": [],
   "source": [
    "# plot diagram for all tables in a schema\n",
    "dj.Diagram(ephys)"
   ]
  },
  {
   "cell_type": "markdown",
   "metadata": {},
   "source": [
    "**Table tiers**: \n",
    "\n",
    "Manual table: green box, manually inserted table, expect new entries daily, e.g. Subject, ProbeInsertion.  \n",
    "Lookup table: gray box, pre inserted table, commonly used for general facts or parameters. e.g. Strain, ClusteringMethod, ClusteringParamSet.  \n",
    "Imported table: blue oval, auto-processing table, the processing depends on the importing of external files. e.g. process of Clustering requires output files from kilosort2.  \n",
    "Computed table: red circle, auto-processing table, the processing does not depend on files external to the database, commonly used for     \n",
    "Part table: plain text, as an appendix to the master table, all the part entries of a given master entry represent a intact set of the master entry. e.g. Unit of a CuratedClustering.\n",
    "\n",
    "**Dependencies**:  \n",
    "\n",
    "One-to-one primary: thick solid line, share the exact same primary key, meaning the child table inherits all the primary key fields from the parent table as its own primary key.     \n",
    "One-to-many primary: thin solid line, inherit the primary key from the parent table, but have additional field(s) as part of the primary key as well\n",
    "secondary dependency: dashed line, the child table inherits the primary key fields from parent table as its own secondary attribute."
   ]
  },
  {
   "cell_type": "code",
   "execution_count": null,
   "metadata": {
    "title": "`dj.Diagram()`: plot the diagram of the tables and dependencies. It could be used to plot tables in a schema or selected tables."
   },
   "outputs": [],
   "source": [
    "# plot diagram of tables in multiple schemas\n",
    "dj.Diagram(subject) + dj.Diagram(session) + dj.Diagram(ephys)"
   ]
  },
  {
   "cell_type": "code",
   "execution_count": null,
   "metadata": {},
   "outputs": [],
   "source": [
    "# plot diagram of selected tables and schemas\n",
    "dj.Diagram(subject.Subject) + dj.Diagram(session.Session) + dj.Diagram(ephys)"
   ]
  },
  {
   "cell_type": "markdown",
   "metadata": {
    "lines_to_next_cell": 0,
    "title": "`heading`:"
   },
   "source": [
    "+ `describe()`: show table definition with foreign key references."
   ]
  },
  {
   "cell_type": "code",
   "execution_count": null,
   "metadata": {},
   "outputs": [],
   "source": [
    "ephys.EphysRecording.describe();"
   ]
  },
  {
   "cell_type": "markdown",
   "metadata": {},
   "source": [
    "+ `heading`: show attribute definitions regardless of foreign key references"
   ]
  },
  {
   "cell_type": "code",
   "execution_count": null,
   "metadata": {
    "title": "`heading`: show table attributes regardless of foreign key references."
   },
   "outputs": [],
   "source": [
    "ephys.EphysRecording.heading"
   ]
  },
  {
   "cell_type": "markdown",
   "metadata": {
    "lines_to_next_cell": 0,
    "title": "probe"
   },
   "source": [
    "# Major DataJoint Elements installed in the current workflow"
   ]
  },
  {
   "cell_type": "markdown",
   "metadata": {
    "title": "ephys"
   },
   "source": [
    "+ [`lab`](https://github.com/datajoint/element-lab): lab management related information, such as Lab, User, Project, Protocol, Source."
   ]
  },
  {
   "cell_type": "code",
   "execution_count": null,
   "metadata": {},
   "outputs": [],
   "source": [
    "dj.Diagram(lab)"
   ]
  },
  {
   "cell_type": "markdown",
   "metadata": {},
   "source": [
    "+ [`subject`](https://github.com/datajoint/element-animal): general animal information, User, Genetic background, Death etc."
   ]
  },
  {
   "cell_type": "code",
   "execution_count": null,
   "metadata": {},
   "outputs": [],
   "source": [
    "dj.Diagram(subject)"
   ]
  },
  {
   "cell_type": "code",
   "execution_count": null,
   "metadata": {
    "title": "[subject](https://github.com/datajoint/element-animal): contains the basic information of subject, including Strain, Line, Subject, Zygosity, and SubjectDeath information."
   },
   "outputs": [],
   "source": [
    "subject.Subject.describe();"
   ]
  },
  {
   "cell_type": "markdown",
   "metadata": {},
   "source": [
    "+ [`session`](https://github.com/datajoint/element-session): General information of experimental sessions."
   ]
  },
  {
   "cell_type": "code",
   "execution_count": null,
   "metadata": {},
   "outputs": [],
   "source": [
    "dj.Diagram(session)"
   ]
  },
  {
   "cell_type": "code",
   "execution_count": null,
   "metadata": {
    "title": "[session](https://github.com/datajoint/element-session): experimental session information"
   },
   "outputs": [],
   "source": [
    "session.Session.describe();"
   ]
  },
  {
   "cell_type": "markdown",
   "metadata": {},
   "source": [
    "+ [`ephys`](https://github.com/datajoint/element-array-ephys): Neuropixel based probe and ephys information"
   ]
  },
  {
   "cell_type": "code",
   "execution_count": null,
   "metadata": {
    "title": "[probe and ephys](https://github.com/datajoint/element-array-ephys): Neuropixel based probe and ephys tables"
   },
   "outputs": [],
   "source": [
    "dj.Diagram(probe) + dj.Diagram(ephys)"
   ]
  },
  {
   "cell_type": "markdown",
   "metadata": {},
   "source": [
    "## Summary and next step\n",
    "\n",
    "+ This notebook introduced the overall structures of the schemas and tables in the workflow and relevant tools to explore the schema structure and table definitions.\n",
    "\n",
    "+ In the next notebook [03-process](03-process.ipynb), we will further introduce the detailed steps running through the pipeline and table contents accordingly."
   ]
  }
 ],
 "metadata": {
  "jupytext": {
   "encoding": "# -*- coding: utf-8 -*-"
  },
  "kernelspec": {
   "display_name": "ephys_workflow_runner",
   "language": "python",
   "name": "ephys_workflow_runner"
  },
  "language_info": {
   "codemirror_mode": {
    "name": "ipython",
    "version": 3
   },
   "file_extension": ".py",
   "mimetype": "text/x-python",
   "name": "python",
   "nbconvert_exporter": "python",
   "pygments_lexer": "ipython3",
   "version": "3.7.0"
  }
 },
 "nbformat": 4,
 "nbformat_minor": 4
}
