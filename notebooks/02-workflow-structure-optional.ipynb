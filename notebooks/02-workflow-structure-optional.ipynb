{
 "cells": [
  {
   "cell_type": "markdown",
   "metadata": {},
   "source": [
    "# Introduction to the workflow structure"
   ]
  },
  {
   "cell_type": "markdown",
   "metadata": {},
   "source": [
    "This notebook gives an overview of the workflow structure and introduces useful DataJoint tools for exploration.\n",
    "+ DataJoint needs to be configured before running this notebook. If you haven't done so, refer to notebook [01-configure](01-configure.ipynb).\n",
    "+ If you are familar with DataJoint workflow structures, proceed to the next notebook [03-process](03-process.ipynb) directly to run this workflow.\n",
    "+ For a more thorough introduction of DataJoint functions, please visit our [general documentation](https://docs.datajoint.org/python/v0.13/index.html)"
   ]
  },
  {
   "cell_type": "markdown",
   "metadata": {},
   "source": [
    "To load the local configuration, we will change the directory to the package root."
   ]
  },
  {
   "cell_type": "code",
   "execution_count": 1,
   "metadata": {},
   "outputs": [],
   "source": [
    "import os\n",
    "if os.path.basename(os.getcwd()) == \"notebooks\":\n",
    "    os.chdir(\"..\")"
   ]
  },
  {
   "cell_type": "markdown",
   "metadata": {},
   "source": [
    "## Schemas, Diagrams and Tables"
   ]
  },
  {
   "cell_type": "markdown",
   "metadata": {},
   "source": [
    "Schemas are conceptually related sets of tables. By importing schemas from `workflow_array_ephys.pipeline`, we'll declare the tables on the server with the prefix in the config (if we have permission to do so). If these tables are already declared, we'll gain access. \n",
    "\n",
    "- `dj.list_schemas()` lists all schemas a user has access to in the current database\n",
    "- `<schema>.schema.list_tables()` will provide names for each table in the format used under the hood."
   ]
  },
  {
   "cell_type": "code",
   "execution_count": 2,
   "metadata": {},
   "outputs": [
    {
     "name": "stdout",
     "output_type": "stream",
     "text": [
      "Connecting root@localhost:3306\n"
     ]
    }
   ],
   "source": [
    "import datajoint as dj\n",
    "from workflow_array_ephys.pipeline import lab, subject, session, probe, ephys"
   ]
  },
  {
   "cell_type": "code",
   "execution_count": 3,
   "metadata": {},
   "outputs": [
    {
     "data": {
      "text/plain": [
       "Schema `neuro_probe`"
      ]
     },
     "execution_count": 3,
     "metadata": {},
     "output_type": "execute_result"
    }
   ],
   "source": [
    "probe.schema"
   ]
  },
  {
   "cell_type": "code",
   "execution_count": 4,
   "metadata": {
    "title": "Each module imported above corresponds to one schema inside the database. For example, `ephys` corresponds to `neuro_ephys` schema in the database."
   },
   "outputs": [
    {
     "data": {
      "text/plain": [
       "Schema `neuro_ephys`"
      ]
     },
     "execution_count": 4,
     "metadata": {},
     "output_type": "execute_result"
    }
   ],
   "source": [
    "ephys.schema.list_tables()"
   ]
  },
  {
   "cell_type": "markdown",
   "metadata": {},
   "source": [
    "`dj.Diagram()` plots tables and dependencies in a schema. To see additional upstream or downstream connections, add `- N` or `+ N`.\n",
    "\n",
    "- `probe`: Neuropixels-based probe information\n",
    "- `ephys`: Electrophysiology data"
   ]
  },
  {
   "cell_type": "code",
   "execution_count": 7,
   "metadata": {
    "title": "`dj.Diagram()`: plot tables and dependencies"
   },
   "outputs": [
    {
     "data": {
      "image/svg+xml": "<svg height=\"524pt\" viewBox=\"0.00 0.00 712.00 524.00\" width=\"712pt\" xmlns=\"http://www.w3.org/2000/svg\" xmlns:xlink=\"http://www.w3.org/1999/xlink\">\n<g class=\"graph\" id=\"graph0\" transform=\"scale(1 1) rotate(0) translate(4 520)\">\n<title>%3</title>\n<polygon fill=\"white\" points=\"-4,4 -4,-520 708,-520 708,4 -4,4\" stroke=\"none\"/>\n<!-- ephys.AcquisitionSoftware -->\n<g class=\"node\" id=\"node1\"><title>ephys.AcquisitionSoftware</title>\n<g id=\"a_node1\"><a xlink:title=\"acq_software         \r\n\">\n<polygon fill=\"#000000\" fill-opacity=\"0.125490\" points=\"265.5,-516 134.5,-516 134.5,-481 265.5,-481 265.5,-516\" stroke=\"none\"/>\n<text font-family=\"arial\" font-size=\"10.00\" text-anchor=\"start\" text-decoration=\"underline\" x=\"142.5\" y=\"-497\">ephys.AcquisitionSoftware</text>\n</a>\n</g>\n</g>\n<!-- ephys.EphysRecording -->\n<g class=\"node\" id=\"node2\"><title>ephys.EphysRecording</title>\n<g id=\"a_node2\"><a xlink:title=\"→ ephys.ProbeInsertion\r\n------------------------------\r\n→ probe.ElectrodeConfig\r\n→ ephys.AcquisitionSoftware\r\nsampling_rate        \r\n\">\n<ellipse cx=\"200\" cy=\"-427.5\" fill=\"#00007f\" fill-opacity=\"0.250980\" rx=\"85.7502\" ry=\"17.5\" stroke=\"#00007f\" stroke-opacity=\"0.250980\"/>\n<text fill=\"#00007f\" font-family=\"arial\" font-size=\"12.00\" text-anchor=\"middle\" x=\"200\" y=\"-424.4\">ephys.EphysRecording</text>\n</a>\n</g>\n</g>\n<!-- ephys.AcquisitionSoftware&#45;&gt;ephys.EphysRecording -->\n<g class=\"edge\" id=\"edge1\"><title>ephys.AcquisitionSoftware-&gt;ephys.EphysRecording</title>\n<path d=\"M200,-480.797C200,-469.949 200,-455.867 200,-445.049\" fill=\"none\" stroke=\"#000000\" stroke-dasharray=\"5,2\" stroke-opacity=\"0.250980\" stroke-width=\"0.75\"/>\n</g>\n<!-- ephys.EphysRecording.EphysFile -->\n<g class=\"node\" id=\"node8\"><title>ephys.EphysRecording.EphysFile</title>\n<g id=\"a_node8\"><a xlink:title=\"→ ephys.EphysRecording\r\nfile_path            \r\n\">\n<polygon fill=\"none\" points=\"282,-366 118,-366 118,-347 282,-347 282,-366\" stroke=\"none\"/>\n<text font-family=\"arial\" font-size=\"10.00\" text-anchor=\"start\" text-decoration=\"underline\" x=\"126\" y=\"-355\">ephys.EphysRecording.EphysFile</text>\n</a>\n</g>\n</g>\n<!-- ephys.EphysRecording&#45;&gt;ephys.EphysRecording.EphysFile -->\n<g class=\"edge\" id=\"edge2\"><title>ephys.EphysRecording-&gt;ephys.EphysRecording.EphysFile</title>\n<path d=\"M200,-409.797C200,-396.077 200,-377.185 200,-366.265\" fill=\"none\" stroke=\"#000000\" stroke-opacity=\"0.250980\" stroke-width=\"0.75\"/>\n</g>\n<!-- ephys.LFP -->\n<g class=\"node\" id=\"node11\"><title>ephys.LFP</title>\n<g id=\"a_node11\"><a xlink:title=\"→ ephys.EphysRecording\r\n------------------------------\r\nlfp_sampling_rate    \r\nlfp_time_stamps      \r\nlfp_mean             \r\n\">\n<ellipse cx=\"54\" cy=\"-356.5\" fill=\"#00007f\" fill-opacity=\"0.250980\" rx=\"45.7503\" ry=\"17.5\" stroke=\"#00007f\" stroke-opacity=\"0.250980\"/>\n<text fill=\"#00007f\" font-family=\"arial\" font-size=\"12.00\" text-anchor=\"middle\" x=\"54\" y=\"-353.4\">ephys.LFP</text>\n</a>\n</g>\n</g>\n<!-- ephys.EphysRecording&#45;&gt;ephys.LFP -->\n<g class=\"edge\" id=\"edge3\"><title>ephys.EphysRecording-&gt;ephys.LFP</title>\n<path d=\"M167.598,-411.187C141.891,-399.038 106.336,-382.234 81.8859,-370.679\" fill=\"none\" stroke=\"#000000\" stroke-opacity=\"0.250980\" stroke-width=\"2\"/>\n</g>\n<!-- ephys.ClusteringTask -->\n<g class=\"node\" id=\"node15\"><title>ephys.ClusteringTask</title>\n<g id=\"a_node15\"><a xlink:title=\"→ ephys.EphysRecording\r\n→ ephys.ClusteringParamSet\r\n------------------------------\r\nclustering_output_dir \r\ntask_mode=&quot;load&quot;     \r\n\">\n<polygon fill=\"#00ff00\" fill-opacity=\"0.188235\" points=\"509,-374 381,-374 381,-339 509,-339 509,-374\" stroke=\"#00ff00\" stroke-opacity=\"0.188235\"/>\n<text fill=\"darkgreen\" font-family=\"arial\" font-size=\"12.00\" text-anchor=\"middle\" x=\"445\" y=\"-353.4\">ephys.ClusteringTask</text>\n</a>\n</g>\n</g>\n<!-- ephys.EphysRecording&#45;&gt;ephys.ClusteringTask -->\n<g class=\"edge\" id=\"edge4\"><title>ephys.EphysRecording-&gt;ephys.ClusteringTask</title>\n<path d=\"M248.112,-412.95C287.689,-401.804 343.938,-385.962 386.187,-374.064\" fill=\"none\" stroke=\"#000000\" stroke-opacity=\"0.250980\" stroke-width=\"0.75\"/>\n</g>\n<!-- ephys.ClusterQualityLabel -->\n<g class=\"node\" id=\"node3\"><title>ephys.ClusterQualityLabel</title>\n<g id=\"a_node3\"><a xlink:title=\"cluster_quality_label \r\n------------------------------\r\ncluster_quality_description \r\n\">\n<polygon fill=\"#000000\" fill-opacity=\"0.125490\" points=\"336.5,-161 205.5,-161 205.5,-126 336.5,-126 336.5,-161\" stroke=\"none\"/>\n<text font-family=\"arial\" font-size=\"10.00\" text-anchor=\"start\" text-decoration=\"underline\" x=\"213.5\" y=\"-142\">ephys.ClusterQualityLabel</text>\n</a>\n</g>\n</g>\n<!-- ephys.CuratedClustering.Unit -->\n<g class=\"node\" id=\"node5\"><title>ephys.CuratedClustering.Unit</title>\n<g id=\"a_node5\"><a xlink:title=\"→ ephys.CuratedClustering\r\nunit                 \r\n------------------------------\r\n→ probe.ElectrodeConfig.Electrode\r\n→ ephys.ClusterQualityLabel\r\nspike_count          \r\nspike_times          \r\nspike_sites          \r\nspike_depths         \r\n\">\n<polygon fill=\"none\" points=\"516.5,-82 373.5,-82 373.5,-63 516.5,-63 516.5,-82\" stroke=\"none\"/>\n<text font-family=\"arial\" font-size=\"10.00\" text-anchor=\"start\" text-decoration=\"underline\" x=\"381.5\" y=\"-71\">ephys.CuratedClustering.Unit</text>\n</a>\n</g>\n</g>\n<!-- ephys.ClusterQualityLabel&#45;&gt;ephys.CuratedClustering.Unit -->\n<g class=\"edge\" id=\"edge5\"><title>ephys.ClusterQualityLabel-&gt;ephys.CuratedClustering.Unit</title>\n<path d=\"M312.677,-125.973C347.464,-112.178 395.664,-93.0645 423.261,-82.1206\" fill=\"none\" stroke=\"#000000\" stroke-dasharray=\"5,2\" stroke-opacity=\"0.250980\" stroke-width=\"0.75\"/>\n</g>\n<!-- ephys.ClusteringParamSet -->\n<g class=\"node\" id=\"node4\"><title>ephys.ClusteringParamSet</title>\n<g id=\"a_node4\"><a xlink:title=\"paramset_idx         \r\n------------------------------\r\n→ ephys.ClusteringMethod\r\nparamset_desc        \r\nparam_set_hash       \r\nparams               \r\nUNIQUE INDEX (param_set_hash)\r\n\">\n<polygon fill=\"#000000\" fill-opacity=\"0.125490\" points=\"593.5,-445 460.5,-445 460.5,-410 593.5,-410 593.5,-445\" stroke=\"none\"/>\n<text font-family=\"arial\" font-size=\"10.00\" text-anchor=\"start\" text-decoration=\"underline\" x=\"468.5\" y=\"-426\">ephys.ClusteringParamSet</text>\n</a>\n</g>\n</g>\n<!-- ephys.ClusteringParamSet&#45;&gt;ephys.ClusteringTask -->\n<g class=\"edge\" id=\"edge6\"><title>ephys.ClusteringParamSet-&gt;ephys.ClusteringTask</title>\n<path d=\"M507.15,-409.797C494.258,-398.949 477.523,-384.867 464.667,-374.049\" fill=\"none\" stroke=\"#000000\" stroke-opacity=\"0.250980\" stroke-width=\"0.75\"/>\n</g>\n<!-- ephys.WaveformSet.Waveform -->\n<g class=\"node\" id=\"node7\"><title>ephys.WaveformSet.Waveform</title>\n<g id=\"a_node7\"><a xlink:title=\"→ ephys.WaveformSet\r\n→ ephys.CuratedClustering.Unit\r\n→ probe.ElectrodeConfig.Electrode\r\n------------------------------\r\nwaveform_mean        \r\nwaveforms=null       \r\n\">\n<polygon fill=\"none\" points=\"513.5,-19 364.5,-19 364.5,-0 513.5,-0 513.5,-19\" stroke=\"none\"/>\n<text font-family=\"arial\" font-size=\"10.00\" text-anchor=\"middle\" x=\"439\" y=\"-7\">ephys.WaveformSet.Waveform</text>\n</a>\n</g>\n</g>\n<!-- ephys.CuratedClustering.Unit&#45;&gt;ephys.WaveformSet.Waveform -->\n<g class=\"edge\" id=\"edge7\"><title>ephys.CuratedClustering.Unit-&gt;ephys.WaveformSet.Waveform</title>\n<path d=\"M444.14,-62.7602C443,-51.1641 440.998,-30.8115 439.858,-19.2236\" fill=\"none\" stroke=\"#000000\" stroke-opacity=\"0.250980\" stroke-width=\"0.75\"/>\n</g>\n<!-- ephys.WaveformSet.PeakWaveform -->\n<g class=\"node\" id=\"node14\"><title>ephys.WaveformSet.PeakWaveform</title>\n<g id=\"a_node14\"><a xlink:title=\"→ ephys.WaveformSet\r\n→ ephys.CuratedClustering.Unit\r\n------------------------------\r\npeak_electrode_waveform \r\n\">\n<polygon fill=\"none\" points=\"704,-19 532,-19 532,-0 704,-0 704,-19\" stroke=\"none\"/>\n<text font-family=\"arial\" font-size=\"10.00\" text-anchor=\"middle\" x=\"618\" y=\"-7\">ephys.WaveformSet.PeakWaveform</text>\n</a>\n</g>\n</g>\n<!-- ephys.CuratedClustering.Unit&#45;&gt;ephys.WaveformSet.PeakWaveform -->\n<g class=\"edge\" id=\"edge8\"><title>ephys.CuratedClustering.Unit-&gt;ephys.WaveformSet.PeakWaveform</title>\n<path d=\"M469.42,-62.8896C502.391,-51.2638 560.797,-30.6698 593.704,-19.0666\" fill=\"none\" stroke=\"#000000\" stroke-opacity=\"0.250980\" stroke-width=\"2\"/>\n</g>\n<!-- ephys.ProbeInsertion -->\n<g class=\"node\" id=\"node6\"><title>ephys.ProbeInsertion</title>\n<g id=\"a_node6\"><a xlink:title=\"→ session.Session\r\ninsertion_number     \r\n------------------------------\r\n→ probe.Probe\r\n\">\n<polygon fill=\"#00ff00\" fill-opacity=\"0.188235\" points=\"423,-516 297,-516 297,-481 423,-481 423,-516\" stroke=\"#00ff00\" stroke-opacity=\"0.188235\"/>\n<text fill=\"darkgreen\" font-family=\"arial\" font-size=\"12.00\" text-anchor=\"start\" text-decoration=\"underline\" x=\"305\" y=\"-496.4\">ephys.ProbeInsertion</text>\n</a>\n</g>\n</g>\n<!-- ephys.ProbeInsertion&#45;&gt;ephys.EphysRecording -->\n<g class=\"edge\" id=\"edge9\"><title>ephys.ProbeInsertion-&gt;ephys.EphysRecording</title>\n<path d=\"M321.676,-480.973C295.328,-469.61 260.611,-454.639 235.007,-443.597\" fill=\"none\" stroke=\"#000000\" stroke-opacity=\"0.250980\" stroke-width=\"2\"/>\n</g>\n<!-- ephys.InsertionLocation -->\n<g class=\"node\" id=\"node9\"><title>ephys.InsertionLocation</title>\n<g id=\"a_node9\"><a xlink:title=\"→ ephys.ProbeInsertion\r\n------------------------------\r\n→ `neuro_lab`.`#skull_reference`\r\nap_location          \r\nml_location          \r\ndepth                \r\ntheta=null           \r\nphi=null             \r\nbeta=null            \r\n\">\n<polygon fill=\"#00ff00\" fill-opacity=\"0.188235\" points=\"442.5,-445 303.5,-445 303.5,-410 442.5,-410 442.5,-445\" stroke=\"#00ff00\" stroke-opacity=\"0.188235\"/>\n<text fill=\"darkgreen\" font-family=\"arial\" font-size=\"12.00\" text-anchor=\"middle\" x=\"373\" y=\"-424.4\">ephys.InsertionLocation</text>\n</a>\n</g>\n</g>\n<!-- ephys.ProbeInsertion&#45;&gt;ephys.InsertionLocation -->\n<g class=\"edge\" id=\"edge10\"><title>ephys.ProbeInsertion-&gt;ephys.InsertionLocation</title>\n<path d=\"M363.147,-480.797C365.191,-469.949 367.844,-455.867 369.882,-445.049\" fill=\"none\" stroke=\"#000000\" stroke-opacity=\"0.250980\" stroke-width=\"2\"/>\n</g>\n<!-- ephys.Curation -->\n<g class=\"node\" id=\"node10\"><title>ephys.Curation</title>\n<g id=\"a_node10\"><a xlink:title=\"→ ephys.Clustering\r\ncuration_id          \r\n------------------------------\r\ncuration_time        \r\ncuration_output_dir  \r\nquality_control      \r\nmanual_curation      \r\ncuration_note=&quot;&quot;     \r\n\">\n<polygon fill=\"#00ff00\" fill-opacity=\"0.188235\" points=\"492.5,-232 397.5,-232 397.5,-197 492.5,-197 492.5,-232\" stroke=\"#00ff00\" stroke-opacity=\"0.188235\"/>\n<text fill=\"darkgreen\" font-family=\"arial\" font-size=\"12.00\" text-anchor=\"start\" text-decoration=\"underline\" x=\"405.5\" y=\"-212.4\">ephys.Curation</text>\n</a>\n</g>\n</g>\n<!-- ephys.CuratedClustering -->\n<g class=\"node\" id=\"node16\"><title>ephys.CuratedClustering</title>\n<g id=\"a_node16\"><a xlink:title=\"→ ephys.Curation\r\n\">\n<ellipse cx=\"445\" cy=\"-143.5\" fill=\"#00007f\" fill-opacity=\"0.250980\" rx=\"90.7502\" ry=\"17.5\" stroke=\"#00007f\" stroke-opacity=\"0.250980\"/>\n<text fill=\"#00007f\" font-family=\"arial\" font-size=\"12.00\" text-anchor=\"middle\" x=\"445\" y=\"-140.4\">ephys.CuratedClustering</text>\n</a>\n</g>\n</g>\n<!-- ephys.Curation&#45;&gt;ephys.CuratedClustering -->\n<g class=\"edge\" id=\"edge11\"><title>ephys.Curation-&gt;ephys.CuratedClustering</title>\n<path d=\"M445,-196.797C445,-185.949 445,-171.867 445,-161.049\" fill=\"none\" stroke=\"#000000\" stroke-opacity=\"0.250980\" stroke-width=\"2\"/>\n</g>\n<!-- ephys.LFP.Electrode -->\n<g class=\"node\" id=\"node12\"><title>ephys.LFP.Electrode</title>\n<g id=\"a_node12\"><a xlink:title=\"→ ephys.LFP\r\n→ probe.ElectrodeConfig.Electrode\r\n------------------------------\r\nlfp                  \r\n\">\n<polygon fill=\"none\" points=\"108,-295 0,-295 0,-276 108,-276 108,-295\" stroke=\"none\"/>\n<text font-family=\"arial\" font-size=\"10.00\" text-anchor=\"middle\" x=\"54\" y=\"-283\">ephys.LFP.Electrode</text>\n</a>\n</g>\n</g>\n<!-- ephys.LFP&#45;&gt;ephys.LFP.Electrode -->\n<g class=\"edge\" id=\"edge12\"><title>ephys.LFP-&gt;ephys.LFP.Electrode</title>\n<path d=\"M54,-338.797C54,-325.077 54,-306.185 54,-295.265\" fill=\"none\" stroke=\"#000000\" stroke-opacity=\"0.250980\" stroke-width=\"0.75\"/>\n</g>\n<!-- ephys.WaveformSet -->\n<g class=\"node\" id=\"node13\"><title>ephys.WaveformSet</title>\n<g id=\"a_node13\"><a xlink:title=\"→ ephys.CuratedClustering\r\n\">\n<ellipse cx=\"611\" cy=\"-72.5\" fill=\"#00007f\" fill-opacity=\"0.250980\" rx=\"76.0008\" ry=\"17.5\" stroke=\"#00007f\" stroke-opacity=\"0.250980\"/>\n<text fill=\"#00007f\" font-family=\"arial\" font-size=\"12.00\" text-anchor=\"middle\" x=\"611\" y=\"-69.4\">ephys.WaveformSet</text>\n</a>\n</g>\n</g>\n<!-- ephys.WaveformSet&#45;&gt;ephys.WaveformSet.Waveform -->\n<g class=\"edge\" id=\"edge13\"><title>ephys.WaveformSet-&gt;ephys.WaveformSet.Waveform</title>\n<path d=\"M571.54,-57.5054C538.215,-45.6868 491.549,-29.1366 463.404,-19.1548\" fill=\"none\" stroke=\"#000000\" stroke-opacity=\"0.250980\" stroke-width=\"0.75\"/>\n</g>\n<!-- ephys.WaveformSet&#45;&gt;ephys.WaveformSet.PeakWaveform -->\n<g class=\"edge\" id=\"edge14\"><title>ephys.WaveformSet-&gt;ephys.WaveformSet.PeakWaveform</title>\n<path d=\"M612.913,-54.8315C614.241,-43.2612 615.955,-28.3217 617.016,-19.0782\" fill=\"none\" stroke=\"#000000\" stroke-opacity=\"0.250980\" stroke-width=\"0.75\"/>\n</g>\n<!-- ephys.Clustering -->\n<g class=\"node\" id=\"node17\"><title>ephys.Clustering</title>\n<g id=\"a_node17\"><a xlink:title=\"→ ephys.ClusteringTask\r\n------------------------------\r\nclustering_time      \r\npackage_version=&quot;&quot;   \r\n\">\n<ellipse cx=\"445\" cy=\"-285.5\" fill=\"#00007f\" fill-opacity=\"0.250980\" rx=\"64.2502\" ry=\"17.5\" stroke=\"#00007f\" stroke-opacity=\"0.250980\"/>\n<text fill=\"#00007f\" font-family=\"arial\" font-size=\"12.00\" text-anchor=\"middle\" x=\"445\" y=\"-282.4\">ephys.Clustering</text>\n</a>\n</g>\n</g>\n<!-- ephys.ClusteringTask&#45;&gt;ephys.Clustering -->\n<g class=\"edge\" id=\"edge15\"><title>ephys.ClusteringTask-&gt;ephys.Clustering</title>\n<path d=\"M445,-338.797C445,-327.949 445,-313.867 445,-303.049\" fill=\"none\" stroke=\"#000000\" stroke-opacity=\"0.250980\" stroke-width=\"2\"/>\n</g>\n<!-- ephys.CuratedClustering&#45;&gt;ephys.CuratedClustering.Unit -->\n<g class=\"edge\" id=\"edge16\"><title>ephys.CuratedClustering-&gt;ephys.CuratedClustering.Unit</title>\n<path d=\"M445,-125.797C445,-112.077 445,-93.1854 445,-82.2652\" fill=\"none\" stroke=\"#000000\" stroke-opacity=\"0.250980\" stroke-width=\"0.75\"/>\n</g>\n<!-- ephys.CuratedClustering&#45;&gt;ephys.WaveformSet -->\n<g class=\"edge\" id=\"edge17\"><title>ephys.CuratedClustering-&gt;ephys.WaveformSet</title>\n<path d=\"M481.429,-127.358C509.489,-115.695 548.046,-99.6674 575.794,-88.1338\" fill=\"none\" stroke=\"#000000\" stroke-opacity=\"0.250980\" stroke-width=\"2\"/>\n</g>\n<!-- ephys.Clustering&#45;&gt;ephys.Curation -->\n<g class=\"edge\" id=\"edge18\"><title>ephys.Clustering-&gt;ephys.Curation</title>\n<path d=\"M445,-267.797C445,-256.949 445,-242.867 445,-232.049\" fill=\"none\" stroke=\"#000000\" stroke-opacity=\"0.250980\" stroke-width=\"0.75\"/>\n</g>\n<!-- ephys.ClusteringMethod -->\n<g class=\"node\" id=\"node18\"><title>ephys.ClusteringMethod</title>\n<g id=\"a_node18\"><a xlink:title=\"clustering_method    \r\n------------------------------\r\nclustering_method_desc \r\n\">\n<polygon fill=\"#000000\" fill-opacity=\"0.125490\" points=\"588,-516 466,-516 466,-481 588,-481 588,-516\" stroke=\"none\"/>\n<text font-family=\"arial\" font-size=\"10.00\" text-anchor=\"start\" text-decoration=\"underline\" x=\"474\" y=\"-497\">ephys.ClusteringMethod</text>\n</a>\n</g>\n</g>\n<!-- ephys.ClusteringMethod&#45;&gt;ephys.ClusteringParamSet -->\n<g class=\"edge\" id=\"edge19\"><title>ephys.ClusteringMethod-&gt;ephys.ClusteringParamSet</title>\n<path d=\"M527,-480.797C527,-469.949 527,-455.867 527,-445.049\" fill=\"none\" stroke=\"#000000\" stroke-dasharray=\"5,2\" stroke-opacity=\"0.250980\" stroke-width=\"0.75\"/>\n</g>\n</g>\n</svg>",
      "text/plain": [
       "<datajoint.diagram.Diagram at 0x24013460908>"
      ]
     },
     "execution_count": 7,
     "metadata": {},
     "output_type": "execute_result"
    }
   ],
   "source": [
    "# plot diagram for all tables in a schema\n",
    "dj.Diagram(probe)"
   ]
  },
  {
   "cell_type": "code",
   "execution_count": null,
   "metadata": {},
   "outputs": [],
   "source": [
    "dj.Diagram(ephys) + dj.Diagram(session) - 1"
   ]
  },
  {
   "cell_type": "markdown",
   "metadata": {},
   "source": [
    "### Table Types\n",
    "\n",
    "- **Manual table**: green box, manually inserted table, expect new entries daily, e.g. Subject, ProbeInsertion.  \n",
    "- **Lookup table**: gray box, pre inserted table, commonly used for general facts or parameters. e.g. Strain, ClusteringMethod, ClusteringParamSet.  \n",
    "- **Imported table**: blue oval, auto-processing table, the processing depends on the importing of external files. e.g. process of Clustering requires output files from kilosort2.  \n",
    "- **Computed table**: red circle, auto-processing table, the processing does not depend on files external to the database, commonly used for     \n",
    "- **Part table**: plain text, as an appendix to the master table, all the part entries of a given master entry represent a intact set of the master entry. e.g. Unit of a CuratedClustering.\n",
    "\n",
    "### Table Links\n",
    "\n",
    "- **One-to-one primary**: thick solid line, share the exact same primary key, meaning the child table inherits all the primary key fields from the parent table as its own primary key.     \n",
    "- **One-to-many primary**: thin solid line, inherit the primary key from the parent table, but have additional field(s) as part of the primary key as well\n",
    "- **Secondary dependency**: dashed line, the child table inherits the primary key fields from parent table as its own secondary attribute."
   ]
  },
  {
   "cell_type": "markdown",
   "metadata": {},
   "source": [
    "## Common Table Functions"
   ]
  },
  {
   "cell_type": "markdown",
   "metadata": {},
   "source": [
    "\n",
    "- `<table>()` show table contents\n",
    "- `heading` shows attribute definitions\n",
    "- `describe()` show table defintiion with foreign key references"
   ]
  },
  {
   "cell_type": "code",
   "execution_count": 6,
   "metadata": {
    "title": "Each datajoint table class inside the module corresponds to a table inside the schema. For example, the class `ephys.EphysRecording` correponds to the table `_ephys_recording` in the schema `neuro_ephys` in the database."
   },
   "outputs": [
    {
     "data": {
      "text/html": [
       "\n",
       "    \n",
       "    <style type=\"text/css\">\n",
       "        .Relation{\n",
       "            border-collapse:collapse;\n",
       "        }\n",
       "        .Relation th{\n",
       "            background: #A0A0A0; color: #ffffff; padding:4px; border:#f0e0e0 1px solid;\n",
       "            font-weight: normal; font-family: monospace; font-size: 100%;\n",
       "        }\n",
       "        .Relation td{\n",
       "            padding:4px; border:#f0e0e0 1px solid; font-size:100%;\n",
       "        }\n",
       "        .Relation tr:nth-child(odd){\n",
       "            background: #ffffff;\n",
       "        }\n",
       "        .Relation tr:nth-child(even){\n",
       "            background: #f3f1ff;\n",
       "        }\n",
       "        /* Tooltip container */\n",
       "        .djtooltip {\n",
       "        }\n",
       "        /* Tooltip text */\n",
       "        .djtooltip .djtooltiptext {\n",
       "            visibility: hidden;\n",
       "            width: 120px;\n",
       "            background-color: black;\n",
       "            color: #fff;\n",
       "            text-align: center;\n",
       "            padding: 5px 0;\n",
       "            border-radius: 6px;\n",
       "            /* Position the tooltip text - see examples below! */\n",
       "            position: absolute;\n",
       "            z-index: 1;\n",
       "        }\n",
       "        #primary {\n",
       "            font-weight: bold;\n",
       "            color: black;\n",
       "        }\n",
       "        #nonprimary {\n",
       "            font-weight: normal;\n",
       "            color: white;\n",
       "        }\n",
       "\n",
       "        /* Show the tooltip text when you mouse over the tooltip container */\n",
       "        .djtooltip:hover .djtooltiptext {\n",
       "            visibility: visible;\n",
       "        }\n",
       "    </style>\n",
       "    \n",
       "    <b>Ephys recording from a probe insertion for a given session.</b>\n",
       "        <div style=\"max-height:1000px;max-width:1500px;overflow:auto;\">\n",
       "        <table border=\"1\" class=\"Relation\">\n",
       "            <thead> <tr style=\"text-align: right;\"> <th> <div class=\"djtooltip\">\n",
       "                            <p id=\"primary\">subject</p>\n",
       "                            <span class=\"djtooltiptext\"></span>\n",
       "                        </div></th><th><div class=\"djtooltip\">\n",
       "                            <p id=\"primary\">session_datetime</p>\n",
       "                            <span class=\"djtooltiptext\"></span>\n",
       "                        </div></th><th><div class=\"djtooltip\">\n",
       "                            <p id=\"primary\">insertion_number</p>\n",
       "                            <span class=\"djtooltiptext\"></span>\n",
       "                        </div></th><th><div class=\"djtooltip\">\n",
       "                            <p id=\"nonprimary\">electrode_config_hash</p>\n",
       "                            <span class=\"djtooltiptext\"></span>\n",
       "                        </div></th><th><div class=\"djtooltip\">\n",
       "                            <p id=\"nonprimary\">acq_software</p>\n",
       "                            <span class=\"djtooltiptext\"></span>\n",
       "                        </div></th><th><div class=\"djtooltip\">\n",
       "                            <p id=\"nonprimary\">sampling_rate</p>\n",
       "                            <span class=\"djtooltiptext\">(Hz)</span>\n",
       "                        </div> </th> </tr> </thead>\n",
       "            <tbody> <tr>  </tr> </tbody>\n",
       "        </table>\n",
       "        \n",
       "        <p>Total: 0</p></div>\n",
       "        "
      ],
      "text/plain": [
       "*subject    *session_datet *insertion_num electrode_conf acq_software   sampling_rate \n",
       "+---------+ +------------+ +------------+ +------------+ +------------+ +------------+\n",
       "\n",
       " (Total: 0)"
      ]
     },
     "execution_count": 6,
     "metadata": {},
     "output_type": "execute_result"
    }
   ],
   "source": [
    "# preview table columns and contents in a table\n",
    "ephys.EphysRecording()"
   ]
  },
  {
   "cell_type": "code",
   "execution_count": null,
   "metadata": {},
   "outputs": [],
   "source": [
    "ephys.Clustering.heading"
   ]
  },
  {
   "cell_type": "code",
   "execution_count": null,
   "metadata": {},
   "outputs": [],
   "source": [
    "ephys.WaveformSet.describe()"
   ]
  },
  {
   "cell_type": "markdown",
   "metadata": {
    "lines_to_next_cell": 0,
    "title": "probe"
   },
   "source": [
    "## Other Elements installed with the workflow\n",
    "\n",
    "- [`lab`](https://github.com/datajoint/element-lab): lab management related information, such as Lab, User, Project, Protocol, Source.\n",
    "- [`subject`](https://github.com/datajoint/element-animal): (element-animal) general animal information, User, Genetic background, Death etc.\n",
    "- [`session`](https://github.com/datajoint/element-session): General information of experimental sessions.\n",
    "\n",
    "For more information about these Elements, see [workflow session](https://github.com/datajoint/workflow-session)."
   ]
  },
  {
   "cell_type": "code",
   "execution_count": 14,
   "metadata": {},
   "outputs": [
    {
     "data": {
      "image/svg+xml": "<svg height=\"114pt\" viewBox=\"0.00 0.00 660.50 114.00\" width=\"661pt\" xmlns=\"http://www.w3.org/2000/svg\" xmlns:xlink=\"http://www.w3.org/1999/xlink\">\n<g class=\"graph\" id=\"graph0\" transform=\"scale(1 1) rotate(0) translate(4 110)\">\n<title>%3</title>\n<polygon fill=\"white\" points=\"-4,4 -4,-110 656.5,-110 656.5,4 -4,4\" stroke=\"none\"/>\n<!-- `neuro_lab`.`#skull_reference` -->\n<g class=\"node\" id=\"node1\"><title>`neuro_lab`.`#skull_reference`</title>\n<polygon fill=\"#000000\" fill-opacity=\"0.125490\" points=\"144,-106 0,-106 0,-71 144,-71 144,-106\" stroke=\"none\"/>\n<text font-family=\"arial\" font-size=\"10.00\" text-anchor=\"start\" text-decoration=\"underline\" x=\"8\" y=\"-87\">`neuro_lab`.`#skull_reference`</text>\n</g>\n<!-- lab.LabMembership -->\n<g class=\"node\" id=\"node2\"><title>lab.LabMembership</title>\n<g id=\"a_node2\"><a xlink:title=\"→ lab.Lab\r\n→ lab.User\r\n------------------------------\r\n→ [nullable] lab.UserRole\r\n\">\n<polygon fill=\"#000000\" fill-opacity=\"0.125490\" points=\"332.5,-35 231.5,-35 231.5,-0 332.5,-0 332.5,-35\" stroke=\"none\"/>\n<text font-family=\"arial\" font-size=\"10.00\" text-anchor=\"middle\" x=\"282\" y=\"-15\">lab.LabMembership</text>\n</a>\n</g>\n</g>\n<!-- lab.Location -->\n<g class=\"node\" id=\"node3\"><title>lab.Location</title>\n<g id=\"a_node3\"><a xlink:title=\"→ lab.Lab\r\nlocation             \r\n------------------------------\r\nlocation_description=&quot;&quot; \r\n\">\n<polygon fill=\"#000000\" fill-opacity=\"0.125490\" points=\"213.5,-35 144.5,-35 144.5,-0 213.5,-0 213.5,-35\" stroke=\"none\"/>\n<text font-family=\"arial\" font-size=\"10.00\" text-anchor=\"start\" text-decoration=\"underline\" x=\"152.5\" y=\"-16\">lab.Location</text>\n</a>\n</g>\n</g>\n<!-- lab.Source -->\n<g class=\"node\" id=\"node4\"><title>lab.Source</title>\n<g id=\"a_node4\"><a xlink:title=\"source               \r\n------------------------------\r\nsource_name          \r\ncontact_details=&quot;&quot;   \r\nsource_description=&quot;&quot; \r\n\">\n<polygon fill=\"#000000\" fill-opacity=\"0.125490\" points=\"545.5,-106 482.5,-106 482.5,-71 545.5,-71 545.5,-106\" stroke=\"none\"/>\n<text font-family=\"arial\" font-size=\"10.00\" text-anchor=\"start\" text-decoration=\"underline\" x=\"490.5\" y=\"-87\">lab.Source</text>\n</a>\n</g>\n</g>\n<!-- lab.Protocol -->\n<g class=\"node\" id=\"node5\"><title>lab.Protocol</title>\n<g id=\"a_node5\"><a xlink:title=\"protocol             \r\n------------------------------\r\n→ lab.ProtocolType\r\nprotocol_description=&quot;&quot; \r\n\">\n<polygon fill=\"#000000\" fill-opacity=\"0.125490\" points=\"642,-35 574,-35 574,-0 642,-0 642,-35\" stroke=\"none\"/>\n<text font-family=\"arial\" font-size=\"10.00\" text-anchor=\"start\" text-decoration=\"underline\" x=\"582\" y=\"-16\">lab.Protocol</text>\n</a>\n</g>\n</g>\n<!-- lab.Project -->\n<g class=\"node\" id=\"node6\"><title>lab.Project</title>\n<g id=\"a_node6\"><a xlink:title=\"project              \r\n------------------------------\r\nproject_description=&quot;&quot; \r\n\">\n<polygon fill=\"#000000\" fill-opacity=\"0.125490\" points=\"464.5,-106 401.5,-106 401.5,-71 464.5,-71 464.5,-106\" stroke=\"none\"/>\n<text font-family=\"arial\" font-size=\"10.00\" text-anchor=\"start\" text-decoration=\"underline\" x=\"409.5\" y=\"-87\">lab.Project</text>\n</a>\n</g>\n</g>\n<!-- lab.ProjectUser -->\n<g class=\"node\" id=\"node7\"><title>lab.ProjectUser</title>\n<g id=\"a_node7\"><a xlink:title=\"→ lab.Project\r\n→ lab.User\r\n\">\n<polygon fill=\"#00ff00\" fill-opacity=\"0.188235\" points=\"467.5,-35 370.5,-35 370.5,-0 467.5,-0 467.5,-35\" stroke=\"#00ff00\" stroke-opacity=\"0.188235\"/>\n<text fill=\"darkgreen\" font-family=\"arial\" font-size=\"12.00\" text-anchor=\"middle\" x=\"419\" y=\"-14.4\">lab.ProjectUser</text>\n</a>\n</g>\n</g>\n<!-- lab.Project&#45;&gt;lab.ProjectUser -->\n<g class=\"edge\" id=\"edge1\"><title>lab.Project-&gt;lab.ProjectUser</title>\n<path d=\"M429.611,-70.797C427.41,-59.9485 424.553,-45.8669 422.358,-35.0492\" fill=\"none\" stroke=\"#000000\" stroke-opacity=\"0.250980\" stroke-width=\"0.75\"/>\n</g>\n<!-- lab.Lab -->\n<g class=\"node\" id=\"node8\"><title>lab.Lab</title>\n<g id=\"a_node8\"><a xlink:title=\"lab                  \r\n------------------------------\r\nlab_name             \r\ninstitution          \r\naddress              \r\ntime_zone            \r\n\">\n<polygon fill=\"#000000\" fill-opacity=\"0.125490\" points=\"210,-106 162,-106 162,-71 210,-71 210,-106\" stroke=\"none\"/>\n<text font-family=\"arial\" font-size=\"10.00\" text-anchor=\"start\" text-decoration=\"underline\" x=\"170\" y=\"-87\">lab.Lab</text>\n</a>\n</g>\n</g>\n<!-- lab.Lab&#45;&gt;lab.LabMembership -->\n<g class=\"edge\" id=\"edge2\"><title>lab.Lab-&gt;lab.LabMembership</title>\n<path d=\"M209.239,-70.797C224.333,-59.9485 243.924,-45.8669 258.975,-35.0492\" fill=\"none\" stroke=\"#000000\" stroke-opacity=\"0.250980\" stroke-width=\"0.75\"/>\n</g>\n<!-- lab.Lab&#45;&gt;lab.Location -->\n<g class=\"edge\" id=\"edge3\"><title>lab.Lab-&gt;lab.Location</title>\n<path d=\"M184.305,-70.797C183.205,-59.9485 181.776,-45.8669 180.679,-35.0492\" fill=\"none\" stroke=\"#000000\" stroke-opacity=\"0.250980\" stroke-width=\"0.75\"/>\n</g>\n<!-- lab.User -->\n<g class=\"node\" id=\"node9\"><title>lab.User</title>\n<g id=\"a_node9\"><a xlink:title=\"user                 \r\n------------------------------\r\nuser_email=&quot;&quot;        \r\nuser_cellphone=&quot;&quot;    \r\n\">\n<polygon fill=\"#000000\" fill-opacity=\"0.125490\" points=\"383.5,-106 330.5,-106 330.5,-71 383.5,-71 383.5,-106\" stroke=\"none\"/>\n<text font-family=\"arial\" font-size=\"10.00\" text-anchor=\"start\" text-decoration=\"underline\" x=\"338.5\" y=\"-87\">lab.User</text>\n</a>\n</g>\n</g>\n<!-- lab.User&#45;&gt;lab.LabMembership -->\n<g class=\"edge\" id=\"edge4\"><title>lab.User-&gt;lab.LabMembership</title>\n<path d=\"M338.845,-70.797C327.053,-59.9485 311.747,-45.8669 299.988,-35.0492\" fill=\"none\" stroke=\"#000000\" stroke-opacity=\"0.250980\" stroke-width=\"0.75\"/>\n</g>\n<!-- lab.User&#45;&gt;lab.ProjectUser -->\n<g class=\"edge\" id=\"edge5\"><title>lab.User-&gt;lab.ProjectUser</title>\n<path d=\"M372.008,-70.797C381.756,-59.9485 394.409,-45.8669 404.13,-35.0492\" fill=\"none\" stroke=\"#000000\" stroke-opacity=\"0.250980\" stroke-width=\"0.75\"/>\n</g>\n<!-- lab.UserRole -->\n<g class=\"node\" id=\"node10\"><title>lab.UserRole</title>\n<g id=\"a_node10\"><a xlink:title=\"user_role            \r\n\">\n<polygon fill=\"#000000\" fill-opacity=\"0.125490\" points=\"312,-106 240,-106 240,-71 312,-71 312,-106\" stroke=\"none\"/>\n<text font-family=\"arial\" font-size=\"10.00\" text-anchor=\"start\" text-decoration=\"underline\" x=\"248\" y=\"-87\">lab.UserRole</text>\n</a>\n</g>\n</g>\n<!-- lab.UserRole&#45;&gt;lab.LabMembership -->\n<g class=\"edge\" id=\"edge6\"><title>lab.UserRole-&gt;lab.LabMembership</title>\n<path d=\"M277.452,-70.797C278.396,-59.9485 279.62,-45.8669 280.561,-35.0492\" fill=\"none\" stroke=\"#000000\" stroke-dasharray=\"5,2\" stroke-opacity=\"0.250980\" stroke-width=\"0.75\"/>\n</g>\n<!-- lab.ProtocolType -->\n<g class=\"node\" id=\"node11\"><title>lab.ProtocolType</title>\n<g id=\"a_node11\"><a xlink:title=\"protocol_type        \r\n\">\n<polygon fill=\"#000000\" fill-opacity=\"0.125490\" points=\"652.5,-106 563.5,-106 563.5,-71 652.5,-71 652.5,-106\" stroke=\"none\"/>\n<text font-family=\"arial\" font-size=\"10.00\" text-anchor=\"start\" text-decoration=\"underline\" x=\"571.5\" y=\"-87\">lab.ProtocolType</text>\n</a>\n</g>\n</g>\n<!-- lab.ProtocolType&#45;&gt;lab.Protocol -->\n<g class=\"edge\" id=\"edge7\"><title>lab.ProtocolType-&gt;lab.Protocol</title>\n<path d=\"M608,-70.797C608,-59.9485 608,-45.8669 608,-35.0492\" fill=\"none\" stroke=\"#000000\" stroke-dasharray=\"5,2\" stroke-opacity=\"0.250980\" stroke-width=\"0.75\"/>\n</g>\n</g>\n</svg>",
      "text/plain": [
       "<datajoint.diagram.Diagram at 0x24014814108>"
      ]
     },
     "execution_count": 14,
     "metadata": {},
     "output_type": "execute_result"
    }
   ],
   "source": [
    "dj.Diagram(lab)"
   ]
  },
  {
   "cell_type": "code",
   "execution_count": 15,
   "metadata": {},
   "outputs": [
    {
     "data": {
      "image/svg+xml": "<svg height=\"114pt\" viewBox=\"0.00 0.00 1444.00 114.00\" width=\"1444pt\" xmlns=\"http://www.w3.org/2000/svg\" xmlns:xlink=\"http://www.w3.org/1999/xlink\">\n<g class=\"graph\" id=\"graph0\" transform=\"scale(1 1) rotate(0) translate(4 110)\">\n<title>%3</title>\n<polygon fill=\"white\" points=\"-4,4 -4,-110 1440,-110 1440,4 -4,4\" stroke=\"none\"/>\n<!-- subject.Line -->\n<g class=\"node\" id=\"node1\"><title>subject.Line</title>\n<g id=\"a_node1\"><a xlink:title=\"line                 \r\n------------------------------\r\nline_description=&quot;&quot;  \r\ntarget_phenotype=&quot;&quot;  \r\nis_active            \r\n\">\n<polygon fill=\"#000000\" fill-opacity=\"0.125490\" points=\"210,-106 141,-106 141,-71 210,-71 210,-106\" stroke=\"none\"/>\n<text font-family=\"arial\" font-size=\"10.00\" text-anchor=\"start\" text-decoration=\"underline\" x=\"149\" y=\"-87\">subject.Line</text>\n</a>\n</g>\n</g>\n<!-- subject.Line.Allele -->\n<g class=\"node\" id=\"node10\"><title>subject.Line.Allele</title>\n<g id=\"a_node10\"><a xlink:title=\"→ subject.Line\r\n→ subject.Allele\r\n\">\n<polygon fill=\"none\" points=\"223.5,-27 127.5,-27 127.5,-8 223.5,-8 223.5,-27\" stroke=\"none\"/>\n<text font-family=\"arial\" font-size=\"10.00\" text-anchor=\"middle\" x=\"175.5\" y=\"-15\">subject.Line.Allele</text>\n</a>\n</g>\n</g>\n<!-- subject.Line&#45;&gt;subject.Line.Allele -->\n<g class=\"edge\" id=\"edge1\"><title>subject.Line-&gt;subject.Line.Allele</title>\n<path d=\"M175.5,-70.797C175.5,-57.0768 175.5,-38.1854 175.5,-27.2652\" fill=\"none\" stroke=\"#000000\" stroke-opacity=\"0.250980\" stroke-width=\"0.75\"/>\n</g>\n<!-- subject.Subject.Line -->\n<g class=\"node\" id=\"node14\"><title>subject.Subject.Line</title>\n<g id=\"a_node14\"><a xlink:title=\"→ subject.Subject\r\n------------------------------\r\n→ subject.Line\r\n\">\n<polygon fill=\"none\" points=\"464,-27 359,-27 359,-8 464,-8 464,-27\" stroke=\"none\"/>\n<text font-family=\"arial\" font-size=\"10.00\" text-anchor=\"middle\" x=\"411.5\" y=\"-15\">subject.Subject.Line</text>\n</a>\n</g>\n</g>\n<!-- subject.Line&#45;&gt;subject.Subject.Line -->\n<g class=\"edge\" id=\"edge2\"><title>subject.Line-&gt;subject.Subject.Line</title>\n<path d=\"M210.069,-77.3929C256.672,-63.7675 338.821,-39.7494 382.419,-27.0024\" fill=\"none\" stroke=\"#000000\" stroke-dasharray=\"5,2\" stroke-opacity=\"0.250980\" stroke-width=\"0.75\"/>\n</g>\n<!-- subject.Subject.Protocol -->\n<g class=\"node\" id=\"node2\"><title>subject.Subject.Protocol</title>\n<g id=\"a_node2\"><a xlink:title=\"→ subject.Subject\r\n→ lab.Protocol\r\n\">\n<polygon fill=\"none\" points=\"996,-27 873,-27 873,-8 996,-8 996,-27\" stroke=\"none\"/>\n<text font-family=\"arial\" font-size=\"10.00\" text-anchor=\"middle\" x=\"934.5\" y=\"-15\">subject.Subject.Protocol</text>\n</a>\n</g>\n</g>\n<!-- subject.SubjectCullMethod -->\n<g class=\"node\" id=\"node3\"><title>subject.SubjectCullMethod</title>\n<g id=\"a_node3\"><a xlink:title=\"→ subject.Subject\r\n------------------------------\r\ncull_method          \r\n\">\n<polygon fill=\"#00ff00\" fill-opacity=\"0.188235\" points=\"1168.5,-35 1014.5,-35 1014.5,-0 1168.5,-0 1168.5,-35\" stroke=\"#00ff00\" stroke-opacity=\"0.188235\"/>\n<text fill=\"darkgreen\" font-family=\"arial\" font-size=\"12.00\" text-anchor=\"middle\" x=\"1091.5\" y=\"-14.4\">subject.SubjectCullMethod</text>\n</a>\n</g>\n</g>\n<!-- subject.Subject.Source -->\n<g class=\"node\" id=\"node4\"><title>subject.Subject.Source</title>\n<g id=\"a_node4\"><a xlink:title=\"→ subject.Subject\r\n------------------------------\r\n→ lab.Source\r\n\">\n<polygon fill=\"none\" points=\"1304.5,-27 1186.5,-27 1186.5,-8 1304.5,-8 1304.5,-27\" stroke=\"none\"/>\n<text font-family=\"arial\" font-size=\"10.00\" text-anchor=\"middle\" x=\"1245.5\" y=\"-15\">subject.Subject.Source</text>\n</a>\n</g>\n</g>\n<!-- subject.Allele.Source -->\n<g class=\"node\" id=\"node5\"><title>subject.Allele.Source</title>\n<g id=\"a_node5\"><a xlink:title=\"→ subject.Allele\r\n------------------------------\r\n→ lab.Source\r\nsource_identifier=&quot;&quot; \r\nsource_url=&quot;&quot;        \r\nexpression_data_url=&quot;&quot; \r\n\">\n<polygon fill=\"none\" points=\"109,-27 0,-27 0,-8 109,-8 109,-27\" stroke=\"none\"/>\n<text font-family=\"arial\" font-size=\"10.00\" text-anchor=\"middle\" x=\"54.5\" y=\"-15\">subject.Allele.Source</text>\n</a>\n</g>\n</g>\n<!-- subject.Subject.Lab -->\n<g class=\"node\" id=\"node6\"><title>subject.Subject.Lab</title>\n<g id=\"a_node6\"><a xlink:title=\"→ subject.Subject\r\n→ lab.Lab\r\n------------------------------\r\nsubject_alias=&quot;&quot;     \r\n\">\n<polygon fill=\"none\" points=\"585,-27 482,-27 482,-8 585,-8 585,-27\" stroke=\"none\"/>\n<text font-family=\"arial\" font-size=\"10.00\" text-anchor=\"middle\" x=\"533.5\" y=\"-15\">subject.Subject.Lab</text>\n</a>\n</g>\n</g>\n<!-- subject.SubjectDeath -->\n<g class=\"node\" id=\"node7\"><title>subject.SubjectDeath</title>\n<g id=\"a_node7\"><a xlink:title=\"→ subject.Subject\r\n------------------------------\r\ndeath_date           \r\n\">\n<polygon fill=\"#00ff00\" fill-opacity=\"0.188235\" points=\"730,-35 603,-35 603,-0 730,-0 730,-35\" stroke=\"#00ff00\" stroke-opacity=\"0.188235\"/>\n<text fill=\"darkgreen\" font-family=\"arial\" font-size=\"12.00\" text-anchor=\"middle\" x=\"666.5\" y=\"-14.4\">subject.SubjectDeath</text>\n</a>\n</g>\n</g>\n<!-- subject.Zygosity -->\n<g class=\"node\" id=\"node8\"><title>subject.Zygosity</title>\n<g id=\"a_node8\"><a xlink:title=\"→ subject.Subject\r\n→ subject.Allele\r\n------------------------------\r\nzygosity             \r\n\">\n<polygon fill=\"#00ff00\" fill-opacity=\"0.188235\" points=\"341,-35 242,-35 242,-0 341,-0 341,-35\" stroke=\"#00ff00\" stroke-opacity=\"0.188235\"/>\n<text fill=\"darkgreen\" font-family=\"arial\" font-size=\"12.00\" text-anchor=\"middle\" x=\"291.5\" y=\"-14.4\">subject.Zygosity</text>\n</a>\n</g>\n</g>\n<!-- subject.Strain -->\n<g class=\"node\" id=\"node9\"><title>subject.Strain</title>\n<g id=\"a_node9\"><a xlink:title=\"strain               \r\n------------------------------\r\nstrain_standard_name \r\nstrain_desc=&quot;&quot;       \r\n\">\n<polygon fill=\"#000000\" fill-opacity=\"0.125490\" points=\"1418,-106 1341,-106 1341,-71 1418,-71 1418,-106\" stroke=\"none\"/>\n<text font-family=\"arial\" font-size=\"10.00\" text-anchor=\"start\" text-decoration=\"underline\" x=\"1349\" y=\"-87\">subject.Strain</text>\n</a>\n</g>\n</g>\n<!-- subject.Subject.Strain -->\n<g class=\"node\" id=\"node13\"><title>subject.Subject.Strain</title>\n<g id=\"a_node13\"><a xlink:title=\"→ subject.Subject\r\n------------------------------\r\n→ subject.Strain\r\n\">\n<polygon fill=\"none\" points=\"1436,-27 1323,-27 1323,-8 1436,-8 1436,-27\" stroke=\"none\"/>\n<text font-family=\"arial\" font-size=\"10.00\" text-anchor=\"middle\" x=\"1379.5\" y=\"-15\">subject.Subject.Strain</text>\n</a>\n</g>\n</g>\n<!-- subject.Strain&#45;&gt;subject.Subject.Strain -->\n<g class=\"edge\" id=\"edge3\"><title>subject.Strain-&gt;subject.Subject.Strain</title>\n<path d=\"M1379.5,-70.797C1379.5,-57.0768 1379.5,-38.1854 1379.5,-27.2652\" fill=\"none\" stroke=\"#000000\" stroke-dasharray=\"5,2\" stroke-opacity=\"0.250980\" stroke-width=\"0.75\"/>\n</g>\n<!-- subject.Subject.User -->\n<g class=\"node\" id=\"node11\"><title>subject.Subject.User</title>\n<g id=\"a_node11\"><a xlink:title=\"→ subject.Subject\r\n→ lab.User\r\n\">\n<polygon fill=\"none\" points=\"855,-27 748,-27 748,-8 855,-8 855,-27\" stroke=\"none\"/>\n<text font-family=\"arial\" font-size=\"10.00\" text-anchor=\"middle\" x=\"801.5\" y=\"-15\">subject.Subject.User</text>\n</a>\n</g>\n</g>\n<!-- subject.Allele -->\n<g class=\"node\" id=\"node12\"><title>subject.Allele</title>\n<g id=\"a_node12\"><a xlink:title=\"allele               \r\n------------------------------\r\nallele_standard_name=&quot;&quot; \r\n\">\n<polygon fill=\"#000000\" fill-opacity=\"0.125490\" points=\"92,-106 17,-106 17,-71 92,-71 92,-106\" stroke=\"none\"/>\n<text font-family=\"arial\" font-size=\"10.00\" text-anchor=\"start\" text-decoration=\"underline\" x=\"25\" y=\"-87\">subject.Allele</text>\n</a>\n</g>\n</g>\n<!-- subject.Allele&#45;&gt;subject.Allele.Source -->\n<g class=\"edge\" id=\"edge4\"><title>subject.Allele-&gt;subject.Allele.Source</title>\n<path d=\"M54.5,-70.797C54.5,-57.0768 54.5,-38.1854 54.5,-27.2652\" fill=\"none\" stroke=\"#000000\" stroke-opacity=\"0.250980\" stroke-width=\"2\"/>\n</g>\n<!-- subject.Allele&#45;&gt;subject.Zygosity -->\n<g class=\"edge\" id=\"edge5\"><title>subject.Allele-&gt;subject.Zygosity</title>\n<path d=\"M92.0534,-76.5667C132.515,-64.7867 197.096,-45.9847 241.756,-32.9824\" fill=\"none\" stroke=\"#000000\" stroke-opacity=\"0.250980\" stroke-width=\"0.75\"/>\n</g>\n<!-- subject.Allele&#45;&gt;subject.Line.Allele -->\n<g class=\"edge\" id=\"edge6\"><title>subject.Allele-&gt;subject.Line.Allele</title>\n<path d=\"M83.4825,-70.9728C107.673,-57.178 141.191,-38.0645 160.383,-27.1206\" fill=\"none\" stroke=\"#000000\" stroke-opacity=\"0.250980\" stroke-width=\"0.75\"/>\n</g>\n<!-- subject.Subject -->\n<g class=\"node\" id=\"node15\"><title>subject.Subject</title>\n<g id=\"a_node15\"><a xlink:title=\"subject              \r\n------------------------------\r\nsex                  \r\nsubject_birth_date   \r\nsubject_description=&quot;&quot; \r\n\">\n<polygon fill=\"#00ff00\" fill-opacity=\"0.188235\" points=\"849,-106 754,-106 754,-71 849,-71 849,-106\" stroke=\"#00ff00\" stroke-opacity=\"0.188235\"/>\n<text fill=\"darkgreen\" font-family=\"arial\" font-size=\"12.00\" text-anchor=\"start\" text-decoration=\"underline\" x=\"762\" y=\"-86.4\">subject.Subject</text>\n</a>\n</g>\n</g>\n<!-- subject.Subject&#45;&gt;subject.Subject.Protocol -->\n<g class=\"edge\" id=\"edge7\"><title>subject.Subject-&gt;subject.Subject.Protocol</title>\n<path d=\"M833.357,-70.9728C859.947,-57.178 896.789,-38.0645 917.884,-27.1206\" fill=\"none\" stroke=\"#000000\" stroke-opacity=\"0.250980\" stroke-width=\"0.75\"/>\n</g>\n<!-- subject.Subject&#45;&gt;subject.SubjectCullMethod -->\n<g class=\"edge\" id=\"edge8\"><title>subject.Subject-&gt;subject.SubjectCullMethod</title>\n<path d=\"M849.063,-76.1833C896.064,-65.0003 968.487,-47.7686 1021.95,-35.0491\" fill=\"none\" stroke=\"#000000\" stroke-opacity=\"0.250980\" stroke-width=\"2\"/>\n</g>\n<!-- subject.Subject&#45;&gt;subject.Subject.Source -->\n<g class=\"edge\" id=\"edge9\"><title>subject.Subject-&gt;subject.Subject.Source</title>\n<path d=\"M849.232,-82.3748C920.875,-74.3353 1060.31,-57.3419 1177.5,-35 1189.19,-32.7704 1201.9,-29.8299 1213.13,-27.0494\" fill=\"none\" stroke=\"#000000\" stroke-opacity=\"0.250980\" stroke-width=\"2\"/>\n</g>\n<!-- subject.Subject&#45;&gt;subject.Subject.Lab -->\n<g class=\"edge\" id=\"edge10\"><title>subject.Subject-&gt;subject.Subject.Lab</title>\n<path d=\"M753.926,-75.7954C711.719,-65.3392 648.42,-49.4807 593.5,-35 583.889,-32.466 573.437,-29.6223 563.99,-27.0188\" fill=\"none\" stroke=\"#000000\" stroke-opacity=\"0.250980\" stroke-width=\"0.75\"/>\n</g>\n<!-- subject.Subject&#45;&gt;subject.SubjectDeath -->\n<g class=\"edge\" id=\"edge11\"><title>subject.Subject-&gt;subject.SubjectDeath</title>\n<path d=\"M769.164,-70.9728C747.947,-60.1284 720.298,-45.9969 699.04,-35.1315\" fill=\"none\" stroke=\"#000000\" stroke-opacity=\"0.250980\" stroke-width=\"2\"/>\n</g>\n<!-- subject.Subject&#45;&gt;subject.Zygosity -->\n<g class=\"edge\" id=\"edge12\"><title>subject.Subject-&gt;subject.Zygosity</title>\n<path d=\"M753.931,-84.5127C671.118,-78.7492 495.358,-64.0201 349.5,-35 346.728,-34.4484 343.895,-33.8297 341.046,-33.164\" fill=\"none\" stroke=\"#000000\" stroke-opacity=\"0.250980\" stroke-width=\"0.75\"/>\n</g>\n<!-- subject.Subject&#45;&gt;subject.Subject.User -->\n<g class=\"edge\" id=\"edge13\"><title>subject.Subject-&gt;subject.Subject.User</title>\n<path d=\"M801.5,-70.797C801.5,-57.0768 801.5,-38.1854 801.5,-27.2652\" fill=\"none\" stroke=\"#000000\" stroke-opacity=\"0.250980\" stroke-width=\"0.75\"/>\n</g>\n<!-- subject.Subject&#45;&gt;subject.Subject.Strain -->\n<g class=\"edge\" id=\"edge14\"><title>subject.Subject-&gt;subject.Subject.Strain</title>\n<path d=\"M849.105,-84.8954C939.948,-79.423 1144.08,-64.7075 1313.5,-35 1325.25,-32.9397 1338,-29.9368 1349.14,-27.0558\" fill=\"none\" stroke=\"#000000\" stroke-opacity=\"0.250980\" stroke-width=\"2\"/>\n</g>\n<!-- subject.Subject&#45;&gt;subject.Subject.Line -->\n<g class=\"edge\" id=\"edge15\"><title>subject.Subject-&gt;subject.Subject.Line</title>\n<path d=\"M753.807,-81.5038C689.544,-73.0571 571.755,-56.2805 472.5,-35 461.987,-32.7461 450.584,-29.7998 440.513,-27.0216\" fill=\"none\" stroke=\"#000000\" stroke-opacity=\"0.250980\" stroke-width=\"2\"/>\n</g>\n</g>\n</svg>",
      "text/plain": [
       "<datajoint.diagram.Diagram at 0x2401478adc8>"
      ]
     },
     "execution_count": 15,
     "metadata": {},
     "output_type": "execute_result"
    }
   ],
   "source": [
    "dj.Diagram(subject)"
   ]
  },
  {
   "cell_type": "code",
   "execution_count": 16,
   "metadata": {
    "title": "[subject](https://github.com/datajoint/element-animal): contains the basic information of subject, including Strain, Line, Subject, Zygosity, and SubjectDeath information."
   },
   "outputs": [
    {
     "name": "stdout",
     "output_type": "stream",
     "text": [
      "# Animal Subject\n",
      "subject              : varchar(32)                  \n",
      "---\n",
      "sex                  : enum('M','F','U')            \n",
      "subject_birth_date   : date                         \n",
      "subject_description=\"\" : varchar(1024)                \n",
      "\n"
     ]
    }
   ],
   "source": [
    "subject.Subject.describe()"
   ]
  },
  {
   "cell_type": "code",
   "execution_count": 17,
   "metadata": {},
   "outputs": [
    {
     "data": {
      "image/svg+xml": "<svg height=\"114pt\" viewBox=\"0.00 0.00 316.00 114.00\" width=\"316pt\" xmlns=\"http://www.w3.org/2000/svg\" xmlns:xlink=\"http://www.w3.org/1999/xlink\">\n<g class=\"graph\" id=\"graph0\" transform=\"scale(1 1) rotate(0) translate(4 110)\">\n<title>%3</title>\n<polygon fill=\"white\" points=\"-4,4 -4,-110 312,-110 312,4 -4,4\" stroke=\"none\"/>\n<!-- session.SessionDirectory -->\n<g class=\"node\" id=\"node1\"><title>session.SessionDirectory</title>\n<g id=\"a_node1\"><a xlink:title=\"→ session.Session\r\n------------------------------\r\nsession_dir          \r\n\">\n<polygon fill=\"#00ff00\" fill-opacity=\"0.188235\" points=\"150,-35 0,-35 0,-0 150,-0 150,-35\" stroke=\"#00ff00\" stroke-opacity=\"0.188235\"/>\n<text fill=\"darkgreen\" font-family=\"arial\" font-size=\"12.00\" text-anchor=\"middle\" x=\"75\" y=\"-14.4\">session.SessionDirectory</text>\n</a>\n</g>\n</g>\n<!-- session.ProjectSession -->\n<g class=\"node\" id=\"node2\"><title>session.ProjectSession</title>\n<g id=\"a_node2\"><a xlink:title=\"→ lab.Project\r\n→ session.Session\r\n\">\n<polygon fill=\"#00ff00\" fill-opacity=\"0.188235\" points=\"308,-35 168,-35 168,-0 308,-0 308,-35\" stroke=\"#00ff00\" stroke-opacity=\"0.188235\"/>\n<text fill=\"darkgreen\" font-family=\"arial\" font-size=\"12.00\" text-anchor=\"middle\" x=\"238\" y=\"-14.4\">session.ProjectSession</text>\n</a>\n</g>\n</g>\n<!-- session.Session -->\n<g class=\"node\" id=\"node3\"><title>session.Session</title>\n<g id=\"a_node3\"><a xlink:title=\"→ subject.Subject\r\nsession_datetime     \r\n\">\n<polygon fill=\"#00ff00\" fill-opacity=\"0.188235\" points=\"207.5,-106 104.5,-106 104.5,-71 207.5,-71 207.5,-106\" stroke=\"#00ff00\" stroke-opacity=\"0.188235\"/>\n<text fill=\"darkgreen\" font-family=\"arial\" font-size=\"12.00\" text-anchor=\"start\" text-decoration=\"underline\" x=\"112.5\" y=\"-86.4\">session.Session</text>\n</a>\n</g>\n</g>\n<!-- session.Session&#45;&gt;session.SessionDirectory -->\n<g class=\"edge\" id=\"edge1\"><title>session.Session-&gt;session.SessionDirectory</title>\n<path d=\"M136.392,-70.797C123.657,-59.9485 107.126,-45.8669 94.4273,-35.0492\" fill=\"none\" stroke=\"#000000\" stroke-opacity=\"0.250980\" stroke-width=\"2\"/>\n</g>\n<!-- session.Session&#45;&gt;session.ProjectSession -->\n<g class=\"edge\" id=\"edge2\"><title>session.Session-&gt;session.ProjectSession</title>\n<path d=\"M175.85,-70.797C188.742,-59.9485 205.477,-45.8669 218.333,-35.0492\" fill=\"none\" stroke=\"#000000\" stroke-opacity=\"0.250980\" stroke-width=\"0.75\"/>\n</g>\n</g>\n</svg>",
      "text/plain": [
       "<datajoint.diagram.Diagram at 0x24013676788>"
      ]
     },
     "execution_count": 17,
     "metadata": {},
     "output_type": "execute_result"
    }
   ],
   "source": [
    "dj.Diagram(session)"
   ]
  },
  {
   "cell_type": "markdown",
   "metadata": {},
   "source": [
    "## Summary and next step\n",
    "\n",
    "+ This notebook introduced the overall structures of the schemas and tables in the workflow and relevant tools to explore the schema structure and table definitions.\n",
    "\n",
    "+ In the next notebook [03-process](03-process.ipynb), we will further introduce the detailed steps running through the pipeline and table contents accordingly."
   ]
  }
 ],
 "metadata": {
  "jupytext": {
   "encoding": "# -*- coding: utf-8 -*-",
   "formats": "ipynb,py"
  },
  "kernelspec": {
   "display_name": "Python 3.9.12 ('ele')",
   "language": "python",
   "name": "python3"
  },
  "language_info": {
   "codemirror_mode": {
    "name": "ipython",
    "version": 3
   },
   "file_extension": ".py",
   "mimetype": "text/x-python",
   "name": "python",
   "nbconvert_exporter": "python",
   "pygments_lexer": "ipython3",
   "version": "3.9.12"
  },
  "vscode": {
   "interpreter": {
    "hash": "61456c693db5d9aa6731701ec9a9b08ab88a172bee0780139a3679beb166da16"
   }
  }
 },
 "nbformat": 4,
 "nbformat_minor": 4
}
