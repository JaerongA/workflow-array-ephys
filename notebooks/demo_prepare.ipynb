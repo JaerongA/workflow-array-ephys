{
 "cells": [
  {
   "cell_type": "markdown",
   "metadata": {},
   "source": [
    "### Demo Preparation Notebook\n",
    "\n",
    "**Please Note**: This notebook and demo are NOT intended to be used as learning materials. To gain\n",
    "a thorough understanding of the DataJoint workflow for calcium imaging, please\n",
    "see the [`tutorial`](./tutorial.ipynb) notebook."
   ]
  },
  {
   "cell_type": "code",
   "execution_count": null,
   "metadata": {},
   "outputs": [],
   "source": [
    "import datajoint as dj\n",
    "import datetime\n",
    "from workflow_array_ephys.pipeline import subject, session, probe, ephys\n",
    "from element_array_ephys import ephys_report\n"
   ]
  },
  {
   "cell_type": "code",
   "execution_count": null,
   "metadata": {},
   "outputs": [],
   "source": [
    "subject.Subject.insert1(\n",
    "    dict(\n",
    "        subject='subject6',\n",
    "        subject_birth_date='2023-01-01',\n",
    "        sex='U'\n",
    "    )\n",
    ")"
   ]
  },
  {
   "cell_type": "code",
   "execution_count": null,
   "metadata": {},
   "outputs": [],
   "source": [
    "session_key = dict(subject='subject6', \n",
    "                   session_datetime=datetime.datetime.now())\n",
    "\n",
    "session.Session.insert1(session_key)\n",
    "\n",
    "session.SessionDirectory.insert1(\n",
    "    dict(\n",
    "        session_key, \n",
    "        session_dir='subject6/session1'\n",
    "    )\n",
    ")"
   ]
  },
  {
   "cell_type": "code",
   "execution_count": null,
   "metadata": {},
   "outputs": [],
   "source": [
    "probe.Probe.insert1(\n",
    "    dict(probe=\"17131311651\", \n",
    "         probe_type=\"neuropixels 1.0 - 3B\")\n",
    ")\n",
    "\n",
    "ephys.ProbeInsertion.insert1(\n",
    "    dict(\n",
    "        session_key,\n",
    "        insertion_number=0,\n",
    "        probe=\"17131311651\",\n",
    "    )\n",
    ")"
   ]
  },
  {
   "cell_type": "code",
   "execution_count": null,
   "metadata": {},
   "outputs": [],
   "source": [
    "populate_settings = {\"display_progress\": True}\n",
    "\n",
    "ephys.EphysRecording.populate(**populate_settings)"
   ]
  },
  {
   "cell_type": "code",
   "execution_count": null,
   "metadata": {},
   "outputs": [],
   "source": [
    "kilosort_params = {\n",
    "    \"fs\": 30000,\n",
    "    \"fshigh\": 150,\n",
    "    \"minfr_goodchannels\": 0.1,\n",
    "    \"Th\": [10, 4],\n",
    "    \"lam\": 10,\n",
    "    \"AUCsplit\": 0.9,\n",
    "    \"minFR\": 0.02,\n",
    "    \"momentum\": [20, 400],\n",
    "    \"sigmaMask\": 30,\n",
    "    \"ThPr\": 8,\n",
    "    \"spkTh\": -6,\n",
    "    \"reorder\": 1,\n",
    "    \"nskip\": 25,\n",
    "    \"GPU\": 1,\n",
    "    \"Nfilt\": 1024,\n",
    "    \"nfilt_factor\": 4,\n",
    "    \"ntbuff\": 64,\n",
    "    \"whiteningRange\": 32,\n",
    "    \"nSkipCov\": 25,\n",
    "    \"scaleproc\": 200,\n",
    "    \"nPCs\": 3,\n",
    "    \"useRAM\": 0,\n",
    "}\n",
    "\n",
    "ephys.ClusteringParamSet.insert_new_params(\n",
    "    clustering_method=\"kilosort2\",\n",
    "    paramset_idx=0,\n",
    "    params=kilosort_params,\n",
    "    paramset_desc=\"Spike sorting using Kilosort2\",\n",
    ")"
   ]
  },
  {
   "cell_type": "code",
   "execution_count": null,
   "metadata": {},
   "outputs": [],
   "source": [
    "ephys.ClusteringTask.insert1(\n",
    "    dict(\n",
    "        session_key,\n",
    "        insertion_number=0,\n",
    "        paramset_idx=0,\n",
    "        task_mode='load', # load or trigger\n",
    "        clustering_output_dir=\"subject6/session1/towersTask_g0_imec0\",\n",
    "    )\n",
    ")"
   ]
  },
  {
   "cell_type": "code",
   "execution_count": null,
   "metadata": {},
   "outputs": [],
   "source": [
    "ephys.Clustering.populate(**populate_settings)\n",
    "ephys.CuratedClustering.populate(**populate_settings)\n",
    "ephys.LFP.populate(**populate_settings)\n",
    "ephys.WaveformSet.populate(**populate_settings)\n",
    "ephys_report.ProbeLevelReport.populate(**populate_settings)\n",
    "ephys_report.UnitLevelReport.populate(**populate_settings)"
   ]
  }
 ],
 "metadata": {
  "kernelspec": {
   "display_name": "python3p10",
   "language": "python",
   "name": "python3"
  },
  "language_info": {
   "name": "python",
   "version": "3.10.4 (main, Mar 31 2022, 03:38:35) [Clang 12.0.0 ]"
  },
  "orig_nbformat": 4,
  "vscode": {
   "interpreter": {
    "hash": "ff52d424e56dd643d8b2ec122f40a2e279e94970100b4e6430cb9025a65ba4cf"
   }
  }
 },
 "nbformat": 4,
 "nbformat_minor": 2
}
