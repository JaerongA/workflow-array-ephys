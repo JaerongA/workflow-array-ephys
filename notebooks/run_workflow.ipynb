{
 "cells": [
  {
   "cell_type": "markdown",
   "metadata": {
    "pycharm": {
     "name": "#%% md\n"
    }
   },
   "source": [
    "# Run workflow"
   ]
  },
  {
   "cell_type": "code",
   "execution_count": 1,
   "metadata": {
    "jupyter": {
     "outputs_hidden": false
    },
    "pycharm": {
     "name": "#%%\n"
    }
   },
   "outputs": [
    {
     "name": "stdout",
     "output_type": "stream",
     "text": [
      "Connecting root@localhost:3306\n"
     ]
    }
   ],
   "source": [
    "import os\n",
    "os.chdir('..')\n",
    "import numpy as np\n",
    "from workflow_ephys.pipeline import lab, subject, Session, probe, ephys"
   ]
  },
  {
   "cell_type": "markdown",
   "metadata": {},
   "source": [
    "## Insert new \"ClusteringParamSet\" for Kilosort - in the following table:\n",
    "+ ephys.ClusteringParamSet"
   ]
  },
  {
   "cell_type": "markdown",
   "metadata": {},
   "source": [
    "### Define Kilosort parameters\n",
    "\n",
    "The following parameters' values are set based on Kilosort StandardConfig file:\n",
    "\n",
    "\n",
    "    https://github.com/MouseLand/Kilosort/tree/main/configFiles\n"
   ]
  },
  {
   "cell_type": "code",
   "execution_count": 2,
   "metadata": {
    "jupyter": {
     "outputs_hidden": false
    },
    "pycharm": {
     "name": "#%%\n"
    }
   },
   "outputs": [],
   "source": [
    "params_ks = {\n",
    "    \"fs\": 30000,\n",
    "    \"fshigh\": 150,\n",
    "    \"minfr_goodchannels\": 0.1,\n",
    "    \"Th\": [10, 4],\n",
    "    \"lam\": 10,\n",
    "    \"AUCsplit\": 0.9,\n",
    "    \"minFR\": 0.02,\n",
    "    \"momentum\": [20, 400],\n",
    "    \"sigmaMask\": 30,\n",
    "    \"ThPr\": 8,\n",
    "    \"spkTh\": -6,\n",
    "    \"reorder\": 1,\n",
    "    \"nskip\": 25,\n",
    "    \"GPU\": 1,\n",
    "    \"Nfilt\": 1024,\n",
    "    \"nfilt_factor\": 4,\n",
    "    \"ntbuff\": 64,\n",
    "    \"whiteningRange\": 32,\n",
    "    \"nSkipCov\": 25,\n",
    "    \"scaleproc\": 200,\n",
    "    \"nPCs\": 3,\n",
    "    \"useRAM\": 0\n",
    "}"
   ]
  },
  {
   "cell_type": "markdown",
   "metadata": {},
   "source": [
    "### Insert Kilosort parameters"
   ]
  },
  {
   "cell_type": "code",
   "execution_count": 3,
   "metadata": {
    "jupyter": {
     "outputs_hidden": false
    },
    "pycharm": {
     "name": "#%%\n"
    }
   },
   "outputs": [],
   "source": [
    "ephys.ClusteringParamSet.insert_new_params(\n",
    "    'kilosort2', 0, 'Spike sorting using Kilosort2', params_ks)"
   ]
  },
  {
   "cell_type": "markdown",
   "metadata": {},
   "source": [
    "## Ingestion of subjects, sessions, probes data\n",
    "Extract user-specified information from `/user_data/subjects.csv` and `/user_data/sessions.csv` and insert into corresponding tables:\n",
    "+ subject.Subject\n",
    "+ Session\n",
    "+ probe.Probe\n",
    "+ ephys.ProbeInsertion"
   ]
  },
  {
   "cell_type": "code",
   "execution_count": 4,
   "metadata": {},
   "outputs": [],
   "source": [
    "from workflow_ephys import ingest"
   ]
  },
  {
   "cell_type": "code",
   "execution_count": 6,
   "metadata": {},
   "outputs": [
    {
     "name": "stdout",
     "output_type": "stream",
     "text": [
      "\n",
      "---- Insert 4 entry(s) into subject.Subject ----\n"
     ]
    }
   ],
   "source": [
    "ingest.ingest_subjects()"
   ]
  },
  {
   "cell_type": "code",
   "execution_count": 7,
   "metadata": {},
   "outputs": [
    {
     "name": "stdout",
     "output_type": "stream",
     "text": [
      "Loading Open-Ephys: reading settings...\n",
      "Decoding data from  binary  format\n",
      "Reading oebin file\n",
      "Loading Open-Ephys: reading settings...\n",
      "Decoding data from  binary  format\n",
      "Reading oebin file\n",
      "\n",
      "---- Insert 0 entry(s) into experiment.Session ----\n",
      "\n",
      "---- Insert 0 entry(s) into experiment.Session.Directory ----\n",
      "\n",
      "---- Insert 0 entry(s) into probe.Probe ----\n",
      "\n",
      "---- Insert 0 entry(s) into ephys.ProbeInsertion ----\n",
      "\n",
      "---- Successfully completed workflow_imaging/ingest.py ----\n"
     ]
    }
   ],
   "source": [
    "ingest.ingest_sessions()"
   ]
  },
  {
   "cell_type": "markdown",
   "metadata": {},
   "source": [
    "## Trigger autoprocessing of the remaining ephys pipeline"
   ]
  },
  {
   "cell_type": "code",
   "execution_count": 8,
   "metadata": {},
   "outputs": [],
   "source": [
    "from workflow_ephys import populate"
   ]
  },
  {
   "cell_type": "code",
   "execution_count": 9,
   "metadata": {},
   "outputs": [
    {
     "name": "stderr",
     "output_type": "stream",
     "text": [
      "EphysRecording: 0it [00:00, ?it/s]"
     ]
    },
    {
     "name": "stdout",
     "output_type": "stream",
     "text": [
      "\n",
      "---- Populate ephys.EphysRecording ----\n",
      "\n",
      "---- Populate ephys.LFP ----\n"
     ]
    },
    {
     "name": "stderr",
     "output_type": "stream",
     "text": [
      "\n",
      "LFP:   0%|                                                                                       | 0/9 [00:00<?, ?it/s][Errno 2] No such file or directory: 'F:\\\\U24\\\\workflow_ephys_data\\\\subject1\\\\session1\\\\1\\\\dl56_g0_tcat.imec1.lf.bin'\n",
      "[Errno 2] No such file or directory: 'F:\\\\U24\\\\workflow_ephys_data\\\\subject2\\\\session1\\\\SC035_010720_g0_imec0\\\\SC035_010720_g0_tcat.imec0.lf.bin'\n",
      "[Errno 2] No such file or directory: 'F:\\\\U24\\\\workflow_ephys_data\\\\subject2\\\\session1\\\\SC035_010720_g0_imec2\\\\SC035_010720_g0_tcat.imec2.lf.bin'\n",
      "[Errno 2] No such file or directory: 'F:\\\\U24\\\\workflow_ephys_data\\\\subject2\\\\session2\\\\SC035_011020_g0_imec0\\\\SC035_011020_g0_tcat.imec0.lf.bin'\n",
      "[Errno 2] No such file or directory: 'F:\\\\U24\\\\workflow_ephys_data\\\\subject3\\\\session1\\\\SC038_111919_g0_imec0\\\\SC038_111919_g0_tcat.imec0.lf.bin'\n",
      "[Errno 2] No such file or directory: 'F:\\\\U24\\\\workflow_ephys_data\\\\subject3\\\\session1\\\\SC038_111919_g0_imec1\\\\SC038_111919_g0_tcat.imec1.lf.bin'\n",
      "[Errno 2] No such file or directory: 'F:\\\\U24\\\\workflow_ephys_data\\\\subject3\\\\session1\\\\SC038_111919_g0_imec2\\\\SC038_111919_g0_tcat.imec2.lf.bin'\n",
      "[Errno 2] No such file or directory: 'F:\\\\U24\\\\workflow_ephys_data\\\\subject2\\\\session1\\\\SC035_010720_g0_imec1\\\\SC035_010720_g0_tcat.imec1.lf.bin'\n",
      "[Errno 2] No such file or directory: 'F:\\\\U24\\\\workflow_ephys_data\\\\subject2\\\\session2\\\\SC035_011020_g0_imec2\\\\SC035_011020_g0_tcat.imec2.lf.bin'\n",
      "LFP: 100%|███████████████████████████████████████████████████████████████████████████████| 9/9 [00:00<00:00, 91.89it/s]\n",
      "Clustering: 0it [00:00, ?it/s]\n",
      "Waveform: 0it [00:00, ?it/s]"
     ]
    },
    {
     "name": "stdout",
     "output_type": "stream",
     "text": [
      "\n",
      "---- Populate ephys.Clustering ----\n",
      "\n",
      "---- Populate ephys.Waveform ----\n"
     ]
    },
    {
     "name": "stderr",
     "output_type": "stream",
     "text": [
      "\n"
     ]
    }
   ],
   "source": [
    "populate.populate()"
   ]
  },
  {
   "cell_type": "markdown",
   "metadata": {},
   "source": [
    "## Insert new ClusteringTask to trigger ingestion of clustering results\n",
    "\n",
    "Clustering is performed on the `EphysRecording` level, once clustering job has been completed, an entry in the `ClusteringTask` needs to be added to trigger the ingestion of the clustering results. Two pieces of information need to be specified:\n",
    "+ the `paramset_idx` used for the clustering job\n",
    "+ the output directory storing the clustering results"
   ]
  },
  {
   "cell_type": "code",
   "execution_count": 11,
   "metadata": {},
   "outputs": [
    {
     "data": {
      "text/html": [
       "\n",
       "    \n",
       "    <style type=\"text/css\">\n",
       "        .Relation{\n",
       "            border-collapse:collapse;\n",
       "        }\n",
       "        .Relation th{\n",
       "            background: #A0A0A0; color: #ffffff; padding:4px; border:#f0e0e0 1px solid;\n",
       "            font-weight: normal; font-family: monospace; font-size: 100%;\n",
       "        }\n",
       "        .Relation td{\n",
       "            padding:4px; border:#f0e0e0 1px solid; font-size:100%;\n",
       "        }\n",
       "        .Relation tr:nth-child(odd){\n",
       "            background: #ffffff;\n",
       "        }\n",
       "        .Relation tr:nth-child(even){\n",
       "            background: #f3f1ff;\n",
       "        }\n",
       "        /* Tooltip container */\n",
       "        .djtooltip {\n",
       "        }\n",
       "        /* Tooltip text */\n",
       "        .djtooltip .djtooltiptext {\n",
       "            visibility: hidden;\n",
       "            width: 120px;\n",
       "            background-color: black;\n",
       "            color: #fff;\n",
       "            text-align: center;\n",
       "            padding: 5px 0;\n",
       "            border-radius: 6px;\n",
       "            /* Position the tooltip text - see examples below! */\n",
       "            position: absolute;\n",
       "            z-index: 1;\n",
       "        }\n",
       "        #primary {\n",
       "            font-weight: bold;\n",
       "            color: black;\n",
       "        }\n",
       "        #nonprimary {\n",
       "            font-weight: normal;\n",
       "            color: white;\n",
       "        }\n",
       "\n",
       "        /* Show the tooltip text when you mouse over the tooltip container */\n",
       "        .djtooltip:hover .djtooltiptext {\n",
       "            visibility: visible;\n",
       "        }\n",
       "    </style>\n",
       "    \n",
       "    \n",
       "        <div style=\"max-height:1000px;max-width:1500px;overflow:auto;\">\n",
       "        <table border=\"1\" class=\"Relation\">\n",
       "            <thead> <tr style=\"text-align: right;\"> <th> <div class=\"djtooltip\">\n",
       "                            <p id=\"primary\">subject</p>\n",
       "                            <span class=\"djtooltiptext\"></span>\n",
       "                        </div></th><th><div class=\"djtooltip\">\n",
       "                            <p id=\"primary\">session_datetime</p>\n",
       "                            <span class=\"djtooltiptext\"></span>\n",
       "                        </div></th><th><div class=\"djtooltip\">\n",
       "                            <p id=\"primary\">insertion_number</p>\n",
       "                            <span class=\"djtooltiptext\"></span>\n",
       "                        </div></th><th><div class=\"djtooltip\">\n",
       "                            <p id=\"primary\">file_path</p>\n",
       "                            <span class=\"djtooltiptext\">filepath relative to root data directory</span>\n",
       "                        </div></th><th><div class=\"djtooltip\">\n",
       "                            <p id=\"nonprimary\">electrode_config_hash</p>\n",
       "                            <span class=\"djtooltiptext\"></span>\n",
       "                        </div></th><th><div class=\"djtooltip\">\n",
       "                            <p id=\"nonprimary\">acq_software</p>\n",
       "                            <span class=\"djtooltiptext\"></span>\n",
       "                        </div></th><th><div class=\"djtooltip\">\n",
       "                            <p id=\"nonprimary\">sampling_rate</p>\n",
       "                            <span class=\"djtooltiptext\">(Hz)</span>\n",
       "                        </div> </th> </tr> </thead>\n",
       "            <tbody> <tr> <td>subject1</td>\n",
       "<td>2018-11-22 18:51:26</td>\n",
       "<td>1</td>\n",
       "<td>subject1/session1/1/dl56_g0_tcat.imec1.ap.meta</td>\n",
       "<td>5fd1d080-c2ec-4b8f-9114-cc67642632bc</td>\n",
       "<td>SpikeGLX</td>\n",
       "<td>30000.0</td></tr><tr><td>subject2</td>\n",
       "<td>2020-01-07 11:17:23</td>\n",
       "<td>0</td>\n",
       "<td>subject2/session1/SC035_010720_g0_imec0/SC035_010720_g0_tcat.imec0.ap.meta</td>\n",
       "<td>d8fb7e4f-131c-1d67-50eb-124430ad2859</td>\n",
       "<td>SpikeGLX</td>\n",
       "<td>29999.5</td></tr><tr><td>subject2</td>\n",
       "<td>2020-01-07 11:17:23</td>\n",
       "<td>1</td>\n",
       "<td>subject2/session1/SC035_010720_g0_imec1/SC035_010720_g0_tcat.imec1.ap.meta</td>\n",
       "<td>fefd1aa0-3001-c5cc-4297-1edd60395c41</td>\n",
       "<td>SpikeGLX</td>\n",
       "<td>29999.4</td></tr><tr><td>subject2</td>\n",
       "<td>2020-01-07 11:17:23</td>\n",
       "<td>2</td>\n",
       "<td>subject2/session1/SC035_010720_g0_imec2/SC035_010720_g0_tcat.imec2.ap.meta</td>\n",
       "<td>d8fb7e4f-131c-1d67-50eb-124430ad2859</td>\n",
       "<td>SpikeGLX</td>\n",
       "<td>29999.7</td></tr><tr><td>subject2</td>\n",
       "<td>2020-01-10 14:28:08</td>\n",
       "<td>0</td>\n",
       "<td>subject2/session2/SC035_011020_g0_imec0/SC035_011020_g0_tcat.imec0.ap.meta</td>\n",
       "<td>d8fb7e4f-131c-1d67-50eb-124430ad2859</td>\n",
       "<td>SpikeGLX</td>\n",
       "<td>29999.5</td></tr><tr><td>subject2</td>\n",
       "<td>2020-01-10 14:28:08</td>\n",
       "<td>2</td>\n",
       "<td>subject2/session2/SC035_011020_g0_imec2/SC035_011020_g0_tcat.imec2.ap.meta</td>\n",
       "<td>fefd1aa0-3001-c5cc-4297-1edd60395c41</td>\n",
       "<td>SpikeGLX</td>\n",
       "<td>29999.4</td></tr><tr><td>subject3</td>\n",
       "<td>2019-11-19 11:51:24</td>\n",
       "<td>0</td>\n",
       "<td>subject3/session1/SC038_111919_g0_imec0/SC038_111919_g0_tcat.imec0.ap.meta</td>\n",
       "<td>d8fb7e4f-131c-1d67-50eb-124430ad2859</td>\n",
       "<td>SpikeGLX</td>\n",
       "<td>29999.4</td> </tr> </tbody>\n",
       "        </table>\n",
       "        <p>...</p>\n",
       "        <p>Total: 10</p></div>\n",
       "        "
      ],
      "text/plain": [
       "*subject     *session_datet *insertion_num *file_path     electrode_conf acq_software   sampling_rate \n",
       "+----------+ +------------+ +------------+ +------------+ +------------+ +------------+ +------------+\n",
       "subject1     2018-11-22 18: 1              subject1/sessi 5fd1d080-c2ec- SpikeGLX       30000.0       \n",
       "subject2     2020-01-07 11: 0              subject2/sessi d8fb7e4f-131c- SpikeGLX       29999.5       \n",
       "subject2     2020-01-07 11: 1              subject2/sessi fefd1aa0-3001- SpikeGLX       29999.4       \n",
       "subject2     2020-01-07 11: 2              subject2/sessi d8fb7e4f-131c- SpikeGLX       29999.7       \n",
       "subject2     2020-01-10 14: 0              subject2/sessi d8fb7e4f-131c- SpikeGLX       29999.5       \n",
       "subject2     2020-01-10 14: 2              subject2/sessi fefd1aa0-3001- SpikeGLX       29999.4       \n",
       "subject3     2019-11-19 11: 0              subject3/sessi d8fb7e4f-131c- SpikeGLX       29999.4       \n",
       "   ...\n",
       " (Total: 10)"
      ]
     },
     "execution_count": 11,
     "metadata": {},
     "output_type": "execute_result"
    }
   ],
   "source": [
    "ephys.EphysRecording * ephys.EphysRecording.EphysFile"
   ]
  },
  {
   "cell_type": "code",
   "execution_count": 15,
   "metadata": {},
   "outputs": [],
   "source": [
    "import pathlib\n",
    "from workflow_ephys.paths import get_ephys_root_data_dir\n",
    "\n",
    "root_dir = pathlib.Path(get_ephys_root_data_dir())"
   ]
  },
  {
   "cell_type": "code",
   "execution_count": 20,
   "metadata": {},
   "outputs": [],
   "source": [
    "for ephys_rec_key in (ephys.EphysRecording - ephys.ClusteringTask).fetch('KEY'):\n",
    "    ephys_file = root_dir / (ephys.EphysRecording.EphysFile & ephys_rec_key).fetch('file_path')[0]\n",
    "    recording_dir = ephys_file.parent\n",
    "    kilosort_dir = next(recording_dir.rglob('spike_times.npy')).parent\n",
    "    ephys.ClusteringTask.insert1({**ephys_rec_key,\n",
    "                                  'paramset_idx': 0,\n",
    "                                  'clustering_output_dir': kilosort_dir.as_posix()})"
   ]
  },
  {
   "cell_type": "code",
   "execution_count": 21,
   "metadata": {},
   "outputs": [
    {
     "data": {
      "text/html": [
       "\n",
       "    \n",
       "    <style type=\"text/css\">\n",
       "        .Relation{\n",
       "            border-collapse:collapse;\n",
       "        }\n",
       "        .Relation th{\n",
       "            background: #A0A0A0; color: #ffffff; padding:4px; border:#f0e0e0 1px solid;\n",
       "            font-weight: normal; font-family: monospace; font-size: 100%;\n",
       "        }\n",
       "        .Relation td{\n",
       "            padding:4px; border:#f0e0e0 1px solid; font-size:100%;\n",
       "        }\n",
       "        .Relation tr:nth-child(odd){\n",
       "            background: #ffffff;\n",
       "        }\n",
       "        .Relation tr:nth-child(even){\n",
       "            background: #f3f1ff;\n",
       "        }\n",
       "        /* Tooltip container */\n",
       "        .djtooltip {\n",
       "        }\n",
       "        /* Tooltip text */\n",
       "        .djtooltip .djtooltiptext {\n",
       "            visibility: hidden;\n",
       "            width: 120px;\n",
       "            background-color: black;\n",
       "            color: #fff;\n",
       "            text-align: center;\n",
       "            padding: 5px 0;\n",
       "            border-radius: 6px;\n",
       "            /* Position the tooltip text - see examples below! */\n",
       "            position: absolute;\n",
       "            z-index: 1;\n",
       "        }\n",
       "        #primary {\n",
       "            font-weight: bold;\n",
       "            color: black;\n",
       "        }\n",
       "        #nonprimary {\n",
       "            font-weight: normal;\n",
       "            color: white;\n",
       "        }\n",
       "\n",
       "        /* Show the tooltip text when you mouse over the tooltip container */\n",
       "        .djtooltip:hover .djtooltiptext {\n",
       "            visibility: visible;\n",
       "        }\n",
       "    </style>\n",
       "    \n",
       "    <b></b>\n",
       "        <div style=\"max-height:1000px;max-width:1500px;overflow:auto;\">\n",
       "        <table border=\"1\" class=\"Relation\">\n",
       "            <thead> <tr style=\"text-align: right;\"> <th> <div class=\"djtooltip\">\n",
       "                            <p id=\"primary\">subject</p>\n",
       "                            <span class=\"djtooltiptext\"></span>\n",
       "                        </div></th><th><div class=\"djtooltip\">\n",
       "                            <p id=\"primary\">session_datetime</p>\n",
       "                            <span class=\"djtooltiptext\"></span>\n",
       "                        </div></th><th><div class=\"djtooltip\">\n",
       "                            <p id=\"primary\">insertion_number</p>\n",
       "                            <span class=\"djtooltiptext\"></span>\n",
       "                        </div></th><th><div class=\"djtooltip\">\n",
       "                            <p id=\"primary\">paramset_idx</p>\n",
       "                            <span class=\"djtooltiptext\"></span>\n",
       "                        </div></th><th><div class=\"djtooltip\">\n",
       "                            <p id=\"nonprimary\">clustering_output_dir</p>\n",
       "                            <span class=\"djtooltiptext\">clustering output directory relative to root data directory</span>\n",
       "                        </div> </th> </tr> </thead>\n",
       "            <tbody> <tr> <td>subject1</td>\n",
       "<td>2018-11-22 18:51:26</td>\n",
       "<td>1</td>\n",
       "<td>0</td>\n",
       "<td>F:/U24/workflow_ephys_data/subject1/session1/1/imec_ww2_ks2</td></tr><tr><td>subject2</td>\n",
       "<td>2020-01-07 11:17:23</td>\n",
       "<td>0</td>\n",
       "<td>0</td>\n",
       "<td>F:/U24/workflow_ephys_data/subject2/session1/SC035_010720_g0_imec0/imec0_ks2</td></tr><tr><td>subject2</td>\n",
       "<td>2020-01-07 11:17:23</td>\n",
       "<td>1</td>\n",
       "<td>0</td>\n",
       "<td>F:/U24/workflow_ephys_data/subject2/session1/SC035_010720_g0_imec1/imec1_ks2</td></tr><tr><td>subject2</td>\n",
       "<td>2020-01-07 11:17:23</td>\n",
       "<td>2</td>\n",
       "<td>0</td>\n",
       "<td>F:/U24/workflow_ephys_data/subject2/session1/SC035_010720_g0_imec2/imec2_ks2</td></tr><tr><td>subject2</td>\n",
       "<td>2020-01-10 14:28:08</td>\n",
       "<td>0</td>\n",
       "<td>0</td>\n",
       "<td>F:/U24/workflow_ephys_data/subject2/session2/SC035_011020_g0_imec0/imec0_ks2</td></tr><tr><td>subject2</td>\n",
       "<td>2020-01-10 14:28:08</td>\n",
       "<td>2</td>\n",
       "<td>0</td>\n",
       "<td>F:/U24/workflow_ephys_data/subject2/session2/SC035_011020_g0_imec2/imec2_ks2</td></tr><tr><td>subject3</td>\n",
       "<td>2019-11-19 11:51:24</td>\n",
       "<td>0</td>\n",
       "<td>0</td>\n",
       "<td>F:/U24/workflow_ephys_data/subject3/session1/SC038_111919_g0_imec0/imec0_ks2</td> </tr> </tbody>\n",
       "        </table>\n",
       "        <p>...</p>\n",
       "        <p>Total: 10</p></div>\n",
       "        "
      ],
      "text/plain": [
       "*subject     *session_datet *insertion_num *paramset_idx  clustering_out\n",
       "+----------+ +------------+ +------------+ +------------+ +------------+\n",
       "subject1     2018-11-22 18: 1              0              F:/U24/workflo\n",
       "subject2     2020-01-07 11: 0              0              F:/U24/workflo\n",
       "subject2     2020-01-07 11: 1              0              F:/U24/workflo\n",
       "subject2     2020-01-07 11: 2              0              F:/U24/workflo\n",
       "subject2     2020-01-10 14: 0              0              F:/U24/workflo\n",
       "subject2     2020-01-10 14: 2              0              F:/U24/workflo\n",
       "subject3     2019-11-19 11: 0              0              F:/U24/workflo\n",
       "   ...\n",
       " (Total: 10)"
      ]
     },
     "execution_count": 21,
     "metadata": {},
     "output_type": "execute_result"
    }
   ],
   "source": [
    "ephys.ClusteringTask()"
   ]
  },
  {
   "cell_type": "code",
   "execution_count": null,
   "metadata": {},
   "outputs": [],
   "source": []
  }
 ],
 "metadata": {
  "kernelspec": {
   "display_name": "workflow-ephys",
   "language": "python",
   "name": "workflow-ephys"
  },
  "language_info": {
   "codemirror_mode": {
    "name": "ipython",
    "version": 3
   },
   "file_extension": ".py",
   "mimetype": "text/x-python",
   "name": "python",
   "nbconvert_exporter": "python",
   "pygments_lexer": "ipython3",
   "version": "3.7.9"
  }
 },
 "nbformat": 4,
 "nbformat_minor": 4
}
