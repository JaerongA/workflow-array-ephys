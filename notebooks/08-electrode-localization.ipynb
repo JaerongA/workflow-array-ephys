{
 "cells": [
  {
   "cell_type": "markdown",
   "metadata": {},
   "source": [
    "# Electrode Localization"
   ]
  },
  {
   "cell_type": "markdown",
   "metadata": {},
   "source": [
    "Change into the parent directory to find the `dj_local_conf.json` file."
   ]
  },
  {
   "cell_type": "code",
   "execution_count": 1,
   "metadata": {},
   "outputs": [],
   "source": [
    "import os\n",
    "import datajoint as dj\n",
    "# change to the upper level folder to detect dj_local_conf.json\n",
    "if os.path.basename(os.getcwd())=='notebooks': os.chdir('..')\n",
    "assert os.path.basename(os.getcwd())=='workflow-array-ephys', (\"Please move to the \"\n",
    "                                                               + \"workflow directory\")"
   ]
  },
  {
   "cell_type": "code",
   "execution_count": null,
   "metadata": {},
   "outputs": [],
   "source": [
    "from workflow_array_ephys.localization import electrode_localization as eloc\n",
    "from workflow_array_ephys.localization import coordinate_framework as ccf\n",
    "from element_electrode_localization.coordinate_framework import load_ccf_annotation"
   ]
  },
  {
   "cell_type": "code",
   "execution_count": 1,
   "metadata": {},
   "outputs": [],
   "source": [
    "limbic_ids = [972] #, 171, 195, 304, 363, 84, 132, 44, 707, 747, 556, 827, 1054, 1081]\n",
    "from element_interface.utils import find_full_path\n",
    "from workflow_array_ephys.paths import get_ephys_root_data_dir\n",
    "nrrd_filepath = find_full_path(get_ephys_root_data_dir(), 'annotation_10.nrrd')\n",
    "ontology_csv_filepath = find_full_path(get_ephys_root_data_dir(), 'query.csv')\n",
    "for n in limbic_ids:\n",
    "    load_ccf_annotation(\n",
    "        ccf_id=n, version_name='ccf_2017', voxel_resolution=10,\n",
    "        nrrd_filepath=nrrd_filepath,\n",
    "        ontology_csv_filepath=ontology_csv_filepath)"
   ]
  }
 ],
 "metadata": {
  "jupytext": {
   "formats": "ipynb,py"
  },
  "kernelspec": {
   "display_name": "venv-nwb",
   "language": "python",
   "name": "venv-nwb"
  },
  "language_info": {
   "codemirror_mode": {
    "name": "ipython",
    "version": 3
   },
   "file_extension": ".py",
   "mimetype": "text/x-python",
   "name": "python",
   "nbconvert_exporter": "python",
   "pygments_lexer": "ipython3",
   "version": "3.8.11"
  }
 },
 "nbformat": 4,
 "nbformat_minor": 4
}
