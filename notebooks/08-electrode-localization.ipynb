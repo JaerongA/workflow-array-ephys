{
 "cells": [
  {
   "cell_type": "markdown",
   "metadata": {},
   "source": [
    "# Electrode Localization"
   ]
  },
  {
   "cell_type": "markdown",
   "metadata": {},
   "source": [
    "Change into the parent directory to find the `dj_local_conf.json` file."
   ]
  },
  {
   "cell_type": "code",
   "execution_count": 1,
   "metadata": {},
   "outputs": [],
   "source": [
    "import os\n",
    "# change to the upper level folder to detect dj_local_conf.json\n",
    "if os.path.basename(os.getcwd())=='notebooks': os.chdir('..')\n",
    "assert os.path.basename(os.getcwd())=='workflow-array-ephys', (\"Please move to the \"\n",
    "                                                               + \"workflow directory\")\n",
    "# We'll be working with long tables, so we'll make visualization easier with a limit\n",
    "import datajoint as dj; dj.config['display.limit']=10"
   ]
  },
  {
   "cell_type": "markdown",
   "metadata": {
    "incorrectly_encoded_metadata": "tags=[] jp-MarkdownHeadingCollapsed=true jp-MarkdownHeadingCollapsed=true",
    "tags": []
   },
   "source": [
    "## Coordinate Framework"
   ]
  },
  {
   "cell_type": "markdown",
   "metadata": {},
   "source": [
    "The Allen Institute hosts [brain atlases](http://download.alleninstitute.org/informatics-archive/current-release/mouse_ccf/annotation/ccf_2017) and [ontology trees](https://community.brain-map.org/t/allen-mouse-ccf-accessing-and-using-related-data-and-tools/359) that we'll use in the next section. The `localization.py` script assumes this is your first atlas, and that you'll use the 100μm resolution. For finer resolutions, edit `voxel_resolution` in `localization.py`. Higher resolution `nrrd` files are quite large when loaded. Depending on the python environment, the terminal may be killed when loading so much information into memory. To load multiple atlases, increment `ccf_id` for each unique atlas.\n",
    "\n",
    "To run this pipeline ...\n",
    "1. Download the 100μm `nrrd` and `csv` files from the links above.\n",
    "2. Move these files to your ephys root directory."
   ]
  },
  {
   "cell_type": "markdown",
   "metadata": {},
   "source": [
    "Next, we'll populate the coordinate framework schema simply by loading it. Because we are loading the whole brain volume, this may take 25 minutes or more."
   ]
  },
  {
   "cell_type": "code",
   "execution_count": 2,
   "metadata": {},
   "outputs": [
    {
     "name": "stdout",
     "output_type": "stream",
     "text": [
      "Connecting cbroz@dss-db.datajoint.io:3306\n"
     ]
    }
   ],
   "source": [
    "from workflow_array_ephys.localization import coordinate_framework as ccf"
   ]
  },
  {
   "cell_type": "markdown",
   "metadata": {},
   "source": [
    "Now, to explore the data we just loaded."
   ]
  },
  {
   "cell_type": "code",
   "execution_count": 3,
   "metadata": {},
   "outputs": [
    {
     "data": {
      "text/html": [
       "\n",
       "    \n",
       "    <style type=\"text/css\">\n",
       "        .Relation{\n",
       "            border-collapse:collapse;\n",
       "        }\n",
       "        .Relation th{\n",
       "            background: #A0A0A0; color: #ffffff; padding:4px; border:#f0e0e0 1px solid;\n",
       "            font-weight: normal; font-family: monospace; font-size: 100%;\n",
       "        }\n",
       "        .Relation td{\n",
       "            padding:4px; border:#f0e0e0 1px solid; font-size:100%;\n",
       "        }\n",
       "        .Relation tr:nth-child(odd){\n",
       "            background: #ffffff;\n",
       "        }\n",
       "        .Relation tr:nth-child(even){\n",
       "            background: #f3f1ff;\n",
       "        }\n",
       "        /* Tooltip container */\n",
       "        .djtooltip {\n",
       "        }\n",
       "        /* Tooltip text */\n",
       "        .djtooltip .djtooltiptext {\n",
       "            visibility: hidden;\n",
       "            width: 120px;\n",
       "            background-color: black;\n",
       "            color: #fff;\n",
       "            text-align: center;\n",
       "            padding: 5px 0;\n",
       "            border-radius: 6px;\n",
       "            /* Position the tooltip text - see examples below! */\n",
       "            position: absolute;\n",
       "            z-index: 1;\n",
       "        }\n",
       "        #primary {\n",
       "            font-weight: bold;\n",
       "            color: black;\n",
       "        }\n",
       "        #nonprimary {\n",
       "            font-weight: normal;\n",
       "            color: white;\n",
       "        }\n",
       "\n",
       "        /* Show the tooltip text when you mouse over the tooltip container */\n",
       "        .djtooltip:hover .djtooltiptext {\n",
       "            visibility: visible;\n",
       "        }\n",
       "    </style>\n",
       "    \n",
       "    <b></b>\n",
       "        <div style=\"max-height:1000px;max-width:1500px;overflow:auto;\">\n",
       "        <table border=\"1\" class=\"Relation\">\n",
       "            <thead> <tr style=\"text-align: right;\"> <th> <div class=\"djtooltip\">\n",
       "                            <p id=\"primary\">ccf_id</p>\n",
       "                            <span class=\"djtooltiptext\">CCF ID, a.k.a atlas ID</span>\n",
       "                        </div></th><th><div class=\"djtooltip\">\n",
       "                            <p id=\"primary\">acronym</p>\n",
       "                            <span class=\"djtooltiptext\">CHARACTER SET utf8 COLLATE utf8_bin</span>\n",
       "                        </div></th><th><div class=\"djtooltip\">\n",
       "                            <p id=\"nonprimary\">region_name</p>\n",
       "                            <span class=\"djtooltiptext\"></span>\n",
       "                        </div></th><th><div class=\"djtooltip\">\n",
       "                            <p id=\"nonprimary\">region_id</p>\n",
       "                            <span class=\"djtooltiptext\"></span>\n",
       "                        </div></th><th><div class=\"djtooltip\">\n",
       "                            <p id=\"nonprimary\">color_code</p>\n",
       "                            <span class=\"djtooltiptext\">hexcode of the color code of this region</span>\n",
       "                        </div> </th> </tr> </thead>\n",
       "            <tbody> <tr> <td>0</td>\n",
       "<td>6b</td>\n",
       "<td>Layer 6b isocortex</td>\n",
       "<td>16</td>\n",
       "<td>8ADA87</td></tr><tr><td>0</td>\n",
       "<td>a_a_a</td>\n",
       "<td>Anterior amygdalar area</td>\n",
       "<td>23</td>\n",
       "<td>80C0E2</td></tr><tr><td>0</td>\n",
       "<td>a_c_a</td>\n",
       "<td>Anterior cingulate area</td>\n",
       "<td>31</td>\n",
       "<td>40A666</td></tr><tr><td>0</td>\n",
       "<td>a_c_a1</td>\n",
       "<td>Anterior cingulate area layer 1</td>\n",
       "<td>572</td>\n",
       "<td>40A666</td></tr><tr><td>0</td>\n",
       "<td>a_c_a2/3</td>\n",
       "<td>Anterior cingulate area layer 2/3</td>\n",
       "<td>1053</td>\n",
       "<td>40A666</td></tr><tr><td>0</td>\n",
       "<td>a_c_a5</td>\n",
       "<td>Anterior cingulate area layer 5</td>\n",
       "<td>739</td>\n",
       "<td>40A666</td></tr><tr><td>0</td>\n",
       "<td>a_c_a6a</td>\n",
       "<td>Anterior cingulate area layer 6a</td>\n",
       "<td>179</td>\n",
       "<td>40A666</td></tr><tr><td>0</td>\n",
       "<td>a_c_a6b</td>\n",
       "<td>Anterior cingulate area layer 6b</td>\n",
       "<td>227</td>\n",
       "<td>40A666</td></tr><tr><td>0</td>\n",
       "<td>a_c_ad</td>\n",
       "<td>Anterior cingulate area dorsal part</td>\n",
       "<td>39</td>\n",
       "<td>40A666</td></tr><tr><td>0</td>\n",
       "<td>a_c_ad1</td>\n",
       "<td>Anterior cingulate area dorsal part layer 1</td>\n",
       "<td>935</td>\n",
       "<td>40A666</td> </tr> </tbody>\n",
       "        </table>\n",
       "        <p>...</p>\n",
       "        <p>Total: 1327</p></div>\n",
       "        "
      ],
      "text/plain": [
       "*ccf_id    *acronym     region_name    region_id     color_code    \n",
       "+--------+ +----------+ +------------+ +-----------+ +------------+\n",
       "0          6b           Layer 6b isoco 16            8ADA87        \n",
       "0          a_a_a        Anterior amygd 23            80C0E2        \n",
       "0          a_c_a        Anterior cingu 31            40A666        \n",
       "0          a_c_a1       Anterior cingu 572           40A666        \n",
       "0          a_c_a2/3     Anterior cingu 1053          40A666        \n",
       "0          a_c_a5       Anterior cingu 739           40A666        \n",
       "0          a_c_a6a      Anterior cingu 179           40A666        \n",
       "0          a_c_a6b      Anterior cingu 227           40A666        \n",
       "0          a_c_ad       Anterior cingu 39            40A666        \n",
       "0          a_c_ad1      Anterior cingu 935           40A666        \n",
       "   ...\n",
       " (Total: 1327)"
      ]
     },
     "execution_count": 3,
     "metadata": {},
     "output_type": "execute_result"
    }
   ],
   "source": [
    "ccf.BrainRegionAnnotation.BrainRegion()"
   ]
  },
  {
   "cell_type": "markdown",
   "metadata": {},
   "source": [
    "The acronyms listed in the DataJoint table differ slightly from the CCF standard by substituting case-sensitive differences with [snake case](https://en.wikipedia.org/wiki/Snake_case). To lookup the snake case equivalent, use the `retrieve_acronym` function."
   ]
  },
  {
   "cell_type": "code",
   "execution_count": 4,
   "metadata": {},
   "outputs": [
    {
     "name": "stdout",
     "output_type": "stream",
     "text": [
      "CM: c_m\n",
      "cm: cm\n"
     ]
    }
   ],
   "source": [
    "central_thalamus = ccf.BrainRegionAnnotation.retrieve_acronym('CM')\n",
    "cranial_nerves = ccf.BrainRegionAnnotation.retrieve_acronym('cm')\n",
    "print(f'CM: {central_thalamus}\\ncm: {cranial_nerves}')"
   ]
  },
  {
   "cell_type": "markdown",
   "metadata": {},
   "source": [
    "If your work requires the case-sensitive columns please contact get in touch with the DataJoint team via [StackOverflow](https://stackoverflow.com/questions/tagged/datajoint).\n",
    "\n",
    "For this demo, let's look at the dimensions of the central thalamus. To look at other regions, open the CSV you downloaded and search for your desired region."
   ]
  },
  {
   "cell_type": "code",
   "execution_count": 10,
   "metadata": {},
   "outputs": [
    {
     "data": {
      "text/html": [
       "\n",
       "    \n",
       "    <style type=\"text/css\">\n",
       "        .Relation{\n",
       "            border-collapse:collapse;\n",
       "        }\n",
       "        .Relation th{\n",
       "            background: #A0A0A0; color: #ffffff; padding:4px; border:#f0e0e0 1px solid;\n",
       "            font-weight: normal; font-family: monospace; font-size: 100%;\n",
       "        }\n",
       "        .Relation td{\n",
       "            padding:4px; border:#f0e0e0 1px solid; font-size:100%;\n",
       "        }\n",
       "        .Relation tr:nth-child(odd){\n",
       "            background: #ffffff;\n",
       "        }\n",
       "        .Relation tr:nth-child(even){\n",
       "            background: #f3f1ff;\n",
       "        }\n",
       "        /* Tooltip container */\n",
       "        .djtooltip {\n",
       "        }\n",
       "        /* Tooltip text */\n",
       "        .djtooltip .djtooltiptext {\n",
       "            visibility: hidden;\n",
       "            width: 120px;\n",
       "            background-color: black;\n",
       "            color: #fff;\n",
       "            text-align: center;\n",
       "            padding: 5px 0;\n",
       "            border-radius: 6px;\n",
       "            /* Position the tooltip text - see examples below! */\n",
       "            position: absolute;\n",
       "            z-index: 1;\n",
       "        }\n",
       "        #primary {\n",
       "            font-weight: bold;\n",
       "            color: black;\n",
       "        }\n",
       "        #nonprimary {\n",
       "            font-weight: normal;\n",
       "            color: white;\n",
       "        }\n",
       "\n",
       "        /* Show the tooltip text when you mouse over the tooltip container */\n",
       "        .djtooltip:hover .djtooltiptext {\n",
       "            visibility: visible;\n",
       "        }\n",
       "    </style>\n",
       "    \n",
       "    <b></b>\n",
       "        <div style=\"max-height:1000px;max-width:1500px;overflow:auto;\">\n",
       "        <table border=\"1\" class=\"Relation\">\n",
       "            <thead> <tr style=\"text-align: right;\"> <th> <div class=\"djtooltip\">\n",
       "                            <p id=\"primary\">ccf_id</p>\n",
       "                            <span class=\"djtooltiptext\">CCF ID, a.k.a atlas ID</span>\n",
       "                        </div></th><th><div class=\"djtooltip\">\n",
       "                            <p id=\"primary\">acronym</p>\n",
       "                            <span class=\"djtooltiptext\">CHARACTER SET utf8 COLLATE utf8_bin</span>\n",
       "                        </div></th><th><div class=\"djtooltip\">\n",
       "                            <p id=\"primary\">x</p>\n",
       "                            <span class=\"djtooltiptext\">(um)  Anterior-to-Posterior (AP axis)</span>\n",
       "                        </div></th><th><div class=\"djtooltip\">\n",
       "                            <p id=\"primary\">y</p>\n",
       "                            <span class=\"djtooltiptext\">(um)  Superior-to-Inferior (DV axis)</span>\n",
       "                        </div></th><th><div class=\"djtooltip\">\n",
       "                            <p id=\"primary\">z</p>\n",
       "                            <span class=\"djtooltiptext\">(um)  Left-to-Right (ML axis)</span>\n",
       "                        </div> </th> </tr> </thead>\n",
       "            <tbody> <tr> <td>0</td>\n",
       "<td>c_m</td>\n",
       "<td>100</td>\n",
       "<td>3300</td>\n",
       "<td>4900</td></tr><tr><td>0</td>\n",
       "<td>c_m</td>\n",
       "<td>100</td>\n",
       "<td>3300</td>\n",
       "<td>5000</td></tr><tr><td>0</td>\n",
       "<td>c_m</td>\n",
       "<td>100</td>\n",
       "<td>3300</td>\n",
       "<td>5100</td></tr><tr><td>0</td>\n",
       "<td>c_m</td>\n",
       "<td>100</td>\n",
       "<td>3300</td>\n",
       "<td>5200</td></tr><tr><td>0</td>\n",
       "<td>c_m</td>\n",
       "<td>100</td>\n",
       "<td>3300</td>\n",
       "<td>5300</td></tr><tr><td>0</td>\n",
       "<td>c_m</td>\n",
       "<td>100</td>\n",
       "<td>3300</td>\n",
       "<td>6100</td></tr><tr><td>0</td>\n",
       "<td>c_m</td>\n",
       "<td>100</td>\n",
       "<td>3300</td>\n",
       "<td>6200</td></tr><tr><td>0</td>\n",
       "<td>c_m</td>\n",
       "<td>100</td>\n",
       "<td>3300</td>\n",
       "<td>6300</td></tr><tr><td>0</td>\n",
       "<td>c_m</td>\n",
       "<td>100</td>\n",
       "<td>3300</td>\n",
       "<td>6400</td></tr><tr><td>0</td>\n",
       "<td>c_m</td>\n",
       "<td>100</td>\n",
       "<td>3300</td>\n",
       "<td>6500</td> </tr> </tbody>\n",
       "        </table>\n",
       "        <p>...</p>\n",
       "        <p>Total: 4911</p></div>\n",
       "        "
      ],
      "text/plain": [
       "*ccf_id    *acronym    *x      *y       *z      \n",
       "+--------+ +---------+ +-----+ +------+ +------+\n",
       "0          c_m         100     3300     4900    \n",
       "0          c_m         100     3300     5000    \n",
       "0          c_m         100     3300     5100    \n",
       "0          c_m         100     3300     5200    \n",
       "0          c_m         100     3300     5300    \n",
       "0          c_m         100     3300     6100    \n",
       "0          c_m         100     3300     6200    \n",
       "0          c_m         100     3300     6300    \n",
       "0          c_m         100     3300     6400    \n",
       "0          c_m         100     3300     6500    \n",
       "   ...\n",
       " (Total: 4911)"
      ]
     },
     "execution_count": 10,
     "metadata": {},
     "output_type": "execute_result"
    }
   ],
   "source": [
    "cm_voxels = ccf.BrainRegionAnnotation.Voxel() & f'acronym=\\\"{central_thalamus}\\\"'\n",
    "cm_voxels"
   ]
  },
  {
   "cell_type": "code",
   "execution_count": 17,
   "metadata": {},
   "outputs": [
    {
     "name": "stdout",
     "output_type": "stream",
     "text": [
      "The central thalamus extends from \n",
      "\tx = 100  to x = 8400\n",
      "\ty = 2600 to y = 7500\n",
      "\tz = 1700 to z = 9700\n"
     ]
    }
   ],
   "source": [
    "cm_x, cm_y, cm_z = cm_voxels.fetch('x', 'y', 'z')\n",
    "print(f'The central thalamus extends from \\n\\tx = {min(cm_x)}  to x = {max(cm_x)}\\n\\t'\n",
    "      + f'y = {min(cm_y)} to y = {max(cm_y)}\\n\\tz = {min(cm_z)} to z = {max(cm_z)}')"
   ]
  },
  {
   "cell_type": "markdown",
   "metadata": {},
   "source": [
    "## Electrode Localization"
   ]
  },
  {
   "cell_type": "markdown",
   "metadata": {},
   "source": [
    "If you have `channel_location` json files for your data, you can look at the position and regions associated with each electrode. Here, we've added an example file to our pre-existing `subject6` for demonstration purposes."
   ]
  },
  {
   "cell_type": "code",
   "execution_count": 5,
   "metadata": {},
   "outputs": [],
   "source": [
    "from workflow_array_ephys.localization import coordinate_framework as ccf\n",
    "from workflow_array_ephys.localization import electrode_localization as eloc"
   ]
  },
  {
   "cell_type": "markdown",
   "metadata": {},
   "source": [
    "Because the probe may not be fully inserted, there will be some electrode positions that occur outside the brain. We register these instances with an `IntegrityError` warning because we're trying to register a coorinate position with no corresponding location in the `ccf.CCF.Voxel` table. We can silence these warnings by setting the log level before running `populate()` on the `ElectrodePosition` table."
   ]
  },
  {
   "cell_type": "code",
   "execution_count": 3,
   "metadata": {},
   "outputs": [],
   "source": [
    "import logging\n",
    "logging.getLogger().setLevel(logging.ERROR) # or logging.INFO"
   ]
  },
  {
   "cell_type": "code",
   "execution_count": null,
   "metadata": {},
   "outputs": [],
   "source": [
    "eloc.ElectrodePosition.populate()"
   ]
  },
  {
   "cell_type": "markdown",
   "metadata": {},
   "source": [
    "By calling the `ElectrodePosition` table, we can see the keys the `populate()` method has already processed."
   ]
  },
  {
   "cell_type": "code",
   "execution_count": 6,
   "metadata": {},
   "outputs": [
    {
     "data": {
      "text/html": [
       "\n",
       "    \n",
       "    <style type=\"text/css\">\n",
       "        .Relation{\n",
       "            border-collapse:collapse;\n",
       "        }\n",
       "        .Relation th{\n",
       "            background: #A0A0A0; color: #ffffff; padding:4px; border:#f0e0e0 1px solid;\n",
       "            font-weight: normal; font-family: monospace; font-size: 100%;\n",
       "        }\n",
       "        .Relation td{\n",
       "            padding:4px; border:#f0e0e0 1px solid; font-size:100%;\n",
       "        }\n",
       "        .Relation tr:nth-child(odd){\n",
       "            background: #ffffff;\n",
       "        }\n",
       "        .Relation tr:nth-child(even){\n",
       "            background: #f3f1ff;\n",
       "        }\n",
       "        /* Tooltip container */\n",
       "        .djtooltip {\n",
       "        }\n",
       "        /* Tooltip text */\n",
       "        .djtooltip .djtooltiptext {\n",
       "            visibility: hidden;\n",
       "            width: 120px;\n",
       "            background-color: black;\n",
       "            color: #fff;\n",
       "            text-align: center;\n",
       "            padding: 5px 0;\n",
       "            border-radius: 6px;\n",
       "            /* Position the tooltip text - see examples below! */\n",
       "            position: absolute;\n",
       "            z-index: 1;\n",
       "        }\n",
       "        #primary {\n",
       "            font-weight: bold;\n",
       "            color: black;\n",
       "        }\n",
       "        #nonprimary {\n",
       "            font-weight: normal;\n",
       "            color: white;\n",
       "        }\n",
       "\n",
       "        /* Show the tooltip text when you mouse over the tooltip container */\n",
       "        .djtooltip:hover .djtooltiptext {\n",
       "            visibility: visible;\n",
       "        }\n",
       "    </style>\n",
       "    \n",
       "    <b></b>\n",
       "        <div style=\"max-height:1000px;max-width:1500px;overflow:auto;\">\n",
       "        <table border=\"1\" class=\"Relation\">\n",
       "            <thead> <tr style=\"text-align: right;\"> <th> <div class=\"djtooltip\">\n",
       "                            <p id=\"primary\">subject</p>\n",
       "                            <span class=\"djtooltiptext\"></span>\n",
       "                        </div></th><th><div class=\"djtooltip\">\n",
       "                            <p id=\"primary\">session_datetime</p>\n",
       "                            <span class=\"djtooltiptext\"></span>\n",
       "                        </div></th><th><div class=\"djtooltip\">\n",
       "                            <p id=\"primary\">insertion_number</p>\n",
       "                            <span class=\"djtooltiptext\"></span>\n",
       "                        </div></th><th><div class=\"djtooltip\">\n",
       "                            <p id=\"primary\">ccf_id</p>\n",
       "                            <span class=\"djtooltiptext\">CCF ID, a.k.a atlas ID</span>\n",
       "                        </div> </th> </tr> </thead>\n",
       "            <tbody> <tr> <td>subject5</td>\n",
       "<td>2018-07-03 20:32:28</td>\n",
       "<td>1</td>\n",
       "<td>0</td></tr><tr><td>subject5</td>\n",
       "<td>2018-07-03 20:32:28</td>\n",
       "<td>2</td>\n",
       "<td>0</td></tr><tr><td>subject6</td>\n",
       "<td>2021-01-15 11:16:38</td>\n",
       "<td>0</td>\n",
       "<td>0</td> </tr> </tbody>\n",
       "        </table>\n",
       "        \n",
       "        <p>Total: 3</p></div>\n",
       "        "
      ],
      "text/plain": [
       "*subject     *session_datet *insertion_num *ccf_id   \n",
       "+----------+ +------------+ +------------+ +--------+\n",
       "subject5     2018-07-03 20: 1              0         \n",
       "subject5     2018-07-03 20: 2              0         \n",
       "subject6     2021-01-15 11: 0              0         \n",
       " (Total: 3)"
      ]
     },
     "execution_count": 6,
     "metadata": {},
     "output_type": "execute_result"
    }
   ],
   "source": [
    "eloc.ElectrodePosition()"
   ]
  },
  {
   "cell_type": "markdown",
   "metadata": {},
   "source": [
    "Let's focus on `subject5`, insertion `1`."
   ]
  },
  {
   "cell_type": "code",
   "execution_count": 8,
   "metadata": {},
   "outputs": [
    {
     "data": {
      "text/plain": [
       "373"
      ]
     },
     "execution_count": 8,
     "metadata": {},
     "output_type": "execute_result"
    }
   ],
   "source": [
    "from workflow_array_ephys.pipeline import ephys\n",
    "key=(ephys.EphysRecording & 'subject=\"subject5\"' & 'insertion_number=1').fetch1('KEY')\n",
    "len(eloc.ElectrodePosition.Electrode & key)"
   ]
  },
  {
   "cell_type": "markdown",
   "metadata": {},
   "source": [
    "With a resolution of 100μm, adjacent electrodes will very likely be in the same region. Let's look at every 38th electrode to sample 10 across the probe.\n",
    "\n",
    "If you're interested in more electrodes, decrease the number next to the `%` modulo operator."
   ]
  },
  {
   "cell_type": "code",
   "execution_count": 13,
   "metadata": {},
   "outputs": [
    {
     "name": "stdout",
     "output_type": "stream",
     "text": [
      "Electrode 0 (x=11900, y=6300, z=6900) is in Primary auditory area\n",
      "Electrode 38 (x=11900, y=6300, z=6500) is in Primary auditory area\n",
      "Electrode 76 (x=11800, y=6300, z=6100) is in Declive (VI) Purkinje layer\n",
      "Electrode 114 (x=11700, y=6400, z=5600) is in Lobules IV-V molecular layer\n",
      "Electrode 152 (x=11700, y=6400, z=5200) is in Declive (VI) Purkinje layer\n",
      "Electrode 190 (x=11600, y=6500, z=4700) is in Primary auditory area\n",
      "Electrode 228 (x=11600, y=6500, z=4300) is in Granular lamina of the cochlear nuclei\n",
      "Electrode 266 (x=11600, y=6600, z=3900) is in Cuneiform nucleus\n",
      "Electrode 304 (x=11600, y=6600, z=3500) is in Lateral hypothalamic area\n",
      "Electrode 342 (x=11600, y=6700, z=3100) is in root\n",
      "Electrode 380 (x=11600, y=6700, z=2800) is in root\n"
     ]
    }
   ],
   "source": [
    "electrode_coordinates = (eloc.ElectrodePosition.Electrode & 'electrode%38=0' \n",
    "                         & key).fetch('electrode', 'x', 'y', 'z', as_dict=True)\n",
    "for e in electrode_coordinates:\n",
    "    x, y, z = [ e[k] for k in ('x','y', 'z')]\n",
    "    acronym = (ccf.BrainRegionAnnotation.Voxel & f'x={x}' & f'y={y}' & f'z={z}'\n",
    "               ).fetch1('acronym')\n",
    "    e['region'] = (ccf.BrainRegionAnnotation.BrainRegion & f'acronym=\\\"{acronym}\\\"'\n",
    "                   ).fetch1('region_name')\n",
    "    print('Electrode {electrode} (x={x}, y={y}, z={z}) is in {region}'.format(**e))"
   ]
  },
  {
   "cell_type": "code",
   "execution_count": 7,
   "metadata": {},
   "outputs": [
    {
     "data": {
      "text/html": [
       "\n",
       "    \n",
       "    <style type=\"text/css\">\n",
       "        .Relation{\n",
       "            border-collapse:collapse;\n",
       "        }\n",
       "        .Relation th{\n",
       "            background: #A0A0A0; color: #ffffff; padding:4px; border:#f0e0e0 1px solid;\n",
       "            font-weight: normal; font-family: monospace; font-size: 100%;\n",
       "        }\n",
       "        .Relation td{\n",
       "            padding:4px; border:#f0e0e0 1px solid; font-size:100%;\n",
       "        }\n",
       "        .Relation tr:nth-child(odd){\n",
       "            background: #ffffff;\n",
       "        }\n",
       "        .Relation tr:nth-child(even){\n",
       "            background: #f3f1ff;\n",
       "        }\n",
       "        /* Tooltip container */\n",
       "        .djtooltip {\n",
       "        }\n",
       "        /* Tooltip text */\n",
       "        .djtooltip .djtooltiptext {\n",
       "            visibility: hidden;\n",
       "            width: 120px;\n",
       "            background-color: black;\n",
       "            color: #fff;\n",
       "            text-align: center;\n",
       "            padding: 5px 0;\n",
       "            border-radius: 6px;\n",
       "            /* Position the tooltip text - see examples below! */\n",
       "            position: absolute;\n",
       "            z-index: 1;\n",
       "        }\n",
       "        #primary {\n",
       "            font-weight: bold;\n",
       "            color: black;\n",
       "        }\n",
       "        #nonprimary {\n",
       "            font-weight: normal;\n",
       "            color: white;\n",
       "        }\n",
       "\n",
       "        /* Show the tooltip text when you mouse over the tooltip container */\n",
       "        .djtooltip:hover .djtooltiptext {\n",
       "            visibility: visible;\n",
       "        }\n",
       "    </style>\n",
       "    \n",
       "    <b></b>\n",
       "        <div style=\"max-height:1000px;max-width:1500px;overflow:auto;\">\n",
       "        <table border=\"1\" class=\"Relation\">\n",
       "            <thead> <tr style=\"text-align: right;\"> <th> <div class=\"djtooltip\">\n",
       "                            <p id=\"primary\">subject</p>\n",
       "                            <span class=\"djtooltiptext\"></span>\n",
       "                        </div></th><th><div class=\"djtooltip\">\n",
       "                            <p id=\"primary\">session_datetime</p>\n",
       "                            <span class=\"djtooltiptext\"></span>\n",
       "                        </div></th><th><div class=\"djtooltip\">\n",
       "                            <p id=\"primary\">insertion_number</p>\n",
       "                            <span class=\"djtooltiptext\"></span>\n",
       "                        </div></th><th><div class=\"djtooltip\">\n",
       "                            <p id=\"primary\">ccf_id</p>\n",
       "                            <span class=\"djtooltiptext\">CCF ID, a.k.a atlas ID</span>\n",
       "                        </div></th><th><div class=\"djtooltip\">\n",
       "                            <p id=\"primary\">probe_type</p>\n",
       "                            <span class=\"djtooltiptext\">e.g. neuropixels_1.0</span>\n",
       "                        </div></th><th><div class=\"djtooltip\">\n",
       "                            <p id=\"primary\">electrode</p>\n",
       "                            <span class=\"djtooltiptext\">electrode index, starts at 0</span>\n",
       "                        </div></th><th><div class=\"djtooltip\">\n",
       "                            <p id=\"nonprimary\">x</p>\n",
       "                            <span class=\"djtooltiptext\">(um)  Anterior-to-Posterior (AP axis)</span>\n",
       "                        </div></th><th><div class=\"djtooltip\">\n",
       "                            <p id=\"nonprimary\">y</p>\n",
       "                            <span class=\"djtooltiptext\">(um)  Superior-to-Inferior (DV axis)</span>\n",
       "                        </div></th><th><div class=\"djtooltip\">\n",
       "                            <p id=\"nonprimary\">z</p>\n",
       "                            <span class=\"djtooltiptext\">(um)  Left-to-Right (ML axis)</span>\n",
       "                        </div> </th> </tr> </thead>\n",
       "            <tbody> <tr> <td>subject5</td>\n",
       "<td>2018-07-03 20:32:28</td>\n",
       "<td>2</td>\n",
       "<td>0</td>\n",
       "<td>neuropixels 1.0 - 3A</td>\n",
       "<td>206</td>\n",
       "<td>11000</td>\n",
       "<td>4600</td>\n",
       "<td>4600</td></tr><tr><td>subject5</td>\n",
       "<td>2018-07-03 20:32:28</td>\n",
       "<td>2</td>\n",
       "<td>0</td>\n",
       "<td>neuropixels 1.0 - 3A</td>\n",
       "<td>207</td>\n",
       "<td>11000</td>\n",
       "<td>4600</td>\n",
       "<td>4600</td></tr><tr><td>subject6</td>\n",
       "<td>2021-01-15 11:16:38</td>\n",
       "<td>0</td>\n",
       "<td>0</td>\n",
       "<td>neuropixels 1.0 - 3B</td>\n",
       "<td>206</td>\n",
       "<td>11000</td>\n",
       "<td>4600</td>\n",
       "<td>4600</td></tr><tr><td>subject6</td>\n",
       "<td>2021-01-15 11:16:38</td>\n",
       "<td>0</td>\n",
       "<td>0</td>\n",
       "<td>neuropixels 1.0 - 3B</td>\n",
       "<td>207</td>\n",
       "<td>11000</td>\n",
       "<td>4600</td>\n",
       "<td>4600</td></tr><tr><td>subject5</td>\n",
       "<td>2018-07-03 20:32:28</td>\n",
       "<td>2</td>\n",
       "<td>0</td>\n",
       "<td>neuropixels 1.0 - 3A</td>\n",
       "<td>196</td>\n",
       "<td>11000</td>\n",
       "<td>4600</td>\n",
       "<td>4700</td></tr><tr><td>subject5</td>\n",
       "<td>2018-07-03 20:32:28</td>\n",
       "<td>2</td>\n",
       "<td>0</td>\n",
       "<td>neuropixels 1.0 - 3A</td>\n",
       "<td>197</td>\n",
       "<td>11000</td>\n",
       "<td>4600</td>\n",
       "<td>4700</td></tr><tr><td>subject5</td>\n",
       "<td>2018-07-03 20:32:28</td>\n",
       "<td>2</td>\n",
       "<td>0</td>\n",
       "<td>neuropixels 1.0 - 3A</td>\n",
       "<td>198</td>\n",
       "<td>11000</td>\n",
       "<td>4600</td>\n",
       "<td>4700</td></tr><tr><td>subject5</td>\n",
       "<td>2018-07-03 20:32:28</td>\n",
       "<td>2</td>\n",
       "<td>0</td>\n",
       "<td>neuropixels 1.0 - 3A</td>\n",
       "<td>199</td>\n",
       "<td>11000</td>\n",
       "<td>4600</td>\n",
       "<td>4700</td></tr><tr><td>subject5</td>\n",
       "<td>2018-07-03 20:32:28</td>\n",
       "<td>2</td>\n",
       "<td>0</td>\n",
       "<td>neuropixels 1.0 - 3A</td>\n",
       "<td>200</td>\n",
       "<td>11000</td>\n",
       "<td>4600</td>\n",
       "<td>4700</td></tr><tr><td>subject5</td>\n",
       "<td>2018-07-03 20:32:28</td>\n",
       "<td>2</td>\n",
       "<td>0</td>\n",
       "<td>neuropixels 1.0 - 3A</td>\n",
       "<td>201</td>\n",
       "<td>11000</td>\n",
       "<td>4600</td>\n",
       "<td>4700</td> </tr> </tbody>\n",
       "        </table>\n",
       "        <p>...</p>\n",
       "        <p>Total: 1113</p></div>\n",
       "        "
      ],
      "text/plain": [
       "*subject     *session_datet *insertion_num *ccf_id    *probe_type    *electrode    x         y        z       \n",
       "+----------+ +------------+ +------------+ +--------+ +------------+ +-----------+ +-------+ +------+ +------+\n",
       "subject5     2018-07-03 20: 2              0          neuropixels 1. 206           11000     4600     4600    \n",
       "subject5     2018-07-03 20: 2              0          neuropixels 1. 207           11000     4600     4600    \n",
       "subject6     2021-01-15 11: 0              0          neuropixels 1. 206           11000     4600     4600    \n",
       "subject6     2021-01-15 11: 0              0          neuropixels 1. 207           11000     4600     4600    \n",
       "subject5     2018-07-03 20: 2              0          neuropixels 1. 196           11000     4600     4700    \n",
       "subject5     2018-07-03 20: 2              0          neuropixels 1. 197           11000     4600     4700    \n",
       "subject5     2018-07-03 20: 2              0          neuropixels 1. 198           11000     4600     4700    \n",
       "subject5     2018-07-03 20: 2              0          neuropixels 1. 199           11000     4600     4700    \n",
       "subject5     2018-07-03 20: 2              0          neuropixels 1. 200           11000     4600     4700    \n",
       "subject5     2018-07-03 20: 2              0          neuropixels 1. 201           11000     4600     4700    \n",
       "   ...\n",
       " (Total: 1113)"
      ]
     },
     "execution_count": 7,
     "metadata": {},
     "output_type": "execute_result"
    }
   ],
   "source": [
    "eloc.ElectrodePosition.Electrode()"
   ]
  },
  {
   "cell_type": "code",
   "execution_count": null,
   "metadata": {},
   "outputs": [],
   "source": []
  }
 ],
 "metadata": {
  "jupytext": {
   "formats": "ipynb,py"
  },
  "kernelspec": {
   "display_name": "venv-nwb",
   "language": "python",
   "name": "venv-nwb"
  },
  "language_info": {
   "codemirror_mode": {
    "name": "ipython",
    "version": 3
   },
   "file_extension": ".py",
   "mimetype": "text/x-python",
   "name": "python",
   "nbconvert_exporter": "python",
   "pygments_lexer": "ipython3",
   "version": "3.8.11"
  }
 },
 "nbformat": 4,
 "nbformat_minor": 4
}
