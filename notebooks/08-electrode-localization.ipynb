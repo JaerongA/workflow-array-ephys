{
 "cells": [
  {
   "cell_type": "markdown",
   "metadata": {},
   "source": [
    "# Electrode Localization"
   ]
  },
  {
   "cell_type": "markdown",
   "metadata": {},
   "source": [
    "Change into the parent directory to find the `dj_local_conf.json` file."
   ]
  },
  {
   "cell_type": "code",
   "execution_count": 1,
   "metadata": {},
   "outputs": [],
   "source": [
    "import os\n",
    "import datajoint as dj\n",
    "# change to the upper level folder to detect dj_local_conf.json\n",
    "if os.path.basename(os.getcwd())=='notebooks': os.chdir('..')\n",
    "assert os.path.basename(os.getcwd())=='workflow-array-ephys', (\"Please move to the \"\n",
    "                                                               + \"workflow directory\")"
   ]
  },
  {
   "cell_type": "markdown",
   "metadata": {
    "jp-MarkdownHeadingCollapsed": true,
    "tags": []
   },
   "source": [
    "## Coordinate Framework"
   ]
  },
  {
   "cell_type": "markdown",
   "metadata": {},
   "source": [
    "The Allen Institute hosts [brain atlases](http://download.alleninstitute.org/informatics-archive/current-release/mouse_ccf/annotation/ccf_2017) and [ontology trees](https://community.brain-map.org/t/allen-mouse-ccf-accessing-and-using-related-data-and-tools/359) that we'll use in the next section. The `localization.py` script assumes this is your first atlas, and that you'll use the 100μm resolution. For finer resolutions, edit `voxel_resolution` in `localization.py`. Higher resolution `nrrd` files are quite large when loaded. Depending on the python environment, the terminal may be killed when loading so much information into memory. To load multiple atlases, increment `ccf_id` for each unique atlas.\n",
    "\n",
    "To run this pipeline ...\n",
    "1. Download the 100μm `nrrd` and `csv` files from the links above.\n",
    "2. Move these files to your ephys root directory."
   ]
  },
  {
   "cell_type": "markdown",
   "metadata": {},
   "source": [
    "Next, we'll populate the coordinate framework schema simply by loading it."
   ]
  },
  {
   "cell_type": "code",
   "execution_count": null,
   "metadata": {},
   "outputs": [],
   "source": [
    "from workflow_array_ephys.localization import coordinate_framework as ccf"
   ]
  },
  {
   "cell_type": "markdown",
   "metadata": {},
   "source": [
    "Now, to explore the data we just loaded."
   ]
  },
  {
   "cell_type": "code",
   "execution_count": 9,
   "metadata": {},
   "outputs": [
    {
     "data": {
      "text/html": [
       "\n",
       "    \n",
       "    <style type=\"text/css\">\n",
       "        .Relation{\n",
       "            border-collapse:collapse;\n",
       "        }\n",
       "        .Relation th{\n",
       "            background: #A0A0A0; color: #ffffff; padding:4px; border:#f0e0e0 1px solid;\n",
       "            font-weight: normal; font-family: monospace; font-size: 100%;\n",
       "        }\n",
       "        .Relation td{\n",
       "            padding:4px; border:#f0e0e0 1px solid; font-size:100%;\n",
       "        }\n",
       "        .Relation tr:nth-child(odd){\n",
       "            background: #ffffff;\n",
       "        }\n",
       "        .Relation tr:nth-child(even){\n",
       "            background: #f3f1ff;\n",
       "        }\n",
       "        /* Tooltip container */\n",
       "        .djtooltip {\n",
       "        }\n",
       "        /* Tooltip text */\n",
       "        .djtooltip .djtooltiptext {\n",
       "            visibility: hidden;\n",
       "            width: 120px;\n",
       "            background-color: black;\n",
       "            color: #fff;\n",
       "            text-align: center;\n",
       "            padding: 5px 0;\n",
       "            border-radius: 6px;\n",
       "            /* Position the tooltip text - see examples below! */\n",
       "            position: absolute;\n",
       "            z-index: 1;\n",
       "        }\n",
       "        #primary {\n",
       "            font-weight: bold;\n",
       "            color: black;\n",
       "        }\n",
       "        #nonprimary {\n",
       "            font-weight: normal;\n",
       "            color: white;\n",
       "        }\n",
       "\n",
       "        /* Show the tooltip text when you mouse over the tooltip container */\n",
       "        .djtooltip:hover .djtooltiptext {\n",
       "            visibility: visible;\n",
       "        }\n",
       "    </style>\n",
       "    \n",
       "    <b></b>\n",
       "        <div style=\"max-height:1000px;max-width:1500px;overflow:auto;\">\n",
       "        <table border=\"1\" class=\"Relation\">\n",
       "            <thead> <tr style=\"text-align: right;\"> <th> <div class=\"djtooltip\">\n",
       "                            <p id=\"primary\">ccf_id</p>\n",
       "                            <span class=\"djtooltiptext\">CCF ID, a.k.a atlas ID</span>\n",
       "                        </div></th><th><div class=\"djtooltip\">\n",
       "                            <p id=\"primary\">acronym</p>\n",
       "                            <span class=\"djtooltiptext\">CHARACTER SET utf8 COLLATE utf8_bin</span>\n",
       "                        </div></th><th><div class=\"djtooltip\">\n",
       "                            <p id=\"nonprimary\">region_name</p>\n",
       "                            <span class=\"djtooltiptext\"></span>\n",
       "                        </div></th><th><div class=\"djtooltip\">\n",
       "                            <p id=\"nonprimary\">region_id</p>\n",
       "                            <span class=\"djtooltiptext\"></span>\n",
       "                        </div></th><th><div class=\"djtooltip\">\n",
       "                            <p id=\"nonprimary\">color_code</p>\n",
       "                            <span class=\"djtooltiptext\">hexcode of the color code of this region</span>\n",
       "                        </div> </th> </tr> </thead>\n",
       "            <tbody> <tr> <td>0</td>\n",
       "<td>6b</td>\n",
       "<td>Layer 6b isocortex</td>\n",
       "<td>16</td>\n",
       "<td>8ADA87</td></tr><tr><td>0</td>\n",
       "<td>A13</td>\n",
       "<td>Dopaminergic A13 group</td>\n",
       "<td>796</td>\n",
       "<td>F2483B</td></tr><tr><td>0</td>\n",
       "<td>AAA</td>\n",
       "<td>Anterior amygdalar area</td>\n",
       "<td>23</td>\n",
       "<td>80C0E2</td></tr><tr><td>0</td>\n",
       "<td>ACA</td>\n",
       "<td>Anterior cingulate area</td>\n",
       "<td>31</td>\n",
       "<td>40A666</td></tr><tr><td>0</td>\n",
       "<td>ACA1</td>\n",
       "<td>Anterior cingulate area layer 1</td>\n",
       "<td>572</td>\n",
       "<td>40A666</td></tr><tr><td>0</td>\n",
       "<td>ACA2/3</td>\n",
       "<td>Anterior cingulate area layer 2/3</td>\n",
       "<td>1053</td>\n",
       "<td>40A666</td></tr><tr><td>0</td>\n",
       "<td>ACA5</td>\n",
       "<td>Anterior cingulate area layer 5</td>\n",
       "<td>739</td>\n",
       "<td>40A666</td></tr><tr><td>0</td>\n",
       "<td>ACA6a</td>\n",
       "<td>Anterior cingulate area layer 6a</td>\n",
       "<td>179</td>\n",
       "<td>40A666</td></tr><tr><td>0</td>\n",
       "<td>ACA6b</td>\n",
       "<td>Anterior cingulate area layer 6b</td>\n",
       "<td>227</td>\n",
       "<td>40A666</td></tr><tr><td>0</td>\n",
       "<td>ACAd</td>\n",
       "<td>Anterior cingulate area dorsal part</td>\n",
       "<td>39</td>\n",
       "<td>40A666</td></tr><tr><td>0</td>\n",
       "<td>ACAd1</td>\n",
       "<td>Anterior cingulate area dorsal part layer 1</td>\n",
       "<td>935</td>\n",
       "<td>40A666</td></tr><tr><td>0</td>\n",
       "<td>ACAd2/3</td>\n",
       "<td>Anterior cingulate area dorsal part layer 2/3</td>\n",
       "<td>211</td>\n",
       "<td>40A666</td></tr><tr><td>0</td>\n",
       "<td>ACAd5</td>\n",
       "<td>Anterior cingulate area dorsal part layer 5</td>\n",
       "<td>1015</td>\n",
       "<td>40A666</td></tr><tr><td>0</td>\n",
       "<td>ACAd6a</td>\n",
       "<td>Anterior cingulate area dorsal part layer 6a</td>\n",
       "<td>919</td>\n",
       "<td>40A666</td></tr><tr><td>0</td>\n",
       "<td>ACAd6b</td>\n",
       "<td>Anterior cingulate area dorsal part layer 6b</td>\n",
       "<td>927</td>\n",
       "<td>40A666</td></tr><tr><td>0</td>\n",
       "<td>ACAv</td>\n",
       "<td>Anterior cingulate area ventral part</td>\n",
       "<td>48</td>\n",
       "<td>40A666</td></tr><tr><td>0</td>\n",
       "<td>ACAv1</td>\n",
       "<td>Anterior cingulate area ventral part layer 1</td>\n",
       "<td>588</td>\n",
       "<td>40A666</td></tr><tr><td>0</td>\n",
       "<td>ACAv2/3</td>\n",
       "<td>Anterior cingulate area ventral part layer 2/3</td>\n",
       "<td>296</td>\n",
       "<td>40A666</td></tr><tr><td>0</td>\n",
       "<td>ACAv5</td>\n",
       "<td>Anterior cingulate area ventral part layer 5</td>\n",
       "<td>772</td>\n",
       "<td>40A666</td></tr><tr><td>0</td>\n",
       "<td>ACAv6a</td>\n",
       "<td>Anterior cingulate area ventral part 6a</td>\n",
       "<td>810</td>\n",
       "<td>40A666</td></tr><tr><td>0</td>\n",
       "<td>ACAv6b</td>\n",
       "<td>Anterior cingulate area ventral part 6b</td>\n",
       "<td>819</td>\n",
       "<td>40A666</td></tr><tr><td>0</td>\n",
       "<td>ACB</td>\n",
       "<td>Nucleus accumbens</td>\n",
       "<td>56</td>\n",
       "<td>80CDF8</td></tr><tr><td>0</td>\n",
       "<td>ACVI</td>\n",
       "<td>Accessory abducens nucleus</td>\n",
       "<td>568</td>\n",
       "<td>FFB3D9</td></tr><tr><td>0</td>\n",
       "<td>ACVII</td>\n",
       "<td>Accessory facial motor nucleus</td>\n",
       "<td>576</td>\n",
       "<td>FFB3D9</td></tr><tr><td>0</td>\n",
       "<td>AD</td>\n",
       "<td>Anterodorsal nucleus</td>\n",
       "<td>64</td>\n",
       "<td>FF909F</td></tr><tr><td>0</td>\n",
       "<td>ADP</td>\n",
       "<td>Anterodorsal preoptic nucleus</td>\n",
       "<td>72</td>\n",
       "<td>FF5547</td></tr><tr><td>0</td>\n",
       "<td>AHA</td>\n",
       "<td>Anterior hypothalamic area</td>\n",
       "<td>80</td>\n",
       "<td>FF5547</td></tr><tr><td>0</td>\n",
       "<td>AHN</td>\n",
       "<td>Anterior hypothalamic nucleus</td>\n",
       "<td>88</td>\n",
       "<td>FF4C3E</td></tr><tr><td>0</td>\n",
       "<td>AHNa</td>\n",
       "<td>Anterior hypothalamic nucleus anterior part</td>\n",
       "<td>700</td>\n",
       "<td>FF4C3E</td></tr><tr><td>0</td>\n",
       "<td>AHNc</td>\n",
       "<td>Anterior hypothalamic nucleus central part</td>\n",
       "<td>708</td>\n",
       "<td>FF4C3E</td> </tr> </tbody>\n",
       "        </table>\n",
       "        <p>...</p>\n",
       "        <p>Total: 1327</p></div>\n",
       "        "
      ],
      "text/plain": [
       "*ccf_id    *acronym    region_name    region_id     color_code    \n",
       "+--------+ +---------+ +------------+ +-----------+ +------------+\n",
       "0          6b          Layer 6b isoco 16            8ADA87        \n",
       "0          A13         Dopaminergic A 796           F2483B        \n",
       "0          AAA         Anterior amygd 23            80C0E2        \n",
       "0          ACA         Anterior cingu 31            40A666        \n",
       "0          ACA1        Anterior cingu 572           40A666        \n",
       "0          ACA2/3      Anterior cingu 1053          40A666        \n",
       "0          ACA5        Anterior cingu 739           40A666        \n",
       "0          ACA6a       Anterior cingu 179           40A666        \n",
       "0          ACA6b       Anterior cingu 227           40A666        \n",
       "0          ACAd        Anterior cingu 39            40A666        \n",
       "0          ACAd1       Anterior cingu 935           40A666        \n",
       "0          ACAd2/3     Anterior cingu 211           40A666        \n",
       "0          ACAd5       Anterior cingu 1015          40A666        \n",
       "0          ACAd6a      Anterior cingu 919           40A666        \n",
       "0          ACAd6b      Anterior cingu 927           40A666        \n",
       "0          ACAv        Anterior cingu 48            40A666        \n",
       "0          ACAv1       Anterior cingu 588           40A666        \n",
       "0          ACAv2/3     Anterior cingu 296           40A666        \n",
       "0          ACAv5       Anterior cingu 772           40A666        \n",
       "0          ACAv6a      Anterior cingu 810           40A666        \n",
       "0          ACAv6b      Anterior cingu 819           40A666        \n",
       "0          ACB         Nucleus accumb 56            80CDF8        \n",
       "0          ACVI        Accessory abdu 568           FFB3D9        \n",
       "0          ACVII       Accessory faci 576           FFB3D9        \n",
       "0          AD          Anterodorsal n 64            FF909F        \n",
       "0          ADP         Anterodorsal p 72            FF5547        \n",
       "0          AHA         Anterior hypot 80            FF5547        \n",
       "0          AHN         Anterior hypot 88            FF4C3E        \n",
       "0          AHNa        Anterior hypot 700           FF4C3E        \n",
       "0          AHNc        Anterior hypot 708           FF4C3E        \n",
       "   ...\n",
       " (Total: 1327)"
      ]
     },
     "execution_count": 9,
     "metadata": {},
     "output_type": "execute_result"
    }
   ],
   "source": [
    "ccf.BrainRegionAnnotation.BrainRegion()"
   ]
  },
  {
   "cell_type": "markdown",
   "metadata": {},
   "source": [
    "Let's look at the dimensions of the primary somatosensory cortex, which has the acronym `SSp1`. To look at other regions, open the CSV you downloaded and search for your desired region."
   ]
  },
  {
   "cell_type": "code",
   "execution_count": 11,
   "metadata": {},
   "outputs": [
    {
     "data": {
      "text/html": [
       "\n",
       "    \n",
       "    <style type=\"text/css\">\n",
       "        .Relation{\n",
       "            border-collapse:collapse;\n",
       "        }\n",
       "        .Relation th{\n",
       "            background: #A0A0A0; color: #ffffff; padding:4px; border:#f0e0e0 1px solid;\n",
       "            font-weight: normal; font-family: monospace; font-size: 100%;\n",
       "        }\n",
       "        .Relation td{\n",
       "            padding:4px; border:#f0e0e0 1px solid; font-size:100%;\n",
       "        }\n",
       "        .Relation tr:nth-child(odd){\n",
       "            background: #ffffff;\n",
       "        }\n",
       "        .Relation tr:nth-child(even){\n",
       "            background: #f3f1ff;\n",
       "        }\n",
       "        /* Tooltip container */\n",
       "        .djtooltip {\n",
       "        }\n",
       "        /* Tooltip text */\n",
       "        .djtooltip .djtooltiptext {\n",
       "            visibility: hidden;\n",
       "            width: 120px;\n",
       "            background-color: black;\n",
       "            color: #fff;\n",
       "            text-align: center;\n",
       "            padding: 5px 0;\n",
       "            border-radius: 6px;\n",
       "            /* Position the tooltip text - see examples below! */\n",
       "            position: absolute;\n",
       "            z-index: 1;\n",
       "        }\n",
       "        #primary {\n",
       "            font-weight: bold;\n",
       "            color: black;\n",
       "        }\n",
       "        #nonprimary {\n",
       "            font-weight: normal;\n",
       "            color: white;\n",
       "        }\n",
       "\n",
       "        /* Show the tooltip text when you mouse over the tooltip container */\n",
       "        .djtooltip:hover .djtooltiptext {\n",
       "            visibility: visible;\n",
       "        }\n",
       "    </style>\n",
       "    \n",
       "    <b></b>\n",
       "        <div style=\"max-height:1000px;max-width:1500px;overflow:auto;\">\n",
       "        <table border=\"1\" class=\"Relation\">\n",
       "            <thead> <tr style=\"text-align: right;\"> <th> <div class=\"djtooltip\">\n",
       "                            <p id=\"primary\">ccf_id</p>\n",
       "                            <span class=\"djtooltiptext\">CCF ID, a.k.a atlas ID</span>\n",
       "                        </div></th><th><div class=\"djtooltip\">\n",
       "                            <p id=\"primary\">acronym</p>\n",
       "                            <span class=\"djtooltiptext\">CHARACTER SET utf8 COLLATE utf8_bin</span>\n",
       "                        </div></th><th><div class=\"djtooltip\">\n",
       "                            <p id=\"primary\">x</p>\n",
       "                            <span class=\"djtooltiptext\">(um)  Anterior-to-Posterior (AP axis)</span>\n",
       "                        </div></th><th><div class=\"djtooltip\">\n",
       "                            <p id=\"primary\">y</p>\n",
       "                            <span class=\"djtooltiptext\">(um)  Superior-to-Inferior (DV axis)</span>\n",
       "                        </div></th><th><div class=\"djtooltip\">\n",
       "                            <p id=\"primary\">z</p>\n",
       "                            <span class=\"djtooltiptext\">(um)  Left-to-Right (ML axis)</span>\n",
       "                        </div> </th> </tr> </thead>\n",
       "            <tbody> <tr> <td>0</td>\n",
       "<td>SSp1</td>\n",
       "<td>5700</td>\n",
       "<td>5400</td>\n",
       "<td>5400</td></tr><tr><td>0</td>\n",
       "<td>SSp1</td>\n",
       "<td>5700</td>\n",
       "<td>5400</td>\n",
       "<td>5500</td></tr><tr><td>0</td>\n",
       "<td>SSp1</td>\n",
       "<td>5700</td>\n",
       "<td>5400</td>\n",
       "<td>5600</td></tr><tr><td>0</td>\n",
       "<td>SSp1</td>\n",
       "<td>5700</td>\n",
       "<td>5400</td>\n",
       "<td>5800</td></tr><tr><td>0</td>\n",
       "<td>SSp1</td>\n",
       "<td>5700</td>\n",
       "<td>5400</td>\n",
       "<td>5900</td></tr><tr><td>0</td>\n",
       "<td>SSp1</td>\n",
       "<td>5700</td>\n",
       "<td>5500</td>\n",
       "<td>5500</td></tr><tr><td>0</td>\n",
       "<td>SSp1</td>\n",
       "<td>5700</td>\n",
       "<td>5500</td>\n",
       "<td>5600</td></tr><tr><td>0</td>\n",
       "<td>SSp1</td>\n",
       "<td>5700</td>\n",
       "<td>5500</td>\n",
       "<td>5800</td></tr><tr><td>0</td>\n",
       "<td>SSp1</td>\n",
       "<td>5700</td>\n",
       "<td>5500</td>\n",
       "<td>5900</td></tr><tr><td>0</td>\n",
       "<td>SSp1</td>\n",
       "<td>5700</td>\n",
       "<td>5600</td>\n",
       "<td>5600</td></tr><tr><td>0</td>\n",
       "<td>SSp1</td>\n",
       "<td>5700</td>\n",
       "<td>5600</td>\n",
       "<td>5800</td></tr><tr><td>0</td>\n",
       "<td>SSp1</td>\n",
       "<td>5700</td>\n",
       "<td>5700</td>\n",
       "<td>5600</td></tr><tr><td>0</td>\n",
       "<td>SSp1</td>\n",
       "<td>5700</td>\n",
       "<td>5700</td>\n",
       "<td>5800</td></tr><tr><td>0</td>\n",
       "<td>SSp1</td>\n",
       "<td>5800</td>\n",
       "<td>5400</td>\n",
       "<td>5400</td></tr><tr><td>0</td>\n",
       "<td>SSp1</td>\n",
       "<td>5800</td>\n",
       "<td>5400</td>\n",
       "<td>5500</td></tr><tr><td>0</td>\n",
       "<td>SSp1</td>\n",
       "<td>5800</td>\n",
       "<td>5400</td>\n",
       "<td>5600</td></tr><tr><td>0</td>\n",
       "<td>SSp1</td>\n",
       "<td>5800</td>\n",
       "<td>5400</td>\n",
       "<td>5800</td></tr><tr><td>0</td>\n",
       "<td>SSp1</td>\n",
       "<td>5800</td>\n",
       "<td>5400</td>\n",
       "<td>5900</td></tr><tr><td>0</td>\n",
       "<td>SSp1</td>\n",
       "<td>5800</td>\n",
       "<td>5400</td>\n",
       "<td>6000</td></tr><tr><td>0</td>\n",
       "<td>SSp1</td>\n",
       "<td>5800</td>\n",
       "<td>5500</td>\n",
       "<td>5400</td></tr><tr><td>0</td>\n",
       "<td>SSp1</td>\n",
       "<td>5800</td>\n",
       "<td>5500</td>\n",
       "<td>5500</td></tr><tr><td>0</td>\n",
       "<td>SSp1</td>\n",
       "<td>5800</td>\n",
       "<td>5500</td>\n",
       "<td>5600</td></tr><tr><td>0</td>\n",
       "<td>SSp1</td>\n",
       "<td>5800</td>\n",
       "<td>5500</td>\n",
       "<td>5800</td></tr><tr><td>0</td>\n",
       "<td>SSp1</td>\n",
       "<td>5800</td>\n",
       "<td>5500</td>\n",
       "<td>5900</td></tr><tr><td>0</td>\n",
       "<td>SSp1</td>\n",
       "<td>5800</td>\n",
       "<td>5500</td>\n",
       "<td>6000</td></tr><tr><td>0</td>\n",
       "<td>SSp1</td>\n",
       "<td>5800</td>\n",
       "<td>5600</td>\n",
       "<td>5500</td></tr><tr><td>0</td>\n",
       "<td>SSp1</td>\n",
       "<td>5800</td>\n",
       "<td>5600</td>\n",
       "<td>5600</td></tr><tr><td>0</td>\n",
       "<td>SSp1</td>\n",
       "<td>5800</td>\n",
       "<td>5600</td>\n",
       "<td>5800</td></tr><tr><td>0</td>\n",
       "<td>SSp1</td>\n",
       "<td>5800</td>\n",
       "<td>5600</td>\n",
       "<td>5900</td></tr><tr><td>0</td>\n",
       "<td>SSp1</td>\n",
       "<td>5800</td>\n",
       "<td>5700</td>\n",
       "<td>5600</td> </tr> </tbody>\n",
       "        </table>\n",
       "        <p>...</p>\n",
       "        <p>Total: 179</p></div>\n",
       "        "
      ],
      "text/plain": [
       "*ccf_id    *acronym    *x       *y       *z      \n",
       "+--------+ +---------+ +------+ +------+ +------+\n",
       "0          SSp1        5700     5400     5400    \n",
       "0          SSp1        5700     5400     5500    \n",
       "0          SSp1        5700     5400     5600    \n",
       "0          SSp1        5700     5400     5800    \n",
       "0          SSp1        5700     5400     5900    \n",
       "0          SSp1        5700     5500     5500    \n",
       "0          SSp1        5700     5500     5600    \n",
       "0          SSp1        5700     5500     5800    \n",
       "0          SSp1        5700     5500     5900    \n",
       "0          SSp1        5700     5600     5600    \n",
       "0          SSp1        5700     5600     5800    \n",
       "0          SSp1        5700     5700     5600    \n",
       "0          SSp1        5700     5700     5800    \n",
       "0          SSp1        5800     5400     5400    \n",
       "0          SSp1        5800     5400     5500    \n",
       "0          SSp1        5800     5400     5600    \n",
       "0          SSp1        5800     5400     5800    \n",
       "0          SSp1        5800     5400     5900    \n",
       "0          SSp1        5800     5400     6000    \n",
       "0          SSp1        5800     5500     5400    \n",
       "0          SSp1        5800     5500     5500    \n",
       "0          SSp1        5800     5500     5600    \n",
       "0          SSp1        5800     5500     5800    \n",
       "0          SSp1        5800     5500     5900    \n",
       "0          SSp1        5800     5500     6000    \n",
       "0          SSp1        5800     5600     5500    \n",
       "0          SSp1        5800     5600     5600    \n",
       "0          SSp1        5800     5600     5800    \n",
       "0          SSp1        5800     5600     5900    \n",
       "0          SSp1        5800     5700     5600    \n",
       "   ...\n",
       " (Total: 179)"
      ]
     },
     "execution_count": 11,
     "metadata": {},
     "output_type": "execute_result"
    }
   ],
   "source": [
    "ccf.BrainRegionAnnotation.Voxel() & 'acronym=\"SSp1\"'"
   ]
  },
  {
   "cell_type": "markdown",
   "metadata": {},
   "source": [
    "## Electrode Localization"
   ]
  },
  {
   "cell_type": "markdown",
   "metadata": {},
   "source": [
    "If you have `channel_location` json files for your data, you can look at the position and regions associated with each electrode. Here, we've added an example file to our pre-existing `subject6` for demonstration purposes."
   ]
  },
  {
   "cell_type": "code",
   "execution_count": 6,
   "metadata": {},
   "outputs": [],
   "source": [
    "dj.config.load('dj_local_conf.json')\n",
    "from workflow_array_ephys.pipeline import subject, session, ephys, probe\n",
    "from workflow_array_ephys.localization import electrode_localization as eloc"
   ]
  },
  {
   "cell_type": "code",
   "execution_count": 7,
   "metadata": {},
   "outputs": [],
   "source": [
    "from workflow_array_ephys.localization import electrode_localization as eloc\n",
    "from workflow_array_ephys.localization import coordinate_framework as ccf"
   ]
  },
  {
   "cell_type": "code",
   "execution_count": null,
   "metadata": {},
   "outputs": [],
   "source": [
    "eloc.ElectrodePosition.populate()\n",
    "eloc.ElectrodePosition.Electrode()"
   ]
  },
  {
   "cell_type": "code",
   "execution_count": 2,
   "metadata": {},
   "outputs": [
    {
     "name": "stdout",
     "output_type": "stream",
     "text": [
      "Connecting cbroz@tutorial-db.datajoint.io:3306\n"
     ]
    },
    {
     "data": {
      "text/plain": [
       "DataJoint connection (connected) cbroz@tutorial-db.datajoint.io:3306"
      ]
     },
     "execution_count": 2,
     "metadata": {},
     "output_type": "execute_result"
    }
   ],
   "source": [
    "dj.conn()"
   ]
  },
  {
   "cell_type": "code",
   "execution_count": 4,
   "metadata": {},
   "outputs": [
    {
     "data": {
      "text/plain": [
       "801"
      ]
     },
     "execution_count": 4,
     "metadata": {},
     "output_type": "execute_result"
    }
   ],
   "source": [
    "mydiagram=dj.Diagram(subject).make_dot()\n",
    "mydiagram.write(path='mydiagram_dotfile',format='dot')"
   ]
  },
  {
   "cell_type": "code",
   "execution_count": 25,
   "metadata": {},
   "outputs": [
    {
     "data": {
      "text/plain": [
       "True"
      ]
     },
     "execution_count": 25,
     "metadata": {},
     "output_type": "execute_result"
    }
   ],
   "source": [
    "((dj.Di(ccf) + dj.Di(eloc) -1) + ephys.CuratedClustering + ephys.CuratedClustering.Unit \n",
    " + ephys.EphysRecording\n",
    " + ephys.Clustering).make_dot().write(path='temp_eloc_full', format='dot')"
   ]
  },
  {
   "cell_type": "code",
   "execution_count": 6,
   "metadata": {},
   "outputs": [],
   "source": [
    "from workflow_array_ephys import analysis \n",
    "from workflow_array_ephys.pipeline import trial, event\n",
    "from element_trial.event import *\n",
    "from element_trial.trial import *\n",
    "from element_session.session_with_datetime import Session\n",
    "from element_array_ephys.ephys_no_curation import *"
   ]
  },
  {
   "cell_type": "code",
   "execution_count": 7,
   "metadata": {},
   "outputs": [
    {
     "ename": "DataJointError",
     "evalue": "Class CuratedClustering is not properly declared (schema decorator not applied?)",
     "output_type": "error",
     "traceback": [
      "\u001b[0;31m---------------------------------------------------------------------------\u001b[0m",
      "\u001b[0;31mDataJointError\u001b[0m                            Traceback (most recent call last)",
      "\u001b[0;32m~/miniconda3/envs/venv-nwb/lib/python3.8/site-packages/IPython/core/formatters.py\u001b[0m in \u001b[0;36m__call__\u001b[0;34m(self, obj)\u001b[0m\n\u001b[1;32m    343\u001b[0m             \u001b[0mmethod\u001b[0m \u001b[0;34m=\u001b[0m \u001b[0mget_real_method\u001b[0m\u001b[0;34m(\u001b[0m\u001b[0mobj\u001b[0m\u001b[0;34m,\u001b[0m \u001b[0mself\u001b[0m\u001b[0;34m.\u001b[0m\u001b[0mprint_method\u001b[0m\u001b[0;34m)\u001b[0m\u001b[0;34m\u001b[0m\u001b[0;34m\u001b[0m\u001b[0m\n\u001b[1;32m    344\u001b[0m             \u001b[0;32mif\u001b[0m \u001b[0mmethod\u001b[0m \u001b[0;32mis\u001b[0m \u001b[0;32mnot\u001b[0m \u001b[0;32mNone\u001b[0m\u001b[0;34m:\u001b[0m\u001b[0;34m\u001b[0m\u001b[0;34m\u001b[0m\u001b[0m\n\u001b[0;32m--> 345\u001b[0;31m                 \u001b[0;32mreturn\u001b[0m \u001b[0mmethod\u001b[0m\u001b[0;34m(\u001b[0m\u001b[0;34m)\u001b[0m\u001b[0;34m\u001b[0m\u001b[0;34m\u001b[0m\u001b[0m\n\u001b[0m\u001b[1;32m    346\u001b[0m             \u001b[0;32mreturn\u001b[0m \u001b[0;32mNone\u001b[0m\u001b[0;34m\u001b[0m\u001b[0;34m\u001b[0m\u001b[0m\n\u001b[1;32m    347\u001b[0m         \u001b[0;32melse\u001b[0m\u001b[0;34m:\u001b[0m\u001b[0;34m\u001b[0m\u001b[0;34m\u001b[0m\u001b[0m\n",
      "\u001b[0;32m~/miniconda3/envs/venv-nwb/lib/python3.8/site-packages/datajoint/diagram.py\u001b[0m in \u001b[0;36m_repr_svg_\u001b[0;34m(self)\u001b[0m\n\u001b[1;32m    324\u001b[0m \u001b[0;34m\u001b[0m\u001b[0m\n\u001b[1;32m    325\u001b[0m         \u001b[0;32mdef\u001b[0m \u001b[0m_repr_svg_\u001b[0m\u001b[0;34m(\u001b[0m\u001b[0mself\u001b[0m\u001b[0;34m)\u001b[0m\u001b[0;34m:\u001b[0m\u001b[0;34m\u001b[0m\u001b[0;34m\u001b[0m\u001b[0m\n\u001b[0;32m--> 326\u001b[0;31m             \u001b[0;32mreturn\u001b[0m \u001b[0mself\u001b[0m\u001b[0;34m.\u001b[0m\u001b[0mmake_svg\u001b[0m\u001b[0;34m(\u001b[0m\u001b[0;34m)\u001b[0m\u001b[0;34m.\u001b[0m\u001b[0m_repr_svg_\u001b[0m\u001b[0;34m(\u001b[0m\u001b[0;34m)\u001b[0m\u001b[0;34m\u001b[0m\u001b[0;34m\u001b[0m\u001b[0m\n\u001b[0m\u001b[1;32m    327\u001b[0m \u001b[0;34m\u001b[0m\u001b[0m\n\u001b[1;32m    328\u001b[0m         \u001b[0;32mdef\u001b[0m \u001b[0mdraw\u001b[0m\u001b[0;34m(\u001b[0m\u001b[0mself\u001b[0m\u001b[0;34m)\u001b[0m\u001b[0;34m:\u001b[0m\u001b[0;34m\u001b[0m\u001b[0;34m\u001b[0m\u001b[0m\n",
      "\u001b[0;32m~/miniconda3/envs/venv-nwb/lib/python3.8/site-packages/datajoint/diagram.py\u001b[0m in \u001b[0;36mmake_svg\u001b[0;34m(self)\u001b[0m\n\u001b[1;32m    312\u001b[0m         \u001b[0;32mdef\u001b[0m \u001b[0mmake_svg\u001b[0m\u001b[0;34m(\u001b[0m\u001b[0mself\u001b[0m\u001b[0;34m)\u001b[0m\u001b[0;34m:\u001b[0m\u001b[0;34m\u001b[0m\u001b[0;34m\u001b[0m\u001b[0m\n\u001b[1;32m    313\u001b[0m             \u001b[0;32mfrom\u001b[0m \u001b[0mIPython\u001b[0m\u001b[0;34m.\u001b[0m\u001b[0mdisplay\u001b[0m \u001b[0;32mimport\u001b[0m \u001b[0mSVG\u001b[0m\u001b[0;34m\u001b[0m\u001b[0;34m\u001b[0m\u001b[0m\n\u001b[0;32m--> 314\u001b[0;31m             \u001b[0;32mreturn\u001b[0m \u001b[0mSVG\u001b[0m\u001b[0;34m(\u001b[0m\u001b[0mself\u001b[0m\u001b[0;34m.\u001b[0m\u001b[0mmake_dot\u001b[0m\u001b[0;34m(\u001b[0m\u001b[0;34m)\u001b[0m\u001b[0;34m.\u001b[0m\u001b[0mcreate_svg\u001b[0m\u001b[0;34m(\u001b[0m\u001b[0;34m)\u001b[0m\u001b[0;34m)\u001b[0m\u001b[0;34m\u001b[0m\u001b[0;34m\u001b[0m\u001b[0m\n\u001b[0m\u001b[1;32m    315\u001b[0m \u001b[0;34m\u001b[0m\u001b[0m\n\u001b[1;32m    316\u001b[0m         \u001b[0;32mdef\u001b[0m \u001b[0mmake_png\u001b[0m\u001b[0;34m(\u001b[0m\u001b[0mself\u001b[0m\u001b[0;34m)\u001b[0m\u001b[0;34m:\u001b[0m\u001b[0;34m\u001b[0m\u001b[0;34m\u001b[0m\u001b[0m\n",
      "\u001b[0;32m~/miniconda3/envs/venv-nwb/lib/python3.8/site-packages/datajoint/diagram.py\u001b[0m in \u001b[0;36mmake_dot\u001b[0;34m(self)\u001b[0m\n\u001b[1;32m    251\u001b[0m         \u001b[0;32mdef\u001b[0m \u001b[0mmake_dot\u001b[0m\u001b[0;34m(\u001b[0m\u001b[0mself\u001b[0m\u001b[0;34m)\u001b[0m\u001b[0;34m:\u001b[0m\u001b[0;34m\u001b[0m\u001b[0;34m\u001b[0m\u001b[0m\n\u001b[1;32m    252\u001b[0m \u001b[0;34m\u001b[0m\u001b[0m\n\u001b[0;32m--> 253\u001b[0;31m             \u001b[0mgraph\u001b[0m \u001b[0;34m=\u001b[0m \u001b[0mself\u001b[0m\u001b[0;34m.\u001b[0m\u001b[0m_make_graph\u001b[0m\u001b[0;34m(\u001b[0m\u001b[0;34m)\u001b[0m\u001b[0;34m\u001b[0m\u001b[0;34m\u001b[0m\u001b[0m\n\u001b[0m\u001b[1;32m    254\u001b[0m             \u001b[0mgraph\u001b[0m\u001b[0;34m.\u001b[0m\u001b[0mnodes\u001b[0m\u001b[0;34m(\u001b[0m\u001b[0;34m)\u001b[0m\u001b[0;34m\u001b[0m\u001b[0;34m\u001b[0m\u001b[0m\n\u001b[1;32m    255\u001b[0m \u001b[0;34m\u001b[0m\u001b[0m\n",
      "\u001b[0;32m~/miniconda3/envs/venv-nwb/lib/python3.8/site-packages/datajoint/diagram.py\u001b[0m in \u001b[0;36m_make_graph\u001b[0;34m(self)\u001b[0m\n\u001b[1;32m    240\u001b[0m                                                                     for n in graph})\n\u001b[1;32m    241\u001b[0m             \u001b[0;31m# relabel nodes to class names\u001b[0m\u001b[0;34m\u001b[0m\u001b[0;34m\u001b[0m\u001b[0;34m\u001b[0m\u001b[0m\n\u001b[0;32m--> 242\u001b[0;31m             mapping = {node: lookup_class_name(node, self.context) or node\n\u001b[0m\u001b[1;32m    243\u001b[0m                        for node in graph.nodes()}\n\u001b[1;32m    244\u001b[0m             \u001b[0mnew_names\u001b[0m \u001b[0;34m=\u001b[0m \u001b[0;34m[\u001b[0m\u001b[0mmapping\u001b[0m\u001b[0;34m.\u001b[0m\u001b[0mvalues\u001b[0m\u001b[0;34m(\u001b[0m\u001b[0;34m)\u001b[0m\u001b[0;34m]\u001b[0m\u001b[0;34m\u001b[0m\u001b[0;34m\u001b[0m\u001b[0m\n",
      "\u001b[0;32m~/miniconda3/envs/venv-nwb/lib/python3.8/site-packages/datajoint/diagram.py\u001b[0m in \u001b[0;36m<dictcomp>\u001b[0;34m(.0)\u001b[0m\n\u001b[1;32m    240\u001b[0m                                                                     for n in graph})\n\u001b[1;32m    241\u001b[0m             \u001b[0;31m# relabel nodes to class names\u001b[0m\u001b[0;34m\u001b[0m\u001b[0;34m\u001b[0m\u001b[0;34m\u001b[0m\u001b[0m\n\u001b[0;32m--> 242\u001b[0;31m             mapping = {node: lookup_class_name(node, self.context) or node\n\u001b[0m\u001b[1;32m    243\u001b[0m                        for node in graph.nodes()}\n\u001b[1;32m    244\u001b[0m             \u001b[0mnew_names\u001b[0m \u001b[0;34m=\u001b[0m \u001b[0;34m[\u001b[0m\u001b[0mmapping\u001b[0m\u001b[0;34m.\u001b[0m\u001b[0mvalues\u001b[0m\u001b[0;34m(\u001b[0m\u001b[0;34m)\u001b[0m\u001b[0;34m]\u001b[0m\u001b[0;34m\u001b[0m\u001b[0;34m\u001b[0m\u001b[0m\n",
      "\u001b[0;32m~/miniconda3/envs/venv-nwb/lib/python3.8/site-packages/datajoint/table.py\u001b[0m in \u001b[0;36mlookup_class_name\u001b[0;34m(name, context, depth)\u001b[0m\n\u001b[1;32m    719\u001b[0m             \u001b[0;32mif\u001b[0m \u001b[0;32mnot\u001b[0m \u001b[0mmember_name\u001b[0m\u001b[0;34m.\u001b[0m\u001b[0mstartswith\u001b[0m\u001b[0;34m(\u001b[0m\u001b[0;34m'_'\u001b[0m\u001b[0;34m)\u001b[0m\u001b[0;34m:\u001b[0m  \u001b[0;31m# skip IPython's implicit variables\u001b[0m\u001b[0;34m\u001b[0m\u001b[0;34m\u001b[0m\u001b[0m\n\u001b[1;32m    720\u001b[0m                 \u001b[0;32mif\u001b[0m \u001b[0minspect\u001b[0m\u001b[0;34m.\u001b[0m\u001b[0misclass\u001b[0m\u001b[0;34m(\u001b[0m\u001b[0mmember\u001b[0m\u001b[0;34m)\u001b[0m \u001b[0;32mand\u001b[0m \u001b[0missubclass\u001b[0m\u001b[0;34m(\u001b[0m\u001b[0mmember\u001b[0m\u001b[0;34m,\u001b[0m \u001b[0mTable\u001b[0m\u001b[0;34m)\u001b[0m\u001b[0;34m:\u001b[0m\u001b[0;34m\u001b[0m\u001b[0;34m\u001b[0m\u001b[0m\n\u001b[0;32m--> 721\u001b[0;31m                     \u001b[0;32mif\u001b[0m \u001b[0mmember\u001b[0m\u001b[0;34m.\u001b[0m\u001b[0mfull_table_name\u001b[0m \u001b[0;34m==\u001b[0m \u001b[0mname\u001b[0m\u001b[0;34m:\u001b[0m   \u001b[0;31m# found it!\u001b[0m\u001b[0;34m\u001b[0m\u001b[0;34m\u001b[0m\u001b[0m\n\u001b[0m\u001b[1;32m    722\u001b[0m                         \u001b[0;32mreturn\u001b[0m \u001b[0;34m'.'\u001b[0m\u001b[0;34m.\u001b[0m\u001b[0mjoin\u001b[0m\u001b[0;34m(\u001b[0m\u001b[0;34m[\u001b[0m\u001b[0mnode\u001b[0m\u001b[0;34m[\u001b[0m\u001b[0;34m'context_name'\u001b[0m\u001b[0;34m]\u001b[0m\u001b[0;34m,\u001b[0m  \u001b[0mmember_name\u001b[0m\u001b[0;34m]\u001b[0m\u001b[0;34m)\u001b[0m\u001b[0;34m.\u001b[0m\u001b[0mlstrip\u001b[0m\u001b[0;34m(\u001b[0m\u001b[0;34m'.'\u001b[0m\u001b[0;34m)\u001b[0m\u001b[0;34m\u001b[0m\u001b[0;34m\u001b[0m\u001b[0m\n\u001b[1;32m    723\u001b[0m                     \u001b[0;32mtry\u001b[0m\u001b[0;34m:\u001b[0m  \u001b[0;31m# look for part tables\u001b[0m\u001b[0;34m\u001b[0m\u001b[0;34m\u001b[0m\u001b[0m\n",
      "\u001b[0;32m~/miniconda3/envs/venv-nwb/lib/python3.8/site-packages/datajoint/user_tables.py\u001b[0m in \u001b[0;36m__getattribute__\u001b[0;34m(cls, name)\u001b[0m\n\u001b[1;32m     28\u001b[0m         \u001b[0;31m# trigger instantiation for supported class attrs\u001b[0m\u001b[0;34m\u001b[0m\u001b[0;34m\u001b[0m\u001b[0;34m\u001b[0m\u001b[0m\n\u001b[1;32m     29\u001b[0m         return (cls().__getattribute__(name) if name in supported_class_attrs\n\u001b[0;32m---> 30\u001b[0;31m                 else super().__getattribute__(name))\n\u001b[0m\u001b[1;32m     31\u001b[0m \u001b[0;34m\u001b[0m\u001b[0m\n\u001b[1;32m     32\u001b[0m     \u001b[0;32mdef\u001b[0m \u001b[0m__and__\u001b[0m\u001b[0;34m(\u001b[0m\u001b[0mcls\u001b[0m\u001b[0;34m,\u001b[0m \u001b[0marg\u001b[0m\u001b[0;34m)\u001b[0m\u001b[0;34m:\u001b[0m\u001b[0;34m\u001b[0m\u001b[0;34m\u001b[0m\u001b[0m\n",
      "\u001b[0;32m~/miniconda3/envs/venv-nwb/lib/python3.8/site-packages/datajoint/utils.py\u001b[0m in \u001b[0;36m__get__\u001b[0;34m(self, obj, owner)\u001b[0m\n\u001b[1;32m     12\u001b[0m \u001b[0;34m\u001b[0m\u001b[0m\n\u001b[1;32m     13\u001b[0m     \u001b[0;32mdef\u001b[0m \u001b[0m__get__\u001b[0m\u001b[0;34m(\u001b[0m\u001b[0mself\u001b[0m\u001b[0;34m,\u001b[0m \u001b[0mobj\u001b[0m\u001b[0;34m,\u001b[0m \u001b[0mowner\u001b[0m\u001b[0;34m)\u001b[0m\u001b[0;34m:\u001b[0m\u001b[0;34m\u001b[0m\u001b[0;34m\u001b[0m\u001b[0m\n\u001b[0;32m---> 14\u001b[0;31m         \u001b[0;32mreturn\u001b[0m \u001b[0mself\u001b[0m\u001b[0;34m.\u001b[0m\u001b[0mf\u001b[0m\u001b[0;34m(\u001b[0m\u001b[0mowner\u001b[0m\u001b[0;34m)\u001b[0m\u001b[0;34m\u001b[0m\u001b[0;34m\u001b[0m\u001b[0m\n\u001b[0m\u001b[1;32m     15\u001b[0m \u001b[0;34m\u001b[0m\u001b[0m\n\u001b[1;32m     16\u001b[0m \u001b[0;34m\u001b[0m\u001b[0m\n",
      "\u001b[0;32m~/miniconda3/envs/venv-nwb/lib/python3.8/site-packages/datajoint/user_tables.py\u001b[0m in \u001b[0;36mfull_table_name\u001b[0;34m(cls)\u001b[0m\n\u001b[1;32m     95\u001b[0m             \u001b[0;31m# for derived classes only\u001b[0m\u001b[0;34m\u001b[0m\u001b[0;34m\u001b[0m\u001b[0;34m\u001b[0m\u001b[0m\n\u001b[1;32m     96\u001b[0m             \u001b[0;32mif\u001b[0m \u001b[0mcls\u001b[0m\u001b[0;34m.\u001b[0m\u001b[0mdatabase\u001b[0m \u001b[0;32mis\u001b[0m \u001b[0;32mNone\u001b[0m\u001b[0;34m:\u001b[0m\u001b[0;34m\u001b[0m\u001b[0;34m\u001b[0m\u001b[0m\n\u001b[0;32m---> 97\u001b[0;31m                 raise DataJointError(\n\u001b[0m\u001b[1;32m     98\u001b[0m                     \u001b[0;34m'Class %s is not properly declared (schema decorator not applied?)'\u001b[0m \u001b[0;34m%\u001b[0m\u001b[0;34m\u001b[0m\u001b[0;34m\u001b[0m\u001b[0m\n\u001b[1;32m     99\u001b[0m                     cls.__name__)\n",
      "\u001b[0;31mDataJointError\u001b[0m: Class CuratedClustering is not properly declared (schema decorator not applied?)"
     ]
    },
    {
     "data": {
      "text/plain": [
       "<datajoint.diagram.Diagram at 0x7f7d3202aa30>"
      ]
     },
     "execution_count": 7,
     "metadata": {},
     "output_type": "execute_result"
    }
   ],
   "source": [
    "#dj.Di(trial) + dj.Di(event) -1 + \n",
    "(dj.Di(analysis) - 1 + BehaviorRecording + Session)#.make_dot().write(path='temp_ev', format='dot')"
   ]
  },
  {
   "cell_type": "code",
   "execution_count": 32,
   "metadata": {},
   "outputs": [],
   "source": [
    "from workflow_array_ephys import analysis"
   ]
  },
  {
   "cell_type": "code",
   "execution_count": 31,
   "metadata": {},
   "outputs": [
    {
     "data": {
      "text/plain": [
       "['spikes_alignment_condition',\n",
       " 'spikes_alignment_condition__trial',\n",
       " '__spikes_alignment',\n",
       " '__spikes_alignment__aligned_trial_spikes',\n",
       " '__spikes_alignment__unit_p_s_t_h']"
      ]
     },
     "execution_count": 31,
     "metadata": {},
     "output_type": "execute_result"
    }
   ],
   "source": [
    "dj.schema('cbroz_analysis').list_tables()"
   ]
  },
  {
   "cell_type": "code",
   "execution_count": null,
   "metadata": {},
   "outputs": [],
   "source": []
  }
 ],
 "metadata": {
  "jupytext": {
   "formats": "ipynb,py"
  },
  "kernelspec": {
   "display_name": "venv-nwb",
   "language": "python",
   "name": "venv-nwb"
  },
  "language_info": {
   "codemirror_mode": {
    "name": "ipython",
    "version": 3
   },
   "file_extension": ".py",
   "mimetype": "text/x-python",
   "name": "python",
   "nbconvert_exporter": "python",
   "pygments_lexer": "ipython3",
   "version": "3.8.11"
  }
 },
 "nbformat": 4,
 "nbformat_minor": 4
}
