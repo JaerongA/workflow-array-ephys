{
 "cells": [
  {
   "cell_type": "markdown",
   "metadata": {},
   "source": [
    "# Electrode Localization"
   ]
  },
  {
   "cell_type": "markdown",
   "metadata": {},
   "source": [
    "Change into the parent directory to find the `dj_local_conf.json` file."
   ]
  },
  {
   "cell_type": "code",
   "execution_count": 1,
   "metadata": {},
   "outputs": [],
   "source": [
    "import os\n",
    "import datajoint as dj\n",
    "# change to the upper level folder to detect dj_local_conf.json\n",
    "if os.path.basename(os.getcwd())=='notebooks': os.chdir('..')\n",
    "assert os.path.basename(os.getcwd())=='workflow-array-ephys', (\"Please move to the \"\n",
    "                                                               + \"workflow directory\")"
   ]
  },
  {
   "cell_type": "markdown",
   "metadata": {},
   "source": [
    "The Allen Institute hosts [brain atlases](http://download.alleninstitute.org/informatics-archive/current-release/mouse_ccf/annotation/ccf_2017) and [ontology trees](https://community.brain-map.org/t/allen-mouse-ccf-accessing-and-using-related-data-and-tools/359) that we'll use in the next section.\n",
    "1. Download the `nrrd` and `csv` files that correspond too your desired resolution\n",
    "2. Move these files to your ephys root directory."
   ]
  },
  {
   "cell_type": "code",
   "execution_count": null,
   "metadata": {},
   "outputs": [],
   "source": [
    "resolution = 100\n",
    "from element_interface.utils import find_full_path\n",
    "from workflow_array_ephys.paths import get_ephys_root_data_dir\n",
    "nrrd_filepath = find_full_path(get_ephys_root_data_dir(), \n",
    "                               f'annotation_{resolution}.nrrd')\n",
    "ontology_csv_filepath = find_full_path(get_ephys_root_data_dir(), 'query.csv')"
   ]
  },
  {
   "cell_type": "markdown",
   "metadata": {},
   "source": [
    "Next, we'll load ccf annotation information from some of the IDs defined by the above CSV. This tutorial highlights IDs in the limbic system."
   ]
  },
  {
   "cell_type": "code",
   "execution_count": null,
   "metadata": {},
   "outputs": [],
   "source": [
    "from element_electrode_localization.coordinate_framework import load_ccf_annotation"
   ]
  },
  {
   "cell_type": "code",
   "execution_count": 1,
   "metadata": {},
   "outputs": [],
   "source": [
    "ids = [972] #, 171, 195, 304, 363, 84, 132, 44, 707, 747, 556, 827, 1054, 1081]\n",
    "for n in ids:\n",
    "    load_ccf_annotation(\n",
    "        ccf_id=n, version_name='ccf_2017', voxel_resolution=resolution,\n",
    "        nrrd_filepath=nrrd_filepath,\n",
    "        ontology_csv_filepath=ontology_csv_filepath)"
   ]
  }
 ],
 "metadata": {
  "jupytext": {
   "formats": "ipynb,py"
  },
  "kernelspec": {
   "display_name": "venv-nwb",
   "language": "python",
   "name": "venv-nwb"
  },
  "language_info": {
   "codemirror_mode": {
    "name": "ipython",
    "version": 3
   },
   "file_extension": ".py",
   "mimetype": "text/x-python",
   "name": "python",
   "nbconvert_exporter": "python",
   "pygments_lexer": "ipython3",
   "version": "3.8.11"
  }
 },
 "nbformat": 4,
 "nbformat_minor": 4
}
