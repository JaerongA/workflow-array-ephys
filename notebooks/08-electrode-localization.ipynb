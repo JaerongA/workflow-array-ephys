{
 "cells": [
  {
   "cell_type": "markdown",
   "metadata": {},
   "source": [
    "# Electrode Localization"
   ]
  },
  {
   "cell_type": "markdown",
   "metadata": {},
   "source": [
    "Change into the parent directory to find the `dj_local_conf.json` file."
   ]
  },
  {
   "cell_type": "code",
   "execution_count": 1,
   "metadata": {},
   "outputs": [],
   "source": [
    "import os\n",
    "import datajoint as dj\n",
    "# change to the upper level folder to detect dj_local_conf.json\n",
    "if os.path.basename(os.getcwd())=='notebooks': os.chdir('..')\n",
    "assert os.path.basename(os.getcwd())=='workflow-array-ephys', (\"Please move to the \"\n",
    "                                                               + \"workflow directory\")"
   ]
  },
  {
   "cell_type": "markdown",
   "metadata": {},
   "source": [
    "The Allen Institute hosts [brain atlases](http://download.alleninstitute.org/informatics-archive/current-release/mouse_ccf/annotation/ccf_2017) and [ontology trees](https://community.brain-map.org/t/allen-mouse-ccf-accessing-and-using-related-data-and-tools/359) that we'll use in the next section.\n",
    "1. Download the `nrrd` and `csv` files that correspond too your desired resolution\n",
    "2. Move these files to your ephys root directory.\n",
    "\n",
    "Note that the higher resolution (i.e., lower number) files are quite large when loaded. Depending on the python environment, the terminal may be killed when loading so much information into memory."
   ]
  },
  {
   "cell_type": "code",
   "execution_count": null,
   "metadata": {},
   "outputs": [],
   "source": [
    "resolution = 100\n",
    "from element_interface.utils import find_full_path\n",
    "from workflow_array_ephys.paths import get_ephys_root_data_dir\n",
    "nrrd_filepath = find_full_path(get_ephys_root_data_dir(), \n",
    "                               f'annotation_{resolution}.nrrd')\n",
    "ontology_csv_filepath = find_full_path(get_ephys_root_data_dir(), 'query.csv')"
   ]
  },
  {
   "cell_type": "markdown",
   "metadata": {},
   "source": [
    "Next, we'll load annotation information from the files above to generate a set of lookup tables for the entire brain volume."
   ]
  },
  {
   "cell_type": "code",
   "execution_count": null,
   "metadata": {},
   "outputs": [],
   "source": [
    "from workflow_array_ephys.localization import coordinate_framework as ccf\n",
    "from element_electrode_localization.coordinate_framework import load_ccf_annotation\n",
    "load_ccf_annotation(\n",
    "    ccf_id=0, version_name='ccf_2017', voxel_resolution=resolution,\n",
    "    nrrd_filepath=nrrd_filepath,\n",
    "    ontology_csv_filepath=ontology_csv_filepath)"
   ]
  },
  {
   "cell_type": "markdown",
   "metadata": {},
   "source": [
    "Now, to explore the data we just loaded."
   ]
  },
  {
   "cell_type": "code",
   "execution_count": null,
   "metadata": {},
   "outputs": [],
   "source": [
    "ccf.BrainRegionAnnotation.BrainRegion()"
   ]
  },
  {
   "cell_type": "code",
   "execution_count": null,
   "metadata": {},
   "outputs": [],
   "source": [
    "ccf.BrainRegionAnnotation.Voxel()"
   ]
  },
  {
   "cell_type": "markdown",
   "metadata": {},
   "source": [
    "If you have `channel_location` json files for your data, you can look at the position and regions associated with each electrode."
   ]
  },
  {
   "cell_type": "code",
   "execution_count": null,
   "metadata": {},
   "outputs": [],
   "source": [
    "from workflow_array_ephys.localization import electrode_localization as eloc\n",
    "eloc.ElectrodePosition.populate()"
   ]
  },
  {
   "cell_type": "code",
   "execution_count": null,
   "metadata": {},
   "outputs": [],
   "source": [
    "eloc.ElectrodePosition.Electrode()"
   ]
  }
 ],
 "metadata": {
  "jupytext": {
   "formats": "ipynb,py"
  },
  "kernelspec": {
   "display_name": "venv-nwb",
   "language": "python",
   "name": "venv-nwb"
  },
  "language_info": {
   "codemirror_mode": {
    "name": "ipython",
    "version": 3
   },
   "file_extension": ".py",
   "mimetype": "text/x-python",
   "name": "python",
   "nbconvert_exporter": "python",
   "pygments_lexer": "ipython3",
   "version": "3.8.11"
  }
 },
 "nbformat": 4,
 "nbformat_minor": 4
}
