{
 "cells": [
  {
   "cell_type": "markdown",
   "id": "11e51a9c",
   "metadata": {},
   "source": [
    "# Allen Institute Ephys Workshop\n",
    "September 22, 2022\n",
    "+ In this notebook, we will show how to interact with a database in Python and how export data into a Neurodata Without Borders (NWB) file.\n",
    "\n",
    "+ Other notebooks in this directory describe the process for running the analysis steps in more detail.\n",
    "\n",
    "+ This notebook is meant to be run on CodeBook (`https://codebook.datajoint.io`) which contains example data.\n",
    "\n",
    "+ First run the `01-configure` and `04-automate` notebooks to set up your environment and load example data into the database, respectively."
   ]
  },
  {
   "cell_type": "markdown",
   "id": "14a6ba1d",
   "metadata": {},
   "source": [
    "## Configuration"
   ]
  },
  {
   "cell_type": "code",
   "execution_count": null,
   "id": "e1e0295c-57bf-49d2-9a1e-931d0e53264b",
   "metadata": {},
   "outputs": [],
   "source": [
    "import datajoint as dj\n",
    "import numpy as np\n",
    "from matplotlib import pyplot"
   ]
  },
  {
   "cell_type": "markdown",
   "id": "e652916f",
   "metadata": {},
   "source": [
    "Enter database credentials.  A DataJoint workflow requires a connection to an existing relational database. The connection setup parameters are defined in the `dj.config` python dictionary."
   ]
  },
  {
   "cell_type": "code",
   "execution_count": null,
   "id": "fdc35bd8-2381-4769-9f43-33a7f3fd2332",
   "metadata": {
    "tags": []
   },
   "outputs": [],
   "source": [
    "dj.config['custom'] = {'database.prefix': '<username>_allen_ephys_',\n",
    "                       'ephys_root_data_dir': [\"/tmp/test_data/workflow_ephys_data1/\",\n",
    "                                            \"/tmp/test_data/workflow_ephys_data2/\",\n",
    "                                            \"/tmp/test_data/workflow_localization/\", \n",
    "                                            \"/home/inbox/0.1.0a4/workflow_ephys_data1/\",\n",
    "                                            \"/home/inbox/0.1.0a4/workflow_ephys_data2/\",\n",
    "                                            \"/home/inbox/0.1.0a4/workflow_localization/\"\n",
    "                                            ]}"
   ]
  },
  {
   "cell_type": "markdown",
   "id": "7c545770",
   "metadata": {},
   "source": [
    "Import the workflow.  The current workflow is composed of multiple database schemas, each of them corresponding to a module within the `workflow_array_ephys.pipeline` file."
   ]
  },
  {
   "cell_type": "code",
   "execution_count": null,
   "id": "ee08b24f",
   "metadata": {},
   "outputs": [],
   "source": [
    "from workflow_array_ephys.pipeline import lab, subject, session, probe, ephys"
   ]
  },
  {
   "cell_type": "markdown",
   "id": "2bd6d86b",
   "metadata": {},
   "source": [
    "## Workflow diagram\n",
    "\n",
    "Plot the workflow diagram.  In relational databases, the entities (i.e. rows) in different tables are connected to each other. Visualization of this relationship helps one to write accurate queries. For the array ephys workflow, this connection is as follows:"
   ]
  },
  {
   "cell_type": "code",
   "execution_count": null,
   "id": "8dd6d3ee",
   "metadata": {
    "tags": []
   },
   "outputs": [],
   "source": [
    "dj.Diagram(lab.Lab) + dj.Diagram(subject.Subject) + dj.Diagram(session.Session) + \\\n",
    "dj.Diagram(probe) + dj.Diagram(ephys)"
   ]
  },
  {
   "cell_type": "code",
   "execution_count": null,
   "id": "1caa7ced-93f6-4182-aa57-61bfbf961d38",
   "metadata": {},
   "outputs": [],
   "source": [
    "subject.Subject()"
   ]
  },
  {
   "cell_type": "code",
   "execution_count": null,
   "id": "a110dca3-9149-40dd-8776-5b61476ccda1",
   "metadata": {},
   "outputs": [],
   "source": [
    "ephys.EphysRecording()"
   ]
  },
  {
   "cell_type": "code",
   "execution_count": null,
   "id": "9a4ea243",
   "metadata": {},
   "outputs": [],
   "source": [
    "ephys.CuratedClustering.Unit()"
   ]
  },
  {
   "cell_type": "markdown",
   "id": "5ca53cb7",
   "metadata": {},
   "source": [
    "## Fetch data from the database and generate a raster plot"
   ]
  },
  {
   "cell_type": "code",
   "execution_count": null,
   "id": "955af65d",
   "metadata": {},
   "outputs": [],
   "source": [
    "subset=ephys.CuratedClustering.Unit & 'unit IN (\"6\",\"7\",\"9\",\"14\",\"15\",\"17\",\"19\")'\n",
    "subset"
   ]
  },
  {
   "cell_type": "markdown",
   "id": "509d5335",
   "metadata": {},
   "source": [
    "Fetch the spike times from the database for the units above."
   ]
  },
  {
   "cell_type": "code",
   "execution_count": null,
   "id": "96c1a6cd",
   "metadata": {},
   "outputs": [],
   "source": [
    "units, unit_spiketimes = (subset).fetch(\"unit\", \"spike_times\")"
   ]
  },
  {
   "cell_type": "markdown",
   "id": "a9bc7039",
   "metadata": {},
   "source": [
    "Generate the raster plot."
   ]
  },
  {
   "cell_type": "code",
   "execution_count": null,
   "id": "a9a2cd6a",
   "metadata": {},
   "outputs": [],
   "source": [
    "x = np.hstack(unit_spiketimes)\n",
    "y = np.hstack([np.full_like(s, u) for u, s in zip(units, unit_spiketimes)])\n",
    "\n",
    "pyplot.plot(x, y, \"|\")\n",
    "pyplot.set_xlabel(\"Time (s)\")\n",
    "pyplot.set_ylabel(\"Unit\")"
   ]
  },
  {
   "cell_type": "markdown",
   "id": "68559c95-3c4e-4c6a-acbb-c06796a8399c",
   "metadata": {},
   "source": [
    "## Export to NWB\n",
    "\n",
    "The Element's `ecephys_session_to_nwb` function provides a full export mechanism, returning an NWB file with raw data, spikes, and LFP. Optional arguments determine which pieces are exported. For demonstration purposes, we recommend limiting `end_frame`."
   ]
  },
  {
   "cell_type": "code",
   "execution_count": null,
   "id": "917eff20",
   "metadata": {},
   "outputs": [],
   "source": [
    "from workflow_array_ephys.export import ecephys_session_to_nwb, write_nwb"
   ]
  },
  {
   "cell_type": "code",
   "execution_count": null,
   "id": "6b01dfad",
   "metadata": {},
   "outputs": [],
   "source": [
    "help(ecephys_session_to_nwb)"
   ]
  },
  {
   "cell_type": "markdown",
   "id": "236ab592",
   "metadata": {},
   "source": [
    "Select an experimental session to export."
   ]
  },
  {
   "cell_type": "code",
   "execution_count": null,
   "id": "552e03ae",
   "metadata": {},
   "outputs": [],
   "source": [
    "dj.Diagram(subject.Subject) + dj.Diagram(session.Session) + \\\n",
    "dj.Diagram(probe) + dj.Diagram(ephys)"
   ]
  },
  {
   "cell_type": "code",
   "execution_count": null,
   "id": "e7a45887",
   "metadata": {},
   "outputs": [],
   "source": [
    "session_key=dict(subject=\"subject5\",\n",
    "                 session_datetime=\"2018-07-03 20:32:28\")"
   ]
  },
  {
   "cell_type": "markdown",
   "id": "8d6591a6",
   "metadata": {},
   "source": [
    "Return the NWBFile object for the selected experimental session."
   ]
  },
  {
   "cell_type": "code",
   "execution_count": null,
   "id": "5fb498b3",
   "metadata": {},
   "outputs": [],
   "source": [
    "nwbfile = ecephys_session_to_nwb(session_key=session_key,\n",
    "                                 raw=True,\n",
    "                                 spikes=True,\n",
    "                                 lfp=\"dj\",\n",
    "                                 end_frame=100,\n",
    "                                 lab_key=dict(lab='LabA'),\n",
    "                                 project_key=dict(project='ProjA'),\n",
    "                                 protocol_key=dict(protocol='ProtA'),\n",
    "                                 nwbfile_kwargs=None)"
   ]
  },
  {
   "cell_type": "code",
   "execution_count": null,
   "id": "ec0841aa",
   "metadata": {},
   "outputs": [],
   "source": [
    "nwbfile"
   ]
  },
  {
   "cell_type": "markdown",
   "id": "6836ae36",
   "metadata": {},
   "source": [
    "`write_nwb` can then be used to write this file to disk."
   ]
  },
  {
   "cell_type": "code",
   "execution_count": null,
   "id": "637b9ec1",
   "metadata": {},
   "outputs": [],
   "source": [
    "import time\n",
    "nwb_filename = f\"/home/{dj.config['database.user']}/\"+time.strftime(\"_test_%Y%m%d-%H%M%S.nwb\")\n",
    "\n",
    "write_nwb(nwbfile, nwb_filename)"
   ]
  },
  {
   "cell_type": "markdown",
   "id": "42e7664f",
   "metadata": {},
   "source": [
    "Next, the NWB file can be uploaded to DANDI.  See the `09-NWB-Export` notebook for more details."
   ]
  },
  {
   "cell_type": "markdown",
   "id": "4c8087a9",
   "metadata": {},
   "source": [
    "## Summary and next steps\n",
    "\n",
    "In this notebook we explored how to query and fetch data from the database, and export an experimental ephys session to a NWB file.  Next, please explore more of the features of the DataJoint Elements in the other notebooks.  Once you are ready to begin setting up your pipeline, fork this repository on GitHub and begin adapting it for your projects requirements."
   ]
  }
 ],
 "metadata": {
  "jupytext": {
   "formats": "ipynb,py"
  },
  "kernelspec": {
   "display_name": "Python 3.7.9 ('workflow-calcium-imaging')",
   "language": "python",
   "name": "python3"
  },
  "language_info": {
   "codemirror_mode": {
    "name": "ipython",
    "version": 3
   },
   "file_extension": ".py",
   "mimetype": "text/x-python",
   "name": "python",
   "nbconvert_exporter": "python",
   "pygments_lexer": "ipython3",
   "version": "3.7.9"
  },
  "vscode": {
   "interpreter": {
    "hash": "2da0f701b958ef27dbb9ddfd0ee0eb0d75664c3cb2b4bc67fd0780a51e2b3863"
   }
  }
 },
 "nbformat": 4,
 "nbformat_minor": 5
}
